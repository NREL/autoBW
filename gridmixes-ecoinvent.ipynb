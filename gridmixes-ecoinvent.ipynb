{
 "cells": [
  {
   "cell_type": "code",
   "execution_count": 141,
   "id": "074ae48b",
   "metadata": {},
   "outputs": [],
   "source": [
    "import brightway2 as bw\n",
    "import pandas as pd\n",
    "import numpy as np"
   ]
  },
  {
   "cell_type": "code",
   "execution_count": 2,
   "id": "699a3a57",
   "metadata": {},
   "outputs": [],
   "source": [
    "bw.projects.set_current('ecoinvent3.8')"
   ]
  },
  {
   "cell_type": "markdown",
   "id": "8034ad09",
   "metadata": {},
   "source": [
    "Ecoinvent contains grid mixes for the U.S. electric regions listed in the cell below.\n",
    "\n",
    "Source: Ecoinvent electricity writeup at\n",
    "https://proyectaryproducir.com.ar/public_html/Seminarios_Posgrado/Material_de_referencia/ecoinvent-electricity%20datasets%20201305%20final.pdf"
   ]
  },
  {
   "cell_type": "code",
   "execution_count": 8,
   "id": "592303ce",
   "metadata": {},
   "outputs": [],
   "source": [
    "elec_locs = ['FRCC', 'ASCC', 'HICC', \n",
    "             'MRO', 'NPCC', 'RFC', \n",
    "             'SERC', 'SPP', 'TRE',\n",
    "             'WECC']"
   ]
  },
  {
   "cell_type": "markdown",
   "id": "1914aafa",
   "metadata": {},
   "source": []
  },
  {
   "cell_type": "code",
   "execution_count": 78,
   "id": "9c05ac59",
   "metadata": {},
   "outputs": [],
   "source": [
    "elec = [i for i in bw.Database('ecoinvent3.7.1 cut-off') \n",
    "             for loc in elec_locs \n",
    "             if (loc in i.as_dict()['location'])\n",
    "        and ('electricity' in i.as_dict()['name'])]"
   ]
  },
  {
   "cell_type": "code",
   "execution_count": 79,
   "id": "831635d9",
   "metadata": {},
   "outputs": [
    {
     "data": {
      "text/plain": [
       "['electricity production, lignite' (kilowatt hour, US-RFC, None),\n",
       " 'electricity production, lignite' (kilowatt hour, US-SERC, None),\n",
       " 'market for electricity, low voltage' (kilowatt hour, US-FRCC, None),\n",
       " 'electricity, high voltage, production mix' (kilowatt hour, US-WECC, None),\n",
       " 'electricity production, wind, <1MW turbine, onshore' (kilowatt hour, US-NPCC, None),\n",
       " 'electricity production, nuclear, boiling water reactor' (kilowatt hour, US-SERC, None),\n",
       " 'electricity production, natural gas, conventional power plant' (kilowatt hour, US-WECC, None),\n",
       " 'electricity production, nuclear, boiling water reactor' (kilowatt hour, US-WECC, None),\n",
       " 'electricity production, wind, 1-3MW turbine, onshore' (kilowatt hour, US-MRO, None),\n",
       " 'electricity production, lignite' (kilowatt hour, US-TRE, None),\n",
       " 'electricity, high voltage, production mix' (kilowatt hour, US-RFC, None),\n",
       " 'electricity production, photovoltaic, 570kWp open ground installation, multi-Si' (kilowatt hour, US-HICC, None),\n",
       " 'electricity production, hydro, run-of-river' (kilowatt hour, US-NPCC, None),\n",
       " 'electricity production, hydro, run-of-river' (kilowatt hour, US-MRO, None),\n",
       " 'electricity production, natural gas, conventional power plant' (kilowatt hour, US-FRCC, None),\n",
       " 'electricity production, hydro, run-of-river' (kilowatt hour, US-HICC, None),\n",
       " 'electricity production, photovoltaic, 570kWp open ground installation, multi-Si' (kilowatt hour, US-NPCC, None),\n",
       " 'market for electricity, medium voltage' (kilowatt hour, US-HICC, None),\n",
       " 'electricity production, hydro, run-of-river' (kilowatt hour, US-FRCC, None),\n",
       " 'electricity production, photovoltaic, 3kWp slanted-roof installation, single-Si, panel, mounted' (kilowatt hour, US-TRE, None),\n",
       " 'market for electricity, medium voltage' (kilowatt hour, US-MRO, None),\n",
       " 'market for electricity, medium voltage' (kilowatt hour, US-NPCC, None),\n",
       " 'electricity production, wind, 1-3MW turbine, onshore' (kilowatt hour, US-SERC, None),\n",
       " 'electricity production, wind, >3MW turbine, onshore' (kilowatt hour, US-NPCC, None),\n",
       " 'electricity production, nuclear, pressure water reactor' (kilowatt hour, US-NPCC, None),\n",
       " 'market for electricity, medium voltage' (kilowatt hour, US-WECC, None),\n",
       " 'electricity production, hydro, pumped storage' (kilowatt hour, US-MRO, None),\n",
       " 'electricity production, hydro, reservoir, alpine region' (kilowatt hour, US-ASCC, None),\n",
       " 'electricity, high voltage, import from CA-NS' (kilowatt hour, US-NPCC, None),\n",
       " 'market for electricity, high voltage' (kilowatt hour, US-TRE, None),\n",
       " 'electricity, high voltage, production mix' (kilowatt hour, US-TRE, None),\n",
       " 'electricity voltage transformation from medium to low voltage' (kilowatt hour, US-MRO, None),\n",
       " 'electricity production, deep geothermal' (kilowatt hour, US-SERC, None),\n",
       " 'electricity, high voltage, production mix' (kilowatt hour, US-MRO, None),\n",
       " 'market for electricity, medium voltage' (kilowatt hour, US-SERC, None),\n",
       " 'electricity production, nuclear, pressure water reactor' (kilowatt hour, US-TRE, None),\n",
       " 'electricity production, wind, <1MW turbine, onshore' (kilowatt hour, US-ASCC, None),\n",
       " 'electricity voltage transformation from high to medium voltage' (kilowatt hour, US-TRE, None),\n",
       " 'market for electricity, low voltage' (kilowatt hour, US-TRE, None),\n",
       " 'electricity, high voltage, production mix' (kilowatt hour, US-SERC, None),\n",
       " 'electricity production, oil' (kilowatt hour, US-NPCC, None),\n",
       " 'electricity, high voltage, production mix' (kilowatt hour, US-ASCC, None),\n",
       " 'market for electricity, high voltage' (kilowatt hour, US-RFC, None),\n",
       " 'electricity production, hydro, reservoir, alpine region' (kilowatt hour, US-MRO, None),\n",
       " 'electricity production, hydro, run-of-river' (kilowatt hour, US-TRE, None),\n",
       " 'electricity production, wind, <1MW turbine, onshore' (kilowatt hour, US-TRE, None),\n",
       " 'electricity, high voltage, import from CA-ON' (kilowatt hour, US-NPCC, None),\n",
       " 'market for electricity, medium voltage' (kilowatt hour, US-TRE, None),\n",
       " 'electricity production, wind, 1-3MW turbine, onshore' (kilowatt hour, US-HICC, None),\n",
       " 'electricity production, hard coal' (kilowatt hour, US-ASCC, None),\n",
       " 'electricity, high voltage, import from CA-BC' (kilowatt hour, US-WECC, None),\n",
       " 'electricity production, oil' (kilowatt hour, US-MRO, None),\n",
       " 'electricity production, wind, >3MW turbine, onshore' (kilowatt hour, US-MRO, None),\n",
       " 'electricity production, photovoltaic, 3kWp slanted-roof installation, single-Si, panel, mounted' (kilowatt hour, US-RFC, None),\n",
       " 'electricity voltage transformation from high to medium voltage' (kilowatt hour, US-ASCC, None),\n",
       " 'electricity production, nuclear, boiling water reactor' (kilowatt hour, US-RFC, None),\n",
       " 'electricity production, hydro, pumped storage' (kilowatt hour, US-FRCC, None),\n",
       " 'electricity voltage transformation from medium to low voltage' (kilowatt hour, US-TRE, None),\n",
       " 'electricity production, wind, 1-3MW turbine, onshore' (kilowatt hour, US-WECC, None),\n",
       " 'electricity production, oil' (kilowatt hour, US-SERC, None),\n",
       " 'electricity production, wind, >3MW turbine, onshore' (kilowatt hour, US-HICC, None),\n",
       " 'electricity, high voltage, production mix' (kilowatt hour, US-HICC, None),\n",
       " 'market for electricity, high voltage' (kilowatt hour, US-ASCC, None),\n",
       " 'electricity production, solar thermal parabolic trough, 50 MW' (kilowatt hour, US-FRCC, None),\n",
       " 'electricity production, hydro, run-of-river' (kilowatt hour, US-ASCC, None),\n",
       " 'electricity production, solar thermal parabolic trough, 50 MW' (kilowatt hour, US-WECC, None),\n",
       " 'electricity production, wind, 1-3MW turbine, onshore' (kilowatt hour, US-TRE, None),\n",
       " 'electricity production, natural gas, conventional power plant' (kilowatt hour, US-NPCC, None),\n",
       " 'electricity production, nuclear, pressure water reactor' (kilowatt hour, US-RFC, None),\n",
       " 'electricity production, wind, <1MW turbine, onshore' (kilowatt hour, US-WECC, None),\n",
       " 'electricity production, photovoltaic, 570kWp open ground installation, multi-Si' (kilowatt hour, US-RFC, None),\n",
       " 'market for electricity, high voltage' (kilowatt hour, US-FRCC, None),\n",
       " 'electricity production, wind, >3MW turbine, onshore' (kilowatt hour, US-WECC, None),\n",
       " 'electricity, high voltage, import from MX' (kilowatt hour, US-WECC, None),\n",
       " 'electricity production, photovoltaic, 3kWp slanted-roof installation, multi-Si, panel, mounted' (kilowatt hour, US-WECC, None),\n",
       " 'electricity voltage transformation from medium to low voltage' (kilowatt hour, US-FRCC, None),\n",
       " 'electricity production, photovoltaic, 3kWp slanted-roof installation, single-Si, panel, mounted' (kilowatt hour, US-NPCC, None),\n",
       " 'electricity production, photovoltaic, 3kWp slanted-roof installation, multi-Si, panel, mounted' (kilowatt hour, US-HICC, None),\n",
       " 'electricity, high voltage, import from CA-SK' (kilowatt hour, US-MRO, None),\n",
       " 'electricity production, natural gas, combined cycle power plant' (kilowatt hour, US-FRCC, None),\n",
       " 'electricity production, photovoltaic, 3kWp slanted-roof installation, multi-Si, panel, mounted' (kilowatt hour, US-FRCC, None),\n",
       " 'electricity production, hydro, pumped storage' (kilowatt hour, US-SERC, None),\n",
       " 'electricity production, wind, <1MW turbine, onshore' (kilowatt hour, US-MRO, None),\n",
       " 'electricity production, wind, <1MW turbine, onshore' (kilowatt hour, US-SERC, None),\n",
       " 'electricity production, photovoltaic, 3kWp slanted-roof installation, multi-Si, panel, mounted' (kilowatt hour, US-SERC, None),\n",
       " 'electricity production, lignite' (kilowatt hour, US-WECC, None),\n",
       " 'electricity production, natural gas, conventional power plant' (kilowatt hour, US-MRO, None),\n",
       " 'electricity, high voltage, import from MX' (kilowatt hour, US-TRE, None),\n",
       " 'electricity production, wind, >3MW turbine, onshore' (kilowatt hour, US-SERC, None),\n",
       " 'electricity production, wind, >3MW turbine, onshore' (kilowatt hour, US-TRE, None),\n",
       " 'electricity production, natural gas, combined cycle power plant' (kilowatt hour, US-WECC, None),\n",
       " 'electricity production, photovoltaic, 3kWp slanted-roof installation, single-Si, panel, mounted' (kilowatt hour, US-HICC, None),\n",
       " 'electricity production, hydro, pumped storage' (kilowatt hour, US-RFC, None),\n",
       " 'electricity production, nuclear, pressure water reactor' (kilowatt hour, US-SERC, None),\n",
       " 'electricity production, lignite' (kilowatt hour, US-MRO, None),\n",
       " 'market for electricity, low voltage' (kilowatt hour, US-RFC, None),\n",
       " 'electricity production, natural gas, combined cycle power plant' (kilowatt hour, US-TRE, None),\n",
       " 'electricity production, natural gas, combined cycle power plant' (kilowatt hour, US-RFC, None),\n",
       " 'electricity production, natural gas, conventional power plant' (kilowatt hour, US-TRE, None),\n",
       " 'electricity voltage transformation from medium to low voltage' (kilowatt hour, US-NPCC, None),\n",
       " 'electricity production, hydro, reservoir, alpine region' (kilowatt hour, US-NPCC, None),\n",
       " 'electricity production, hydro, pumped storage' (kilowatt hour, US-WECC, None),\n",
       " 'electricity production, lignite' (kilowatt hour, US-NPCC, None),\n",
       " 'electricity production, hard coal' (kilowatt hour, US-FRCC, None),\n",
       " 'market for electricity, medium voltage' (kilowatt hour, US-RFC, None),\n",
       " 'electricity production, solar tower power plant, 20 MW' (kilowatt hour, US-WECC, None),\n",
       " 'electricity production, lignite' (kilowatt hour, US-ASCC, None),\n",
       " 'electricity production, oil' (kilowatt hour, US-TRE, None),\n",
       " 'electricity production, hard coal' (kilowatt hour, US-HICC, None),\n",
       " 'electricity production, nuclear, pressure water reactor' (kilowatt hour, US-WECC, None),\n",
       " 'electricity production, natural gas, conventional power plant' (kilowatt hour, US-SERC, None),\n",
       " 'electricity production, hard coal' (kilowatt hour, US-WECC, None),\n",
       " 'market for electricity, high voltage' (kilowatt hour, US-WECC, None),\n",
       " 'market for electricity, low voltage' (kilowatt hour, US-ASCC, None),\n",
       " 'electricity production, lignite' (kilowatt hour, US-HICC, None),\n",
       " 'electricity production, oil' (kilowatt hour, US-WECC, None),\n",
       " 'electricity production, wind, >3MW turbine, onshore' (kilowatt hour, US-RFC, None),\n",
       " 'electricity voltage transformation from medium to low voltage' (kilowatt hour, US-RFC, None),\n",
       " 'electricity production, hydro, run-of-river' (kilowatt hour, US-WECC, None),\n",
       " 'electricity production, photovoltaic, 3kWp slanted-roof installation, single-Si, panel, mounted' (kilowatt hour, US-FRCC, None),\n",
       " 'electricity production, oil' (kilowatt hour, US-ASCC, None),\n",
       " 'electricity production, hydro, reservoir, non-alpine region' (kilowatt hour, US-FRCC, None),\n",
       " 'electricity production, natural gas, combined cycle power plant' (kilowatt hour, US-MRO, None),\n",
       " 'electricity production, hard coal' (kilowatt hour, US-RFC, None),\n",
       " 'market for electricity, low voltage' (kilowatt hour, US-WECC, None),\n",
       " 'electricity production, natural gas, conventional power plant' (kilowatt hour, US-ASCC, None),\n",
       " 'electricity voltage transformation from high to medium voltage' (kilowatt hour, US-HICC, None),\n",
       " 'electricity voltage transformation from high to medium voltage' (kilowatt hour, US-FRCC, None),\n",
       " 'electricity voltage transformation from medium to low voltage' (kilowatt hour, US-SERC, None),\n",
       " 'electricity production, nuclear, boiling water reactor' (kilowatt hour, US-NPCC, None),\n",
       " 'electricity production, photovoltaic, 570kWp open ground installation, multi-Si' (kilowatt hour, US-SERC, None),\n",
       " 'electricity production, wind, <1MW turbine, onshore' (kilowatt hour, US-RFC, None),\n",
       " 'electricity production, wind, 1-3MW turbine, onshore' (kilowatt hour, US-RFC, None),\n",
       " 'electricity, high voltage, production mix' (kilowatt hour, US-NPCC, None),\n",
       " 'market for electricity, medium voltage' (kilowatt hour, US-ASCC, None),\n",
       " 'electricity, high voltage, production mix' (kilowatt hour, US-FRCC, None),\n",
       " 'electricity production, photovoltaic, 3kWp slanted-roof installation, multi-Si, panel, mounted' (kilowatt hour, US-RFC, None),\n",
       " 'electricity production, oil' (kilowatt hour, US-RFC, None),\n",
       " 'market for electricity, low voltage' (kilowatt hour, US-MRO, None),\n",
       " 'electricity production, wind, 1-3MW turbine, onshore' (kilowatt hour, US-ASCC, None),\n",
       " 'electricity production, hard coal' (kilowatt hour, US-MRO, None),\n",
       " 'electricity voltage transformation from high to medium voltage' (kilowatt hour, US-SERC, None),\n",
       " 'electricity production, hard coal' (kilowatt hour, US-TRE, None),\n",
       " 'electricity production, hydro, run-of-river' (kilowatt hour, US-RFC, None),\n",
       " 'electricity production, nuclear, pressure water reactor' (kilowatt hour, US-FRCC, None),\n",
       " 'electricity voltage transformation from high to medium voltage' (kilowatt hour, US-WECC, None),\n",
       " 'electricity production, photovoltaic, 570kWp open ground installation, multi-Si' (kilowatt hour, US-FRCC, None),\n",
       " 'electricity production, hydro, pumped storage' (kilowatt hour, US-ASCC, None),\n",
       " 'market for electricity, high voltage' (kilowatt hour, US-HICC, None),\n",
       " 'electricity production, nuclear, boiling water reactor' (kilowatt hour, US-MRO, None),\n",
       " 'market for electricity, low voltage' (kilowatt hour, US-HICC, None),\n",
       " 'electricity voltage transformation from high to medium voltage' (kilowatt hour, US-RFC, None),\n",
       " 'market for electricity, low voltage' (kilowatt hour, US-SERC, None),\n",
       " 'electricity production, nuclear, boiling water reactor' (kilowatt hour, US-FRCC, None),\n",
       " 'market for electricity, high voltage' (kilowatt hour, US-SERC, None),\n",
       " 'electricity production, hard coal' (kilowatt hour, US-SERC, None),\n",
       " 'electricity, high voltage, import from CA-MB' (kilowatt hour, US-MRO, None),\n",
       " 'electricity production, wind, <1MW turbine, onshore' (kilowatt hour, US-HICC, None),\n",
       " 'electricity production, natural gas, combined cycle power plant' (kilowatt hour, US-ASCC, None),\n",
       " 'electricity production, natural gas, combined cycle power plant' (kilowatt hour, US-NPCC, None),\n",
       " 'electricity voltage transformation from medium to low voltage' (kilowatt hour, US-WECC, None),\n",
       " 'electricity production, hydro, pumped storage' (kilowatt hour, US-HICC, None),\n",
       " 'electricity production, hydro, reservoir, alpine region' (kilowatt hour, US-SERC, None),\n",
       " 'electricity voltage transformation from high to medium voltage' (kilowatt hour, US-MRO, None),\n",
       " 'electricity production, nuclear, pressure water reactor' (kilowatt hour, US-MRO, None),\n",
       " 'electricity voltage transformation from medium to low voltage' (kilowatt hour, US-ASCC, None),\n",
       " 'electricity production, wind, >3MW turbine, onshore' (kilowatt hour, US-ASCC, None),\n",
       " 'electricity production, lignite' (kilowatt hour, US-FRCC, None),\n",
       " 'electricity production, oil' (kilowatt hour, US-FRCC, None),\n",
       " 'electricity voltage transformation from high to medium voltage' (kilowatt hour, US-NPCC, None),\n",
       " 'electricity production, photovoltaic, 3kWp slanted-roof installation, single-Si, panel, mounted' (kilowatt hour, US-WECC, None),\n",
       " 'market for electricity, high voltage' (kilowatt hour, US-NPCC, None),\n",
       " 'electricity production, deep geothermal' (kilowatt hour, US-HICC, None),\n",
       " 'market for electricity, low voltage' (kilowatt hour, US-NPCC, None),\n",
       " 'electricity production, hard coal' (kilowatt hour, US-NPCC, None),\n",
       " 'market for electricity, high voltage' (kilowatt hour, US-MRO, None),\n",
       " 'market for electricity, medium voltage' (kilowatt hour, US-FRCC, None),\n",
       " 'electricity production, hydro, pumped storage' (kilowatt hour, US-NPCC, None),\n",
       " 'electricity, high voltage, import from CA-NB' (kilowatt hour, US-NPCC, None),\n",
       " 'electricity production, photovoltaic, 3kWp slanted-roof installation, multi-Si, panel, mounted' (kilowatt hour, US-TRE, None),\n",
       " 'electricity production, photovoltaic, 570kWp open ground installation, multi-Si' (kilowatt hour, US-WECC, None),\n",
       " 'electricity production, hydro, reservoir, non-alpine region' (kilowatt hour, US-HICC, None),\n",
       " 'electricity production, photovoltaic, 3kWp slanted-roof installation, multi-Si, panel, mounted' (kilowatt hour, US-NPCC, None),\n",
       " 'electricity production, hydro, reservoir, alpine region' (kilowatt hour, US-RFC, None),\n",
       " 'electricity production, natural gas, conventional power plant' (kilowatt hour, US-RFC, None),\n",
       " 'electricity, high voltage, production mix' (kilowatt hour, CENTREL, None),\n",
       " 'electricity, high voltage, import from CA-AB' (kilowatt hour, US-WECC, None),\n",
       " 'electricity production, oil' (kilowatt hour, US-HICC, None),\n",
       " 'electricity production, wind, 1-3MW turbine, onshore' (kilowatt hour, US-NPCC, None),\n",
       " 'electricity production, natural gas, combined cycle power plant' (kilowatt hour, US-SERC, None),\n",
       " 'electricity production, nuclear, boiling water reactor' (kilowatt hour, US-TRE, None),\n",
       " 'electricity production, hydro, reservoir, non-alpine region' (kilowatt hour, US-TRE, None),\n",
       " 'electricity production, photovoltaic, 3kWp slanted-roof installation, single-Si, panel, mounted' (kilowatt hour, US-SERC, None),\n",
       " 'electricity production, hydro, run-of-river' (kilowatt hour, US-SERC, None),\n",
       " 'electricity production, deep geothermal' (kilowatt hour, US-WECC, None),\n",
       " 'electricity voltage transformation from medium to low voltage' (kilowatt hour, US-HICC, None),\n",
       " 'electricity production, hydro, reservoir, alpine region' (kilowatt hour, US-WECC, None),\n",
       " 'electricity production, hydro, pumped storage' (kilowatt hour, US-TRE, None)]"
      ]
     },
     "execution_count": 79,
     "metadata": {},
     "output_type": "execute_result"
    }
   ],
   "source": [
    "elec"
   ]
  },
  {
   "cell_type": "markdown",
   "id": "e0e0f02c",
   "metadata": {},
   "source": [
    "We ignore \"production mix\" processes because they \"are only of informative\n",
    "character and it is NOT recommended to use the production mixes in your life\n",
    "cycle analysis, because the electricity markets represent electricity supply\" (per source above).\n",
    "\n",
    "There are \"market for electricity\" and \"market group\" processes. The \"market groups\" combine grid mixes from the various U.S. regions into a national grid mix for use as an input to U.S. activities."
   ]
  },
  {
   "cell_type": "code",
   "execution_count": 82,
   "id": "5653bd30",
   "metadata": {},
   "outputs": [],
   "source": [
    "elecmarketgroup = [i for i in bw.Database('ecoinvent3.7.1 cut-off') \n",
    "             if ('US' in i.as_dict()['location'])\n",
    "             and ('market group for electricity' in i.as_dict()['name'])]"
   ]
  },
  {
   "cell_type": "code",
   "execution_count": 83,
   "id": "69d023d3",
   "metadata": {},
   "outputs": [
    {
     "data": {
      "text/plain": [
       "['market group for electricity, low voltage' (kilowatt hour, US, None),\n",
       " 'market group for electricity, high voltage' (kilowatt hour, US, None),\n",
       " 'market group for electricity, medium voltage' (kilowatt hour, US, None)]"
      ]
     },
     "execution_count": 83,
     "metadata": {},
     "output_type": "execute_result"
    }
   ],
   "source": [
    "elecmarketgroup"
   ]
  },
  {
   "cell_type": "markdown",
   "id": "354dbb0d",
   "metadata": {},
   "source": [
    "The \"market for electricity\" processes will tell us the grid mix."
   ]
  },
  {
   "cell_type": "code",
   "execution_count": 80,
   "id": "111feec5",
   "metadata": {},
   "outputs": [],
   "source": [
    "elecmixes = [i for i in bw.Database('ecoinvent3.7.1 cut-off') \n",
    "             for loc in elec_locs \n",
    "             if (loc in i.as_dict()['location'])\n",
    "             and ('market for electricity' in i.as_dict()['name'])]"
   ]
  },
  {
   "cell_type": "code",
   "execution_count": 81,
   "id": "23f1e201",
   "metadata": {},
   "outputs": [
    {
     "data": {
      "text/plain": [
       "['market for electricity, low voltage' (kilowatt hour, US-MRO, None),\n",
       " 'market for electricity, low voltage' (kilowatt hour, US-WECC, None),\n",
       " 'market for electricity, medium voltage' (kilowatt hour, US-SERC, None),\n",
       " 'market for electricity, high voltage' (kilowatt hour, US-HICC, None),\n",
       " 'market for electricity, medium voltage' (kilowatt hour, US-MRO, None),\n",
       " 'market for electricity, high voltage' (kilowatt hour, US-RFC, None),\n",
       " 'market for electricity, low voltage' (kilowatt hour, US-NPCC, None),\n",
       " 'market for electricity, high voltage' (kilowatt hour, US-MRO, None),\n",
       " 'market for electricity, high voltage' (kilowatt hour, US-SERC, None),\n",
       " 'market for electricity, medium voltage' (kilowatt hour, US-NPCC, None),\n",
       " 'market for electricity, low voltage' (kilowatt hour, US-ASCC, None),\n",
       " 'market for electricity, medium voltage' (kilowatt hour, US-TRE, None),\n",
       " 'market for electricity, low voltage' (kilowatt hour, US-RFC, None),\n",
       " 'market for electricity, medium voltage' (kilowatt hour, US-ASCC, None),\n",
       " 'market for electricity, medium voltage' (kilowatt hour, US-FRCC, None),\n",
       " 'market for electricity, medium voltage' (kilowatt hour, US-WECC, None),\n",
       " 'market for electricity, high voltage' (kilowatt hour, US-TRE, None),\n",
       " 'market for electricity, high voltage' (kilowatt hour, US-WECC, None),\n",
       " 'market for electricity, medium voltage' (kilowatt hour, US-RFC, None),\n",
       " 'market for electricity, low voltage' (kilowatt hour, US-TRE, None),\n",
       " 'market for electricity, medium voltage' (kilowatt hour, US-HICC, None),\n",
       " 'market for electricity, high voltage' (kilowatt hour, US-FRCC, None),\n",
       " 'market for electricity, high voltage' (kilowatt hour, US-NPCC, None),\n",
       " 'market for electricity, low voltage' (kilowatt hour, US-HICC, None),\n",
       " 'market for electricity, high voltage' (kilowatt hour, US-ASCC, None),\n",
       " 'market for electricity, low voltage' (kilowatt hour, US-SERC, None),\n",
       " 'market for electricity, low voltage' (kilowatt hour, US-FRCC, None)]"
      ]
     },
     "execution_count": 81,
     "metadata": {},
     "output_type": "execute_result"
    }
   ],
   "source": [
    "elecmixes"
   ]
  },
  {
   "cell_type": "markdown",
   "id": "f5324996",
   "metadata": {},
   "source": [
    "What do the exchanges look like for these \"market for electricity\" processes? \n",
    "\n",
    "Low voltage process."
   ]
  },
  {
   "cell_type": "code",
   "execution_count": 84,
   "id": "7b8099c6",
   "metadata": {},
   "outputs": [
    {
     "data": {
      "text/plain": [
       "'market for electricity, low voltage' (kilowatt hour, US-MRO, None)"
      ]
     },
     "execution_count": 84,
     "metadata": {},
     "output_type": "execute_result"
    }
   ],
   "source": [
    "mix1 = elecmixes[0]\n",
    "mix1"
   ]
  },
  {
   "cell_type": "code",
   "execution_count": 85,
   "id": "3452b803",
   "metadata": {},
   "outputs": [
    {
     "data": {
      "text/plain": [
       "[Exchange: 7.79e-09 kilogram 'market for sulfur hexafluoride, liquid' (kilogram, RoW, None) to 'market for electricity, low voltage' (kilowatt hour, US-MRO, None)>,\n",
       " Exchange: 8.74048809653223e-08 kilometer 'market for distribution network, electricity, low voltage' (kilometer, GLO, None) to 'market for electricity, low voltage' (kilowatt hour, US-MRO, None)>,\n",
       " Exchange: 1.0 kilowatt hour 'market for electricity, low voltage' (kilowatt hour, US-MRO, None) to 'market for electricity, low voltage' (kilowatt hour, US-MRO, None)>,\n",
       " Exchange: 0.00166388556322942 kilowatt hour 'electricity production, photovoltaic, 3kWp slanted-roof installation, multi-Si, panel, mounted' (kilowatt hour, RoW, None) to 'market for electricity, low voltage' (kilowatt hour, US-MRO, None)>,\n",
       " Exchange: 0.00133598877177478 kilowatt hour 'electricity production, photovoltaic, 3kWp slanted-roof installation, single-Si, panel, mounted' (kilowatt hour, RoW, None) to 'market for electricity, low voltage' (kilowatt hour, US-MRO, None)>,\n",
       " Exchange: 0.00277263423594588 kilowatt hour 'electricity production, photovoltaic, 570kWp open ground installation, multi-Si' (kilowatt hour, RoW, None) to 'market for electricity, low voltage' (kilowatt hour, US-MRO, None)>,\n",
       " Exchange: 0.99422749142905 kilowatt hour 'electricity voltage transformation from medium to low voltage' (kilowatt hour, US-MRO, None) to 'market for electricity, low voltage' (kilowatt hour, US-MRO, None)>,\n",
       " Exchange: 0.0224594511522364 kilowatt hour 'market for electricity, low voltage' (kilowatt hour, US-MRO, None) to 'market for electricity, low voltage' (kilowatt hour, US-MRO, None)>,\n",
       " Exchange: 7.79e-09 kilogram 'Sulfur hexafluoride' (kilogram, None, ('air',)) to 'market for electricity, low voltage' (kilowatt hour, US-MRO, None)>]"
      ]
     },
     "execution_count": 85,
     "metadata": {},
     "output_type": "execute_result"
    }
   ],
   "source": [
    "[i for i in bw.Database('ecoinvent3.7.1 cut-off').get(mix1.key[1]).exchanges()]"
   ]
  },
  {
   "cell_type": "markdown",
   "id": "9b8a5a95",
   "metadata": {},
   "source": [
    "In this low-voltage process, there's a tiny fraction of solar electricity being added to electricity that's converted from medium voltage. The solar electricity is coming from two types of roof installations and a multi-SI ground installation. Total electricity from these additional generating processes is less than 0.006 kWh per kWh of low voltage electricity."
   ]
  },
  {
   "cell_type": "markdown",
   "id": "76b88b18",
   "metadata": {},
   "source": [
    "Medium voltage process."
   ]
  },
  {
   "cell_type": "code",
   "execution_count": 86,
   "id": "793a89e8",
   "metadata": {},
   "outputs": [
    {
     "data": {
      "text/plain": [
       "'market for electricity, medium voltage' (kilowatt hour, US-SERC, None)"
      ]
     },
     "execution_count": 86,
     "metadata": {},
     "output_type": "execute_result"
    }
   ],
   "source": [
    "mix2 = elecmixes[2]\n",
    "mix2"
   ]
  },
  {
   "cell_type": "code",
   "execution_count": 90,
   "id": "304c6733",
   "metadata": {},
   "outputs": [
    {
     "data": {
      "text/plain": [
       "[Exchange: 1.86277676887616e-08 kilometer 'market for transmission network, electricity, medium voltage' (kilometer, GLO, None) to 'market for electricity, medium voltage' (kilowatt hour, US-SERC, None)>,\n",
       " Exchange: 1.29e-07 kilogram 'market for sulfur hexafluoride, liquid' (kilogram, RoW, None) to 'market for electricity, medium voltage' (kilowatt hour, US-SERC, None)>,\n",
       " Exchange: 1.0 kilowatt hour 'market for electricity, medium voltage' (kilowatt hour, US-SERC, None) to 'market for electricity, medium voltage' (kilowatt hour, US-SERC, None)>,\n",
       " Exchange: 0.998990651687093 kilowatt hour 'electricity voltage transformation from high to medium voltage' (kilowatt hour, US-SERC, None) to 'market for electricity, medium voltage' (kilowatt hour, US-SERC, None)>,\n",
       " Exchange: 0.0010093483129066 kilowatt hour 'electricity, from municipal waste incineration to generic market for electricity, medium voltage' (kilowatt hour, RoW, None) to 'market for electricity, medium voltage' (kilowatt hour, US-SERC, None)>,\n",
       " Exchange: 0.0030588760954902 kilowatt hour 'market for electricity, medium voltage' (kilowatt hour, US-SERC, None) to 'market for electricity, medium voltage' (kilowatt hour, US-SERC, None)>,\n",
       " Exchange: 1.29e-07 kilogram 'Sulfur hexafluoride' (kilogram, None, ('air',)) to 'market for electricity, medium voltage' (kilowatt hour, US-SERC, None)>]"
      ]
     },
     "execution_count": 90,
     "metadata": {},
     "output_type": "execute_result"
    }
   ],
   "source": [
    "[i for i in bw.Database('ecoinvent3.7.1 cut-off').get(mix2.key[1]).exchanges()]"
   ]
  },
  {
   "cell_type": "markdown",
   "id": "beac92dd",
   "metadata": {},
   "source": [
    "At medium voltage, there's again some electricity generation being added to electricity converted from high voltage. The new generation is only from municipal waste incineration, 0.001 kWh per kWh medium voltage electricity. There is also some parasitic consumption, 0.003 kWh per kWh."
   ]
  },
  {
   "cell_type": "markdown",
   "id": "5922cf93",
   "metadata": {},
   "source": [
    "High voltage process."
   ]
  },
  {
   "cell_type": "code",
   "execution_count": 91,
   "id": "e704c780",
   "metadata": {},
   "outputs": [
    {
     "data": {
      "text/plain": [
       "'market for electricity, high voltage' (kilowatt hour, US-RFC, None)"
      ]
     },
     "execution_count": 91,
     "metadata": {},
     "output_type": "execute_result"
    }
   ],
   "source": [
    "mix3 = elecmixes[5]\n",
    "mix3"
   ]
  },
  {
   "cell_type": "code",
   "execution_count": 163,
   "id": "99586a9e",
   "metadata": {},
   "outputs": [],
   "source": [
    "ex = [i for i in bw.Database('ecoinvent3.7.1 cut-off').get(mix3.key[1]).exchanges()]"
   ]
  },
  {
   "cell_type": "code",
   "execution_count": 168,
   "id": "00e269b2",
   "metadata": {},
   "outputs": [
    {
     "data": {
      "text/plain": [
       "[Exchange: 1.0 kilowatt hour 'market for electricity, high voltage' (kilowatt hour, US-RFC, None) to 'market for electricity, high voltage' (kilowatt hour, US-RFC, None)>,\n",
       " Exchange: 6.58209848825026e-09 kilometer 'market for transmission network, electricity, high voltage' (kilometer, GLO, None) to 'market for electricity, high voltage' (kilowatt hour, US-RFC, None)>,\n",
       " Exchange: 3.17e-10 kilometer 'market for transmission network, long-distance' (kilometer, GLO, None) to 'market for electricity, high voltage' (kilowatt hour, US-RFC, None)>,\n",
       " Exchange: 0.288515691683293 kilowatt hour 'electricity production, hard coal' (kilowatt hour, US-RFC, None) to 'market for electricity, high voltage' (kilowatt hour, US-RFC, None)>,\n",
       " Exchange: 0.00255768100056629 kilowatt hour 'electricity production, hydro, reservoir, alpine region' (kilowatt hour, US-RFC, None) to 'market for electricity, high voltage' (kilowatt hour, US-RFC, None)>,\n",
       " Exchange: 0.0102307731738715 kilowatt hour 'electricity production, hydro, run-of-river' (kilowatt hour, US-RFC, None) to 'market for electricity, high voltage' (kilowatt hour, US-RFC, None)>,\n",
       " Exchange: 0.0514235940430365 kilowatt hour 'electricity production, lignite' (kilowatt hour, US-RFC, None) to 'market for electricity, high voltage' (kilowatt hour, US-RFC, None)>,\n",
       " Exchange: 0.210677343897371 kilowatt hour 'electricity production, natural gas, combined cycle power plant' (kilowatt hour, US-RFC, None) to 'market for electricity, high voltage' (kilowatt hour, US-RFC, None)>,\n",
       " Exchange: 0.0283984235726615 kilowatt hour 'electricity production, natural gas, conventional power plant' (kilowatt hour, US-RFC, None) to 'market for electricity, high voltage' (kilowatt hour, US-RFC, None)>,\n",
       " Exchange: 0.0958880163409747 kilowatt hour 'electricity production, nuclear, boiling water reactor' (kilowatt hour, US-RFC, None) to 'market for electricity, high voltage' (kilowatt hour, US-RFC, None)>,\n",
       " Exchange: 0.203685717379738 kilowatt hour 'electricity production, nuclear, pressure water reactor' (kilowatt hour, US-RFC, None) to 'market for electricity, high voltage' (kilowatt hour, US-RFC, None)>,\n",
       " Exchange: 0.000554279848619279 kilowatt hour 'electricity production, oil' (kilowatt hour, US-RFC, None) to 'market for electricity, high voltage' (kilowatt hour, US-RFC, None)>,\n",
       " Exchange: 0.0273041261031167 kilowatt hour 'electricity production, wind, 1-3MW turbine, onshore' (kilowatt hour, US-RFC, None) to 'market for electricity, high voltage' (kilowatt hour, US-RFC, None)>,\n",
       " Exchange: 0.00228891113337823 kilowatt hour 'electricity production, wind, <1MW turbine, onshore' (kilowatt hour, US-RFC, None) to 'market for electricity, high voltage' (kilowatt hour, US-RFC, None)>,\n",
       " Exchange: 0.000235062878343494 kilowatt hour 'electricity production, wind, >3MW turbine, onshore' (kilowatt hour, US-RFC, None) to 'market for electricity, high voltage' (kilowatt hour, US-RFC, None)>,\n",
       " Exchange: 0.00431774690451151 kilowatt hour 'heat and power co-generation, biogas, gas engine' (kilowatt hour, US-RFC, None) to 'market for electricity, high voltage' (kilowatt hour, US-RFC, None)>,\n",
       " Exchange: 0.00946060387319352 kilowatt hour 'heat and power co-generation, hard coal' (kilowatt hour, RoW, None) to 'market for electricity, high voltage' (kilowatt hour, US-RFC, None)>,\n",
       " Exchange: 0.00494609258089376 kilowatt hour 'heat and power co-generation, lignite' (kilowatt hour, RoW, None) to 'market for electricity, high voltage' (kilowatt hour, US-RFC, None)>,\n",
       " Exchange: 0.0324877244610739 kilowatt hour 'heat and power co-generation, natural gas, combined cycle power plant, 400MW electrical' (kilowatt hour, US-RFC, None) to 'market for electricity, high voltage' (kilowatt hour, US-RFC, None)>,\n",
       " Exchange: 0.0143737698415682 kilowatt hour 'heat and power co-generation, natural gas, conventional power plant, 100MW electrical' (kilowatt hour, US-RFC, None) to 'market for electricity, high voltage' (kilowatt hour, US-RFC, None)>,\n",
       " Exchange: 3.19402845127637e-05 kilowatt hour 'heat and power co-generation, oil' (kilowatt hour, US-RFC, None) to 'market for electricity, high voltage' (kilowatt hour, US-RFC, None)>,\n",
       " Exchange: 0.00312952217036002 kilowatt hour 'heat and power co-generation, wood chips, 6667 kW, state-of-the-art 2014' (kilowatt hour, US-RFC, None) to 'market for electricity, high voltage' (kilowatt hour, US-RFC, None)>,\n",
       " Exchange: 0.0226795457302203 kilowatt hour 'market for electricity, high voltage' (kilowatt hour, US-RFC, None) to 'market for electricity, high voltage' (kilowatt hour, US-RFC, None)>,\n",
       " Exchange: 0.00523856942273321 kilowatt hour 'treatment of blast furnace gas, in power plant' (kilowatt hour, RoW, None) to 'market for electricity, high voltage' (kilowatt hour, US-RFC, None)>,\n",
       " Exchange: 0.00425440940618368 kilowatt hour 'treatment of coal gas, in power plant' (kilowatt hour, RoW, None) to 'market for electricity, high voltage' (kilowatt hour, US-RFC, None)>,\n",
       " Exchange: 5e-06 kilogram 'Dinitrogen monoxide' (kilogram, None, ('air',)) to 'market for electricity, high voltage' (kilowatt hour, US-RFC, None)>,\n",
       " Exchange: 4.15772755242894e-06 kilogram 'Ozone' (kilogram, None, ('air',)) to 'market for electricity, high voltage' (kilowatt hour, US-RFC, None)>]"
      ]
     },
     "execution_count": 168,
     "metadata": {},
     "output_type": "execute_result"
    }
   ],
   "source": [
    "ex"
   ]
  },
  {
   "cell_type": "markdown",
   "id": "62632626",
   "metadata": {},
   "source": [
    "The high voltage process is where the vast majority of the grid mix definition takes place. In this process, the following power generator types are used (fuels or renewables):"
   ]
  },
  {
   "cell_type": "code",
   "execution_count": 175,
   "id": "b4bf4ef9",
   "metadata": {},
   "outputs": [
    {
     "name": "stdout",
     "output_type": "stream",
     "text": [
      "0 'market for electricity, high voltage' (kilowatt hour, US-RFC, None)\n",
      "1 'market for transmission network, electricity, high voltage' (kilometer, GLO, None)\n",
      "2 'market for transmission network, long-distance' (kilometer, GLO, None)\n",
      "3 'electricity production, hard coal' (kilowatt hour, US-RFC, None)\n",
      "4 'electricity production, hydro, reservoir, alpine region' (kilowatt hour, US-RFC, None)\n",
      "5 'electricity production, hydro, run-of-river' (kilowatt hour, US-RFC, None)\n",
      "6 'electricity production, lignite' (kilowatt hour, US-RFC, None)\n",
      "7 'electricity production, natural gas, combined cycle power plant' (kilowatt hour, US-RFC, None)\n",
      "8 'electricity production, natural gas, conventional power plant' (kilowatt hour, US-RFC, None)\n",
      "9 'electricity production, nuclear, boiling water reactor' (kilowatt hour, US-RFC, None)\n",
      "10 'electricity production, nuclear, pressure water reactor' (kilowatt hour, US-RFC, None)\n",
      "11 'electricity production, oil' (kilowatt hour, US-RFC, None)\n",
      "12 'electricity production, wind, 1-3MW turbine, onshore' (kilowatt hour, US-RFC, None)\n",
      "13 'electricity production, wind, <1MW turbine, onshore' (kilowatt hour, US-RFC, None)\n",
      "14 'electricity production, wind, >3MW turbine, onshore' (kilowatt hour, US-RFC, None)\n",
      "15 'heat and power co-generation, biogas, gas engine' (kilowatt hour, US-RFC, None)\n",
      "16 'heat and power co-generation, hard coal' (kilowatt hour, RoW, None)\n",
      "17 'heat and power co-generation, lignite' (kilowatt hour, RoW, None)\n",
      "18 'heat and power co-generation, natural gas, combined cycle power plant, 400MW electrical' (kilowatt hour, US-RFC, None)\n",
      "19 'heat and power co-generation, natural gas, conventional power plant, 100MW electrical' (kilowatt hour, US-RFC, None)\n",
      "20 'heat and power co-generation, oil' (kilowatt hour, US-RFC, None)\n",
      "21 'heat and power co-generation, wood chips, 6667 kW, state-of-the-art 2014' (kilowatt hour, US-RFC, None)\n",
      "22 'market for electricity, high voltage' (kilowatt hour, US-RFC, None)\n",
      "23 'treatment of blast furnace gas, in power plant' (kilowatt hour, RoW, None)\n",
      "24 'treatment of coal gas, in power plant' (kilowatt hour, RoW, None)\n"
     ]
    },
    {
     "ename": "ActivityDatasetDoesNotExist",
     "evalue": "<Model: ActivityDataset> instance matching query does not exist:\nSQL: SELECT \"t1\".\"id\", \"t1\".\"data\", \"t1\".\"code\", \"t1\".\"database\", \"t1\".\"location\", \"t1\".\"name\", \"t1\".\"product\", \"t1\".\"type\" FROM \"activitydataset\" AS \"t1\" WHERE ((\"t1\".\"database\" = ?) AND (\"t1\".\"code\" = ?)) ORDER BY Random() LIMIT ? OFFSET ?\nParams: ['ecoinvent3.7.1 cut-off', '20185046-64bb-4c09-a8e7-e8a9e144ca98', 1, 0]",
     "output_type": "error",
     "traceback": [
      "\u001b[1;31m---------------------------------------------------------------------------\u001b[0m",
      "\u001b[1;31mIndexError\u001b[0m                                Traceback (most recent call last)",
      "\u001b[1;32m~\\AppData\\Local\\Continuum\\anaconda3\\envs\\autobw\\lib\\site-packages\\peewee.py\u001b[0m in \u001b[0;36mget\u001b[1;34m(self, database)\u001b[0m\n\u001b[0;32m   6883\u001b[0m         \u001b[1;32mtry\u001b[0m\u001b[1;33m:\u001b[0m\u001b[1;33m\u001b[0m\u001b[1;33m\u001b[0m\u001b[0m\n\u001b[1;32m-> 6884\u001b[1;33m             \u001b[1;32mreturn\u001b[0m \u001b[0mclone\u001b[0m\u001b[1;33m.\u001b[0m\u001b[0mexecute\u001b[0m\u001b[1;33m(\u001b[0m\u001b[0mdatabase\u001b[0m\u001b[1;33m)\u001b[0m\u001b[1;33m[\u001b[0m\u001b[1;36m0\u001b[0m\u001b[1;33m]\u001b[0m\u001b[1;33m\u001b[0m\u001b[1;33m\u001b[0m\u001b[0m\n\u001b[0m\u001b[0;32m   6885\u001b[0m         \u001b[1;32mexcept\u001b[0m \u001b[0mIndexError\u001b[0m\u001b[1;33m:\u001b[0m\u001b[1;33m\u001b[0m\u001b[1;33m\u001b[0m\u001b[0m\n",
      "\u001b[1;32m~\\AppData\\Local\\Continuum\\anaconda3\\envs\\autobw\\lib\\site-packages\\peewee.py\u001b[0m in \u001b[0;36m__getitem__\u001b[1;34m(self, item)\u001b[0m\n\u001b[0;32m   4274\u001b[0m             \u001b[0mself\u001b[0m\u001b[1;33m.\u001b[0m\u001b[0mfill_cache\u001b[0m\u001b[1;33m(\u001b[0m\u001b[0mitem\u001b[0m \u001b[1;32mif\u001b[0m \u001b[0mitem\u001b[0m \u001b[1;33m>\u001b[0m \u001b[1;36m0\u001b[0m \u001b[1;32melse\u001b[0m \u001b[1;36m0\u001b[0m\u001b[1;33m)\u001b[0m\u001b[1;33m\u001b[0m\u001b[1;33m\u001b[0m\u001b[0m\n\u001b[1;32m-> 4275\u001b[1;33m             \u001b[1;32mreturn\u001b[0m \u001b[0mself\u001b[0m\u001b[1;33m.\u001b[0m\u001b[0mrow_cache\u001b[0m\u001b[1;33m[\u001b[0m\u001b[0mitem\u001b[0m\u001b[1;33m]\u001b[0m\u001b[1;33m\u001b[0m\u001b[1;33m\u001b[0m\u001b[0m\n\u001b[0m\u001b[0;32m   4276\u001b[0m         \u001b[1;32melse\u001b[0m\u001b[1;33m:\u001b[0m\u001b[1;33m\u001b[0m\u001b[1;33m\u001b[0m\u001b[0m\n",
      "\u001b[1;31mIndexError\u001b[0m: list index out of range",
      "\nDuring handling of the above exception, another exception occurred:\n",
      "\u001b[1;31mActivityDatasetDoesNotExist\u001b[0m               Traceback (most recent call last)",
      "\u001b[1;32m~\\AppData\\Local\\Temp\\1/ipykernel_10816/2783293803.py\u001b[0m in \u001b[0;36m<module>\u001b[1;34m\u001b[0m\n\u001b[0;32m      1\u001b[0m \u001b[0mexkey\u001b[0m \u001b[1;33m=\u001b[0m \u001b[1;33m[\u001b[0m\u001b[0mi\u001b[0m\u001b[1;33m.\u001b[0m\u001b[0mas_dict\u001b[0m\u001b[1;33m(\u001b[0m\u001b[1;33m)\u001b[0m\u001b[1;33m[\u001b[0m\u001b[1;34m'input'\u001b[0m\u001b[1;33m]\u001b[0m\u001b[1;33m[\u001b[0m\u001b[1;36m1\u001b[0m\u001b[1;33m]\u001b[0m \u001b[1;32mfor\u001b[0m \u001b[0mi\u001b[0m \u001b[1;32min\u001b[0m \u001b[0mbw\u001b[0m\u001b[1;33m.\u001b[0m\u001b[0mDatabase\u001b[0m\u001b[1;33m(\u001b[0m\u001b[1;34m'ecoinvent3.7.1 cut-off'\u001b[0m\u001b[1;33m)\u001b[0m\u001b[1;33m.\u001b[0m\u001b[0mget\u001b[0m\u001b[1;33m(\u001b[0m\u001b[0mmix3\u001b[0m\u001b[1;33m.\u001b[0m\u001b[0mkey\u001b[0m\u001b[1;33m[\u001b[0m\u001b[1;36m1\u001b[0m\u001b[1;33m]\u001b[0m\u001b[1;33m)\u001b[0m\u001b[1;33m.\u001b[0m\u001b[0mexchanges\u001b[0m\u001b[1;33m(\u001b[0m\u001b[1;33m)\u001b[0m\u001b[1;33m]\u001b[0m\u001b[1;33m\u001b[0m\u001b[1;33m\u001b[0m\u001b[0m\n\u001b[0;32m      2\u001b[0m \u001b[1;32mfor\u001b[0m \u001b[0mi\u001b[0m \u001b[1;32min\u001b[0m \u001b[0mlist\u001b[0m\u001b[1;33m(\u001b[0m\u001b[0mnp\u001b[0m\u001b[1;33m.\u001b[0m\u001b[0marange\u001b[0m\u001b[1;33m(\u001b[0m\u001b[0mlen\u001b[0m\u001b[1;33m(\u001b[0m\u001b[0mex\u001b[0m\u001b[1;33m)\u001b[0m\u001b[1;33m)\u001b[0m\u001b[1;33m)\u001b[0m\u001b[1;33m:\u001b[0m\u001b[1;33m\u001b[0m\u001b[1;33m\u001b[0m\u001b[0m\n\u001b[1;32m----> 3\u001b[1;33m     \u001b[0mprint\u001b[0m\u001b[1;33m(\u001b[0m\u001b[0mi\u001b[0m\u001b[1;33m,\u001b[0m \u001b[0mbw\u001b[0m\u001b[1;33m.\u001b[0m\u001b[0mDatabase\u001b[0m\u001b[1;33m(\u001b[0m\u001b[1;34m'ecoinvent3.7.1 cut-off'\u001b[0m\u001b[1;33m)\u001b[0m\u001b[1;33m.\u001b[0m\u001b[0mget\u001b[0m\u001b[1;33m(\u001b[0m\u001b[0mexkey\u001b[0m\u001b[1;33m[\u001b[0m\u001b[0mi\u001b[0m\u001b[1;33m]\u001b[0m\u001b[1;33m)\u001b[0m\u001b[1;33m)\u001b[0m\u001b[1;33m\u001b[0m\u001b[1;33m\u001b[0m\u001b[0m\n\u001b[0m",
      "\u001b[1;32m~\\AppData\\Local\\Continuum\\anaconda3\\envs\\autobw\\lib\\site-packages\\bw2data\\backends\\peewee\\database.py\u001b[0m in \u001b[0;36mget\u001b[1;34m(self, code)\u001b[0m\n\u001b[0;32m    130\u001b[0m     \u001b[1;32mdef\u001b[0m \u001b[0mget\u001b[0m\u001b[1;33m(\u001b[0m\u001b[0mself\u001b[0m\u001b[1;33m,\u001b[0m \u001b[0mcode\u001b[0m\u001b[1;33m)\u001b[0m\u001b[1;33m:\u001b[0m\u001b[1;33m\u001b[0m\u001b[1;33m\u001b[0m\u001b[0m\n\u001b[0;32m    131\u001b[0m         return Activity(\n\u001b[1;32m--> 132\u001b[1;33m             self._get_queryset(filters=False).where(\n\u001b[0m\u001b[0;32m    133\u001b[0m                 ActivityDataset.code == code).get()\n\u001b[0;32m    134\u001b[0m         )\n",
      "\u001b[1;32m~\\AppData\\Local\\Continuum\\anaconda3\\envs\\autobw\\lib\\site-packages\\peewee.py\u001b[0m in \u001b[0;36mget\u001b[1;34m(self, database)\u001b[0m\n\u001b[0;32m   6885\u001b[0m         \u001b[1;32mexcept\u001b[0m \u001b[0mIndexError\u001b[0m\u001b[1;33m:\u001b[0m\u001b[1;33m\u001b[0m\u001b[1;33m\u001b[0m\u001b[0m\n\u001b[0;32m   6886\u001b[0m             \u001b[0msql\u001b[0m\u001b[1;33m,\u001b[0m \u001b[0mparams\u001b[0m \u001b[1;33m=\u001b[0m \u001b[0mclone\u001b[0m\u001b[1;33m.\u001b[0m\u001b[0msql\u001b[0m\u001b[1;33m(\u001b[0m\u001b[1;33m)\u001b[0m\u001b[1;33m\u001b[0m\u001b[1;33m\u001b[0m\u001b[0m\n\u001b[1;32m-> 6887\u001b[1;33m             raise self.model.DoesNotExist('%s instance matching query does '\n\u001b[0m\u001b[0;32m   6888\u001b[0m                                           \u001b[1;34m'not exist:\\nSQL: %s\\nParams: %s'\u001b[0m \u001b[1;33m%\u001b[0m\u001b[1;33m\u001b[0m\u001b[1;33m\u001b[0m\u001b[0m\n\u001b[0;32m   6889\u001b[0m                                           (clone.model, sql, params))\n",
      "\u001b[1;31mActivityDatasetDoesNotExist\u001b[0m: <Model: ActivityDataset> instance matching query does not exist:\nSQL: SELECT \"t1\".\"id\", \"t1\".\"data\", \"t1\".\"code\", \"t1\".\"database\", \"t1\".\"location\", \"t1\".\"name\", \"t1\".\"product\", \"t1\".\"type\" FROM \"activitydataset\" AS \"t1\" WHERE ((\"t1\".\"database\" = ?) AND (\"t1\".\"code\" = ?)) ORDER BY Random() LIMIT ? OFFSET ?\nParams: ['ecoinvent3.7.1 cut-off', '20185046-64bb-4c09-a8e7-e8a9e144ca98', 1, 0]"
     ]
    }
   ],
   "source": [
    "exkey = [i.as_dict()['input'][1] for i in bw.Database('ecoinvent3.7.1 cut-off').get(mix3.key[1]).exchanges()]\n",
    "for i in list(np.arange(len(ex))):\n",
    "    print(i, bw.Database('ecoinvent3.7.1 cut-off').get(exkey[i]))"
   ]
  },
  {
   "cell_type": "code",
   "execution_count": 72,
   "id": "2d9761f4",
   "metadata": {},
   "outputs": [
    {
     "data": {
      "text/plain": [
       "[Exchange: 1.0 kilowatt hour 'market group for electricity, high voltage' (kilowatt hour, US, None) to 'market group for electricity, high voltage' (kilowatt hour, US, None)>,\n",
       " Exchange: 0.00128604683938465 kilowatt hour 'market for electricity, high voltage' (kilowatt hour, US-ASCC, None) to 'market group for electricity, high voltage' (kilowatt hour, US, None)>,\n",
       " Exchange: 0.0546860566892221 kilowatt hour 'market for electricity, high voltage' (kilowatt hour, US-FRCC, None) to 'market group for electricity, high voltage' (kilowatt hour, US, None)>,\n",
       " Exchange: 0.00215847303397079 kilowatt hour 'market for electricity, high voltage' (kilowatt hour, US-HICC, None) to 'market group for electricity, high voltage' (kilowatt hour, US, None)>,\n",
       " Exchange: 0.112963252700324 kilowatt hour 'market for electricity, high voltage' (kilowatt hour, US-MRO, None) to 'market group for electricity, high voltage' (kilowatt hour, US, None)>,\n",
       " Exchange: 0.0632203796486565 kilowatt hour 'market for electricity, high voltage' (kilowatt hour, US-NPCC, None) to 'market group for electricity, high voltage' (kilowatt hour, US, None)>,\n",
       " Exchange: 0.225125370284622 kilowatt hour 'market for electricity, high voltage' (kilowatt hour, US-RFC, None) to 'market group for electricity, high voltage' (kilowatt hour, US, None)>,\n",
       " Exchange: 0.272569066282529 kilowatt hour 'market for electricity, high voltage' (kilowatt hour, US-SERC, None) to 'market group for electricity, high voltage' (kilowatt hour, US, None)>,\n",
       " Exchange: 0.0965444379793237 kilowatt hour 'market for electricity, high voltage' (kilowatt hour, US-TRE, None) to 'market group for electricity, high voltage' (kilowatt hour, US, None)>,\n",
       " Exchange: 0.171446916541968 kilowatt hour 'market for electricity, high voltage' (kilowatt hour, US-WECC, None) to 'market group for electricity, high voltage' (kilowatt hour, US, None)>]"
      ]
     },
     "execution_count": 72,
     "metadata": {},
     "output_type": "execute_result"
    }
   ],
   "source": [
    "market1=elecmarketgroup[0]\n",
    "[i for i in bw.Database('ecoinvent3.7.1 cut-off').get(market1.key[1]).exchanges()]"
   ]
  },
  {
   "cell_type": "code",
   "execution_count": 73,
   "id": "0e95ce9c",
   "metadata": {},
   "outputs": [
    {
     "data": {
      "text/plain": [
       "['electricity production, nuclear, pressure water reactor' (kilowatt hour, US-RFC, None),\n",
       " 'electricity production, nuclear, boiling water reactor' (kilowatt hour, US-SERC, None),\n",
       " 'electricity production, natural gas, combined cycle power plant' (kilowatt hour, US-ASCC, None),\n",
       " 'electricity production, wind, 1-3MW turbine, onshore' (kilowatt hour, US-NPCC, None),\n",
       " 'electricity production, photovoltaic, 3kWp slanted-roof installation, multi-Si, panel, mounted' (kilowatt hour, US-SERC, None),\n",
       " 'electricity production, photovoltaic, 3kWp slanted-roof installation, multi-Si, panel, mounted' (kilowatt hour, US-NPCC, None),\n",
       " 'electricity production, wind, 1-3MW turbine, onshore' (kilowatt hour, US-TRE, None),\n",
       " 'electricity production, lignite' (kilowatt hour, US-NPCC, None),\n",
       " 'electricity production, deep geothermal' (kilowatt hour, US-HICC, None),\n",
       " 'electricity production, lignite' (kilowatt hour, US-HICC, None),\n",
       " 'electricity production, wind, 1-3MW turbine, onshore' (kilowatt hour, US-ASCC, None),\n",
       " 'electricity production, hydro, run-of-river' (kilowatt hour, US-NPCC, None),\n",
       " 'electricity production, photovoltaic, 3kWp slanted-roof installation, multi-Si, panel, mounted' (kilowatt hour, US-RFC, None),\n",
       " 'electricity production, photovoltaic, 3kWp slanted-roof installation, multi-Si, panel, mounted' (kilowatt hour, US-TRE, None),\n",
       " 'electricity production, wind, <1MW turbine, onshore' (kilowatt hour, US-ASCC, None),\n",
       " 'electricity production, lignite' (kilowatt hour, US-MRO, None),\n",
       " 'electricity production, photovoltaic, 3kWp slanted-roof installation, single-Si, panel, mounted' (kilowatt hour, US-FRCC, None),\n",
       " 'electricity production, hydro, pumped storage' (kilowatt hour, US-RFC, None),\n",
       " 'electricity production, oil' (kilowatt hour, US-TRE, None),\n",
       " 'electricity production, hard coal' (kilowatt hour, US-SERC, None),\n",
       " 'electricity production, nuclear, pressure water reactor' (kilowatt hour, US-MRO, None),\n",
       " 'electricity production, wind, <1MW turbine, onshore' (kilowatt hour, US-WECC, None),\n",
       " 'electricity production, lignite' (kilowatt hour, US-RFC, None),\n",
       " 'electricity production, wind, >3MW turbine, onshore' (kilowatt hour, US-NPCC, None),\n",
       " 'electricity production, natural gas, conventional power plant' (kilowatt hour, US-NPCC, None),\n",
       " 'electricity production, oil' (kilowatt hour, US-WECC, None),\n",
       " 'electricity production, hydro, pumped storage' (kilowatt hour, US-SERC, None),\n",
       " 'electricity production, hydro, pumped storage' (kilowatt hour, US-TRE, None),\n",
       " 'electricity production, wind, 1-3MW turbine, onshore' (kilowatt hour, US-MRO, None),\n",
       " 'electricity production, wind, <1MW turbine, onshore' (kilowatt hour, US-SERC, None),\n",
       " 'electricity production, solar tower power plant, 20 MW' (kilowatt hour, US-WECC, None),\n",
       " 'electricity production, lignite' (kilowatt hour, US-WECC, None),\n",
       " 'electricity production, hard coal' (kilowatt hour, US-FRCC, None),\n",
       " 'electricity production, wind, 1-3MW turbine, onshore' (kilowatt hour, US-WECC, None),\n",
       " 'electricity production, natural gas, conventional power plant' (kilowatt hour, US-ASCC, None),\n",
       " 'electricity production, hard coal' (kilowatt hour, US-RFC, None),\n",
       " 'electricity production, natural gas, conventional power plant' (kilowatt hour, US-MRO, None),\n",
       " 'electricity production, hydro, pumped storage' (kilowatt hour, US-WECC, None),\n",
       " 'electricity production, natural gas, conventional power plant' (kilowatt hour, US-FRCC, None),\n",
       " 'electricity production, hydro, reservoir, alpine region' (kilowatt hour, US-WECC, None),\n",
       " 'electricity production, photovoltaic, 3kWp slanted-roof installation, single-Si, panel, mounted' (kilowatt hour, US-SERC, None),\n",
       " 'electricity production, hard coal' (kilowatt hour, US-WECC, None),\n",
       " 'electricity production, nuclear, pressure water reactor' (kilowatt hour, US-NPCC, None),\n",
       " 'electricity production, wind, <1MW turbine, onshore' (kilowatt hour, US-MRO, None),\n",
       " 'electricity production, hydro, run-of-river' (kilowatt hour, US-FRCC, None),\n",
       " 'electricity production, photovoltaic, 3kWp slanted-roof installation, single-Si, panel, mounted' (kilowatt hour, US-NPCC, None),\n",
       " 'electricity production, photovoltaic, 3kWp slanted-roof installation, multi-Si, panel, mounted' (kilowatt hour, US-HICC, None),\n",
       " 'electricity production, wind, 1-3MW turbine, onshore' (kilowatt hour, US-RFC, None),\n",
       " 'electricity production, photovoltaic, 3kWp slanted-roof installation, single-Si, panel, mounted' (kilowatt hour, US-RFC, None),\n",
       " 'electricity production, natural gas, combined cycle power plant' (kilowatt hour, US-MRO, None),\n",
       " 'electricity production, wind, <1MW turbine, onshore' (kilowatt hour, US-NPCC, None),\n",
       " 'electricity production, hydro, pumped storage' (kilowatt hour, US-NPCC, None),\n",
       " 'electricity production, photovoltaic, 3kWp slanted-roof installation, single-Si, panel, mounted' (kilowatt hour, US-WECC, None),\n",
       " 'electricity production, hard coal' (kilowatt hour, US-TRE, None),\n",
       " 'electricity production, wind, >3MW turbine, onshore' (kilowatt hour, US-ASCC, None),\n",
       " 'electricity production, hard coal' (kilowatt hour, US-NPCC, None),\n",
       " 'electricity production, hydro, pumped storage' (kilowatt hour, US-ASCC, None),\n",
       " 'electricity production, hydro, run-of-river' (kilowatt hour, US-RFC, None),\n",
       " 'electricity production, wind, 1-3MW turbine, onshore' (kilowatt hour, US-SERC, None),\n",
       " 'electricity production, photovoltaic, 3kWp slanted-roof installation, single-Si, panel, mounted' (kilowatt hour, US-TRE, None),\n",
       " 'electricity production, oil' (kilowatt hour, US-HICC, None),\n",
       " 'electricity production, nuclear, pressure water reactor' (kilowatt hour, US-SERC, None),\n",
       " 'electricity production, lignite' (kilowatt hour, US-ASCC, None),\n",
       " 'electricity production, wind, >3MW turbine, onshore' (kilowatt hour, US-MRO, None),\n",
       " 'electricity production, photovoltaic, 570kWp open ground installation, multi-Si' (kilowatt hour, US-SERC, None),\n",
       " 'electricity production, hydro, reservoir, alpine region' (kilowatt hour, US-ASCC, None),\n",
       " 'electricity production, wind, <1MW turbine, onshore' (kilowatt hour, US-HICC, None),\n",
       " 'electricity production, hydro, run-of-river' (kilowatt hour, US-WECC, None),\n",
       " 'electricity production, hard coal' (kilowatt hour, US-ASCC, None),\n",
       " 'electricity production, natural gas, conventional power plant' (kilowatt hour, US-RFC, None),\n",
       " 'electricity production, wind, >3MW turbine, onshore' (kilowatt hour, US-RFC, None),\n",
       " 'electricity production, wind, <1MW turbine, onshore' (kilowatt hour, US-TRE, None),\n",
       " 'electricity production, hydro, run-of-river' (kilowatt hour, US-TRE, None),\n",
       " 'electricity production, natural gas, combined cycle power plant' (kilowatt hour, US-TRE, None),\n",
       " 'electricity production, natural gas, combined cycle power plant' (kilowatt hour, US-FRCC, None),\n",
       " 'electricity production, nuclear, boiling water reactor' (kilowatt hour, US-RFC, None),\n",
       " 'electricity production, hard coal' (kilowatt hour, US-HICC, None),\n",
       " 'electricity production, photovoltaic, 570kWp open ground installation, multi-Si' (kilowatt hour, US-RFC, None),\n",
       " 'electricity production, natural gas, combined cycle power plant' (kilowatt hour, US-NPCC, None),\n",
       " 'electricity production, wind, >3MW turbine, onshore' (kilowatt hour, US-TRE, None),\n",
       " 'electricity production, deep geothermal' (kilowatt hour, US-WECC, None),\n",
       " 'electricity production, hydro, reservoir, non-alpine region' (kilowatt hour, US-TRE, None),\n",
       " 'electricity production, hydro, reservoir, alpine region' (kilowatt hour, US-NPCC, None),\n",
       " 'electricity production, hydro, pumped storage' (kilowatt hour, US-MRO, None),\n",
       " 'electricity production, photovoltaic, 570kWp open ground installation, multi-Si' (kilowatt hour, US-FRCC, None),\n",
       " 'electricity production, hydro, reservoir, alpine region' (kilowatt hour, US-RFC, None),\n",
       " 'electricity production, wind, >3MW turbine, onshore' (kilowatt hour, US-HICC, None),\n",
       " 'electricity production, hydro, pumped storage' (kilowatt hour, US-HICC, None),\n",
       " 'electricity production, oil' (kilowatt hour, US-MRO, None),\n",
       " 'electricity production, hard coal' (kilowatt hour, US-MRO, None),\n",
       " 'electricity production, oil' (kilowatt hour, US-NPCC, None),\n",
       " 'electricity production, nuclear, boiling water reactor' (kilowatt hour, US-FRCC, None),\n",
       " 'electricity production, hydro, run-of-river' (kilowatt hour, US-HICC, None),\n",
       " 'electricity production, solar thermal parabolic trough, 50 MW' (kilowatt hour, US-WECC, None),\n",
       " 'electricity production, lignite' (kilowatt hour, US-TRE, None),\n",
       " 'electricity production, lignite' (kilowatt hour, US-SERC, None),\n",
       " 'electricity production, photovoltaic, 3kWp slanted-roof installation, multi-Si, panel, mounted' (kilowatt hour, US-FRCC, None),\n",
       " 'electricity production, lignite' (kilowatt hour, US-FRCC, None),\n",
       " 'electricity production, nuclear, boiling water reactor' (kilowatt hour, US-NPCC, None),\n",
       " 'electricity production, nuclear, pressure water reactor' (kilowatt hour, US-WECC, None),\n",
       " 'electricity production, hydro, pumped storage' (kilowatt hour, US-FRCC, None),\n",
       " 'electricity production, nuclear, pressure water reactor' (kilowatt hour, US-TRE, None),\n",
       " 'electricity production, nuclear, boiling water reactor' (kilowatt hour, US-TRE, None),\n",
       " 'electricity production, hydro, run-of-river' (kilowatt hour, US-SERC, None),\n",
       " 'electricity production, wind, <1MW turbine, onshore' (kilowatt hour, US-RFC, None),\n",
       " 'electricity production, photovoltaic, 3kWp slanted-roof installation, single-Si, panel, mounted' (kilowatt hour, US-HICC, None),\n",
       " 'electricity production, oil' (kilowatt hour, US-FRCC, None),\n",
       " 'electricity production, oil' (kilowatt hour, US-RFC, None),\n",
       " 'electricity production, nuclear, pressure water reactor' (kilowatt hour, US-FRCC, None),\n",
       " 'electricity production, nuclear, boiling water reactor' (kilowatt hour, US-WECC, None),\n",
       " 'electricity production, oil' (kilowatt hour, US-SERC, None),\n",
       " 'electricity production, natural gas, combined cycle power plant' (kilowatt hour, US-WECC, None),\n",
       " 'electricity production, wind, 1-3MW turbine, onshore' (kilowatt hour, US-HICC, None),\n",
       " 'electricity production, photovoltaic, 570kWp open ground installation, multi-Si' (kilowatt hour, US-WECC, None),\n",
       " 'electricity production, natural gas, conventional power plant' (kilowatt hour, US-WECC, None),\n",
       " 'electricity production, deep geothermal' (kilowatt hour, US-SERC, None),\n",
       " 'electricity production, hydro, reservoir, alpine region' (kilowatt hour, US-MRO, None),\n",
       " 'electricity production, natural gas, conventional power plant' (kilowatt hour, US-SERC, None),\n",
       " 'electricity production, wind, >3MW turbine, onshore' (kilowatt hour, US-WECC, None),\n",
       " 'electricity production, photovoltaic, 3kWp slanted-roof installation, multi-Si, panel, mounted' (kilowatt hour, US-WECC, None),\n",
       " 'electricity production, photovoltaic, 570kWp open ground installation, multi-Si' (kilowatt hour, US-HICC, None),\n",
       " 'electricity production, nuclear, boiling water reactor' (kilowatt hour, US-MRO, None),\n",
       " 'electricity production, natural gas, combined cycle power plant' (kilowatt hour, US-RFC, None),\n",
       " 'electricity production, oil' (kilowatt hour, US-ASCC, None),\n",
       " 'electricity production, wind, >3MW turbine, onshore' (kilowatt hour, US-SERC, None),\n",
       " 'electricity production, hydro, run-of-river' (kilowatt hour, US-MRO, None),\n",
       " 'electricity production, photovoltaic, 570kWp open ground installation, multi-Si' (kilowatt hour, US-NPCC, None),\n",
       " 'electricity production, natural gas, conventional power plant' (kilowatt hour, US-TRE, None),\n",
       " 'electricity production, hydro, reservoir, non-alpine region' (kilowatt hour, US-HICC, None),\n",
       " 'electricity production, natural gas, combined cycle power plant' (kilowatt hour, US-SERC, None),\n",
       " 'electricity production, hydro, run-of-river' (kilowatt hour, US-ASCC, None),\n",
       " 'electricity production, hydro, reservoir, non-alpine region' (kilowatt hour, US-FRCC, None),\n",
       " 'electricity production, solar thermal parabolic trough, 50 MW' (kilowatt hour, US-FRCC, None),\n",
       " 'electricity production, hydro, reservoir, alpine region' (kilowatt hour, US-SERC, None)]"
      ]
     },
     "execution_count": 73,
     "metadata": {},
     "output_type": "execute_result"
    }
   ],
   "source": [
    "elecfuel = [i for i in bw.Database('ecoinvent3.7.1 cut-off') \n",
    "             for loc in elec_locs \n",
    "             if (loc in i.as_dict()['location'])\n",
    "             and ('electricity production' in i.as_dict()['name'])]\n",
    "elecfuel"
   ]
  },
  {
   "cell_type": "code",
   "execution_count": 60,
   "id": "b4db6d4a",
   "metadata": {},
   "outputs": [
    {
     "data": {
      "text/plain": [
       "'beryllium hydroxide production' (kilogram, US, None)"
      ]
     },
     "execution_count": 60,
     "metadata": {},
     "output_type": "execute_result"
    }
   ],
   "source": [
    "elecconsumer = usdb[1]\n",
    "elecconsumer"
   ]
  },
  {
   "cell_type": "code",
   "execution_count": 61,
   "id": "43455086",
   "metadata": {},
   "outputs": [
    {
     "data": {
      "text/plain": [
       "[Exchange: 15.93291405 megajoule 'market for heat, district or industrial, natural gas' (megajoule, RoW, None) to 'beryllium hydroxide production' (kilogram, US, None)>,\n",
       " Exchange: -0.733199502 cubic meter 'market for wastewater from pig iron production' (cubic meter, RoW, None) to 'beryllium hydroxide production' (kilogram, US, None)>,\n",
       " Exchange: 1.0 kilogram 'beryllium hydroxide production' (kilogram, US, None) to 'beryllium hydroxide production' (kilogram, US, None)>,\n",
       " Exchange: 6.9392e-06 meter 'market for conveyor belt' (meter, GLO, None) to 'beryllium hydroxide production' (kilogram, US, None)>,\n",
       " Exchange: 1.551362683 kilogram 'market for sulfuric acid' (kilogram, RoW, None) to 'beryllium hydroxide production' (kilogram, US, None)>,\n",
       " Exchange: 4.57023e-09 unit 'market for mine infrastructure, open cast, non-ferrous metal' (unit, GLO, None) to 'beryllium hydroxide production' (kilogram, US, None)>,\n",
       " Exchange: 15.93291405 kilowatt hour 'market group for electricity, medium voltage' (kilowatt hour, US, None) to 'beryllium hydroxide production' (kilogram, US, None)>,\n",
       " Exchange: 3.123689727 kilogram 'market for ammonia, anhydrous, liquid' (kilogram, RNA, None) to 'beryllium hydroxide production' (kilogram, US, None)>,\n",
       " Exchange: 22.01257862 megajoule 'market for diesel, burned in building machine' (megajoule, GLO, None) to 'beryllium hydroxide production' (kilogram, US, None)>,\n",
       " Exchange: -142.1521267 kilogram 'market for non-sulfidic tailing, off-site' (kilogram, GLO, None) to 'beryllium hydroxide production' (kilogram, US, None)>,\n",
       " Exchange: 0.775681342 cubic meter 'Water, well, in ground' (cubic meter, None, ('natural resource', 'in water')) to 'beryllium hydroxide production' (kilogram, US, None)>,\n",
       " Exchange: 0.238068181818182 kilogram 'Beryllium, in ground' (kilogram, None, ('natural resource', 'in ground')) to 'beryllium hydroxide production' (kilogram, US, None)>,\n",
       " Exchange: 0.000784067 square meter 'Transformation, from unspecified' (square meter, None, ('natural resource', 'land')) to 'beryllium hydroxide production' (kilogram, US, None)>,\n",
       " Exchange: 0.000784067 square meter 'Transformation, to mineral extraction site' (square meter, None, ('natural resource', 'land')) to 'beryllium hydroxide production' (kilogram, US, None)>,\n",
       " Exchange: 95.7571664222874 kilogram 'Gangue, in ground' (kilogram, None, ('natural resource', 'in ground')) to 'beryllium hydroxide production' (kilogram, US, None)>]"
      ]
     },
     "execution_count": 61,
     "metadata": {},
     "output_type": "execute_result"
    }
   ],
   "source": [
    "[i for i in bw.Database('ecoinvent3.7.1 cut-off').get(elecconsumer.key[1]).exchanges()]"
   ]
  },
  {
   "cell_type": "markdown",
   "id": "5818e06f",
   "metadata": {},
   "source": [
    "For reference: A list of all processes in Ecoinvent with a US location. These processes will use a \"market group for electricity\" input that combines \"market for electricity\" processes and ultimately uses U.S. grid mixes."
   ]
  },
  {
   "cell_type": "code",
   "execution_count": null,
   "id": "adaa9b98",
   "metadata": {},
   "outputs": [],
   "source": [
    "usdb = [i for i in bw.Database('ecoinvent3.7.1 cut-off') if (\n",
    "    i.as_dict()['location'] == 'US'\n",
    ")]"
   ]
  }
 ],
 "metadata": {
  "kernelspec": {
   "display_name": "Python 3 (ipykernel)",
   "language": "python",
   "name": "python3"
  },
  "language_info": {
   "codemirror_mode": {
    "name": "ipython",
    "version": 3
   },
   "file_extension": ".py",
   "mimetype": "text/x-python",
   "name": "python",
   "nbconvert_exporter": "python",
   "pygments_lexer": "ipython3",
   "version": "3.9.7"
  }
 },
 "nbformat": 4,
 "nbformat_minor": 5
}
