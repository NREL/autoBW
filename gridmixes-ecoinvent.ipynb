{
 "cells": [
  {
   "cell_type": "code",
   "execution_count": 1,
   "id": "074ae48b",
   "metadata": {},
   "outputs": [],
   "source": [
    "import brightway2 as bw\n",
    "import pandas as pd\n",
    "import numpy as np"
   ]
  },
  {
   "cell_type": "code",
   "execution_count": 2,
   "id": "699a3a57",
   "metadata": {},
   "outputs": [],
   "source": [
    "bw.projects.set_current('psh_lca')"
   ]
  },
  {
   "cell_type": "code",
   "execution_count": 3,
   "id": "7795e11e",
   "metadata": {},
   "outputs": [
    {
     "data": {
      "text/plain": [
       "Databases dictionary with 3 object(s):\n",
       "\tbiosphere3\n",
       "\tecoinvent3.7.1 cut-off\n",
       "\tecoinvent3.8 cons"
      ]
     },
     "execution_count": 3,
     "metadata": {},
     "output_type": "execute_result"
    }
   ],
   "source": [
    "bw.databases"
   ]
  },
  {
   "cell_type": "markdown",
   "id": "8034ad09",
   "metadata": {},
   "source": [
    "Database dictionary must contain both ecoinvent3.8 cons and ecoinvent3.7.1 cut-off for the following notebook to work without revision. If your databases have different names, edit the \"eco\" variable defined in the first cell of each section to match your local ecoinvent database names.\n",
    "\n",
    "Ecoinvent contains grid mixes for the U.S. electric regions listed in the cell below.\n",
    "\n",
    "Source: Ecoinvent electricity writeup at\n",
    "https://proyectaryproducir.com.ar/public_html/Seminarios_Posgrado/Material_de_referencia/ecoinvent-electricity%20datasets%20201305%20final.pdf\n",
    "\n",
    "### Database name definition"
   ]
  },
  {
   "cell_type": "code",
   "execution_count": 4,
   "id": "7ad79b9a",
   "metadata": {},
   "outputs": [],
   "source": [
    "eco7 = \"ecoinvent3.7.1 cut-off\"\n",
    "eco8 = \"ecoinvent3.8 cons\""
   ]
  },
  {
   "cell_type": "markdown",
   "id": "ad42125d",
   "metadata": {},
   "source": [
    "### List of U.S. grid regions"
   ]
  },
  {
   "cell_type": "code",
   "execution_count": 5,
   "id": "592303ce",
   "metadata": {},
   "outputs": [],
   "source": [
    "elec_locs = ['FRCC', 'ASCC', 'HICC', \n",
    "             'MRO', 'NPCC', 'RFC', \n",
    "             'SERC', 'SPP', 'TRE',\n",
    "             'WECC']"
   ]
  },
  {
   "cell_type": "markdown",
   "id": "4c99c6dc",
   "metadata": {},
   "source": [
    "### Processes that probably use U.S. electricity\n",
    "\n",
    "For reference (used at the end of this section): A list of all processes in Ecoinvent with a US location, *other than* processes directly involved in electricity generation and transmission. These processes will use a \"market group for electricity\" input that combines \"market for electricity\" processes and ultimately uses U.S. grid mixes."
   ]
  },
  {
   "cell_type": "code",
   "execution_count": 6,
   "id": "a1cd8b8b",
   "metadata": {},
   "outputs": [
    {
     "data": {
      "text/plain": [
       "['cement, all types to generic market for cement, unspecified' (kilogram, US, None),\n",
       " 'market for polyethylene, high density, granulate, recycled' (kilogram, US, None),\n",
       " 'market for water, decarbonised' (kilogram, US, None),\n",
       " 'uranium production, diffusion, enriched 4.2%' (unit, US, None),\n",
       " 'natural gas production' (cubic meter, US, None)]"
      ]
     },
     "execution_count": 6,
     "metadata": {},
     "output_type": "execute_result"
    }
   ],
   "source": [
    "usdb = [i for i in bw.Database(eco7) if (\n",
    "    i.as_dict()['location'] == 'US'\n",
    ")]\n",
    "usdb[:5]"
   ]
  },
  {
   "cell_type": "code",
   "execution_count": 7,
   "id": "91e77ceb",
   "metadata": {},
   "outputs": [
    {
     "data": {
      "text/plain": [
       "['uranium production, diffusion, enriched 3.9%' (unit, US, None),\n",
       " 'polyethylene terephthalate, granulate, amorphous, recycled to generic market for amorphous PET granulate' (kilogram, US, None),\n",
       " '1,1-difluoroethane production, HFC-152a' (kilogram, US, None),\n",
       " 'market for polyethylene terephthalate, granulate, amorphous, recycled' (kilogram, US, None),\n",
       " 'water production, decarbonised' (kilogram, US, None)]"
      ]
     },
     "execution_count": 7,
     "metadata": {},
     "output_type": "execute_result"
    }
   ],
   "source": [
    "usdb = [i for i in bw.Database(eco8) if (\n",
    "    i.as_dict()['location'] == 'US'\n",
    ")]\n",
    "usdb[:5]"
   ]
  },
  {
   "cell_type": "markdown",
   "id": "f583b1c8",
   "metadata": {},
   "source": [
    "### All electricity-related activites"
   ]
  },
  {
   "cell_type": "code",
   "execution_count": 8,
   "id": "9c05ac59",
   "metadata": {},
   "outputs": [
    {
     "data": {
      "text/plain": [
       "['market for electricity, high voltage' (kilowatt hour, US-WECC, None),\n",
       " 'electricity production, photovoltaic, 3kWp slanted-roof installation, single-Si, panel, mounted' (kilowatt hour, US-SERC, None),\n",
       " 'market for electricity, medium voltage' (kilowatt hour, US-ASCC, None),\n",
       " 'electricity voltage transformation from medium to low voltage' (kilowatt hour, US-NPCC, None),\n",
       " 'electricity production, hydro, pumped storage' (kilowatt hour, US-NPCC, None),\n",
       " 'electricity production, nuclear, boiling water reactor' (kilowatt hour, US-TRE, None),\n",
       " 'electricity production, deep geothermal' (kilowatt hour, US-WECC, None),\n",
       " 'electricity production, natural gas, conventional power plant' (kilowatt hour, US-WECC, None),\n",
       " 'electricity production, photovoltaic, 570kWp open ground installation, multi-Si' (kilowatt hour, US-RFC, None),\n",
       " 'market for electricity, high voltage' (kilowatt hour, US-RFC, None),\n",
       " 'electricity production, lignite' (kilowatt hour, US-FRCC, None),\n",
       " 'electricity production, hydro, reservoir, alpine region' (kilowatt hour, US-NPCC, None),\n",
       " 'electricity production, photovoltaic, 570kWp open ground installation, multi-Si' (kilowatt hour, US-SERC, None),\n",
       " 'electricity production, photovoltaic, 3kWp slanted-roof installation, single-Si, panel, mounted' (kilowatt hour, US-WECC, None),\n",
       " 'electricity production, hydro, pumped storage' (kilowatt hour, US-HICC, None),\n",
       " 'electricity production, wind, 1-3MW turbine, onshore' (kilowatt hour, US-WECC, None),\n",
       " 'electricity production, wind, 1-3MW turbine, onshore' (kilowatt hour, US-SERC, None),\n",
       " 'electricity production, hard coal' (kilowatt hour, US-FRCC, None),\n",
       " 'electricity production, hydro, run-of-river' (kilowatt hour, US-RFC, None),\n",
       " 'electricity voltage transformation from high to medium voltage' (kilowatt hour, US-FRCC, None),\n",
       " 'electricity production, nuclear, boiling water reactor' (kilowatt hour, US-NPCC, None),\n",
       " 'electricity, high voltage, import from CA-AB' (kilowatt hour, US-WECC, None),\n",
       " 'electricity production, hydro, pumped storage' (kilowatt hour, US-RFC, None),\n",
       " 'market for electricity, high voltage' (kilowatt hour, US-HICC, None),\n",
       " 'electricity production, hydro, reservoir, alpine region' (kilowatt hour, US-MRO, None),\n",
       " 'electricity production, oil' (kilowatt hour, US-FRCC, None),\n",
       " 'electricity production, hydro, reservoir, alpine region' (kilowatt hour, US-ASCC, None),\n",
       " 'electricity voltage transformation from high to medium voltage' (kilowatt hour, US-NPCC, None),\n",
       " 'electricity production, hydro, reservoir, alpine region' (kilowatt hour, US-SERC, None),\n",
       " 'electricity, high voltage, import from MX' (kilowatt hour, US-WECC, None),\n",
       " 'electricity production, nuclear, boiling water reactor' (kilowatt hour, US-FRCC, None),\n",
       " 'electricity production, hydro, run-of-river' (kilowatt hour, US-FRCC, None),\n",
       " 'electricity production, natural gas, conventional power plant' (kilowatt hour, US-MRO, None),\n",
       " 'electricity production, deep geothermal' (kilowatt hour, US-HICC, None),\n",
       " 'electricity production, oil' (kilowatt hour, US-NPCC, None),\n",
       " 'electricity production, photovoltaic, 3kWp slanted-roof installation, multi-Si, panel, mounted' (kilowatt hour, US-SERC, None),\n",
       " 'electricity, high voltage, production mix' (kilowatt hour, US-MRO, None),\n",
       " 'market for electricity, low voltage' (kilowatt hour, US-ASCC, None),\n",
       " 'electricity production, lignite' (kilowatt hour, US-HICC, None),\n",
       " 'electricity production, nuclear, boiling water reactor' (kilowatt hour, US-RFC, None),\n",
       " 'electricity production, lignite' (kilowatt hour, US-SERC, None),\n",
       " 'electricity production, hydro, reservoir, alpine region' (kilowatt hour, US-RFC, None),\n",
       " 'electricity voltage transformation from high to medium voltage' (kilowatt hour, US-ASCC, None),\n",
       " 'electricity production, solar thermal parabolic trough, 50 MW' (kilowatt hour, US-FRCC, None),\n",
       " 'electricity production, hydro, reservoir, non-alpine region' (kilowatt hour, US-HICC, None),\n",
       " 'electricity voltage transformation from high to medium voltage' (kilowatt hour, US-MRO, None),\n",
       " 'electricity production, nuclear, pressure water reactor' (kilowatt hour, US-FRCC, None),\n",
       " 'electricity production, hydro, pumped storage' (kilowatt hour, US-FRCC, None),\n",
       " 'electricity production, natural gas, conventional power plant' (kilowatt hour, US-RFC, None),\n",
       " 'market for electricity, medium voltage' (kilowatt hour, US-NPCC, None),\n",
       " 'electricity production, nuclear, pressure water reactor' (kilowatt hour, US-MRO, None),\n",
       " 'electricity production, photovoltaic, 3kWp slanted-roof installation, multi-Si, panel, mounted' (kilowatt hour, US-NPCC, None),\n",
       " 'electricity production, wind, 1-3MW turbine, onshore' (kilowatt hour, US-NPCC, None),\n",
       " 'electricity production, wind, >3MW turbine, onshore' (kilowatt hour, US-WECC, None),\n",
       " 'market for electricity, low voltage' (kilowatt hour, US-WECC, None),\n",
       " 'electricity production, natural gas, combined cycle power plant' (kilowatt hour, US-SERC, None),\n",
       " 'electricity production, photovoltaic, 3kWp slanted-roof installation, multi-Si, panel, mounted' (kilowatt hour, US-WECC, None),\n",
       " 'market for electricity, medium voltage' (kilowatt hour, US-MRO, None),\n",
       " 'electricity, high voltage, import from MX' (kilowatt hour, US-TRE, None),\n",
       " 'electricity production, photovoltaic, 3kWp slanted-roof installation, multi-Si, panel, mounted' (kilowatt hour, US-FRCC, None),\n",
       " 'electricity production, wind, <1MW turbine, onshore' (kilowatt hour, US-ASCC, None),\n",
       " 'electricity production, lignite' (kilowatt hour, US-MRO, None),\n",
       " 'market for electricity, medium voltage' (kilowatt hour, US-TRE, None),\n",
       " 'market for electricity, high voltage' (kilowatt hour, US-FRCC, None),\n",
       " 'electricity, high voltage, production mix' (kilowatt hour, US-FRCC, None),\n",
       " 'market for electricity, low voltage' (kilowatt hour, US-HICC, None),\n",
       " 'electricity production, oil' (kilowatt hour, US-RFC, None),\n",
       " 'electricity, high voltage, production mix' (kilowatt hour, US-NPCC, None),\n",
       " 'electricity production, natural gas, combined cycle power plant' (kilowatt hour, US-TRE, None),\n",
       " 'electricity production, hydro, run-of-river' (kilowatt hour, US-NPCC, None),\n",
       " 'electricity production, hydro, pumped storage' (kilowatt hour, US-TRE, None),\n",
       " 'electricity production, natural gas, combined cycle power plant' (kilowatt hour, US-FRCC, None),\n",
       " 'electricity production, wind, 1-3MW turbine, onshore' (kilowatt hour, US-MRO, None),\n",
       " 'electricity production, wind, 1-3MW turbine, onshore' (kilowatt hour, US-HICC, None),\n",
       " 'electricity production, solar tower power plant, 20 MW' (kilowatt hour, US-WECC, None),\n",
       " 'electricity, high voltage, production mix' (kilowatt hour, US-HICC, None),\n",
       " 'market for electricity, low voltage' (kilowatt hour, US-RFC, None),\n",
       " 'electricity voltage transformation from medium to low voltage' (kilowatt hour, US-MRO, None),\n",
       " 'market for electricity, high voltage' (kilowatt hour, US-MRO, None),\n",
       " 'electricity production, oil' (kilowatt hour, US-MRO, None),\n",
       " 'market for electricity, low voltage' (kilowatt hour, US-TRE, None),\n",
       " 'electricity voltage transformation from high to medium voltage' (kilowatt hour, US-SERC, None),\n",
       " 'market for electricity, medium voltage' (kilowatt hour, US-SERC, None),\n",
       " 'electricity production, natural gas, conventional power plant' (kilowatt hour, US-NPCC, None),\n",
       " 'electricity production, oil' (kilowatt hour, US-HICC, None),\n",
       " 'electricity, high voltage, import from CA-MB' (kilowatt hour, US-MRO, None),\n",
       " 'electricity production, lignite' (kilowatt hour, US-WECC, None),\n",
       " 'electricity voltage transformation from medium to low voltage' (kilowatt hour, US-ASCC, None),\n",
       " 'electricity production, hard coal' (kilowatt hour, US-ASCC, None),\n",
       " 'market for electricity, medium voltage' (kilowatt hour, US-WECC, None),\n",
       " 'electricity production, hydro, reservoir, alpine region' (kilowatt hour, US-WECC, None),\n",
       " 'electricity, high voltage, import from CA-ON' (kilowatt hour, US-NPCC, None),\n",
       " 'electricity production, hydro, run-of-river' (kilowatt hour, US-ASCC, None),\n",
       " 'electricity production, hard coal' (kilowatt hour, US-SERC, None),\n",
       " 'electricity production, photovoltaic, 3kWp slanted-roof installation, single-Si, panel, mounted' (kilowatt hour, US-RFC, None),\n",
       " 'electricity production, oil' (kilowatt hour, US-WECC, None),\n",
       " 'market for electricity, medium voltage' (kilowatt hour, US-FRCC, None),\n",
       " 'electricity voltage transformation from medium to low voltage' (kilowatt hour, US-SERC, None),\n",
       " 'electricity production, nuclear, pressure water reactor' (kilowatt hour, US-NPCC, None),\n",
       " 'electricity production, hydro, run-of-river' (kilowatt hour, US-TRE, None),\n",
       " 'electricity production, wind, <1MW turbine, onshore' (kilowatt hour, US-NPCC, None),\n",
       " 'electricity production, lignite' (kilowatt hour, US-ASCC, None),\n",
       " 'electricity, high voltage, production mix' (kilowatt hour, US-ASCC, None),\n",
       " 'electricity production, photovoltaic, 570kWp open ground installation, multi-Si' (kilowatt hour, US-WECC, None),\n",
       " 'electricity, high voltage, import from CA-NB' (kilowatt hour, US-NPCC, None),\n",
       " 'electricity production, wind, >3MW turbine, onshore' (kilowatt hour, US-MRO, None),\n",
       " 'market for electricity, high voltage' (kilowatt hour, US-ASCC, None),\n",
       " 'electricity production, solar thermal parabolic trough, 50 MW' (kilowatt hour, US-WECC, None),\n",
       " 'electricity production, natural gas, combined cycle power plant' (kilowatt hour, US-MRO, None),\n",
       " 'electricity production, natural gas, combined cycle power plant' (kilowatt hour, US-NPCC, None),\n",
       " 'electricity production, deep geothermal' (kilowatt hour, US-SERC, None),\n",
       " 'electricity production, hydro, run-of-river' (kilowatt hour, US-HICC, None),\n",
       " 'electricity production, hydro, run-of-river' (kilowatt hour, US-MRO, None),\n",
       " 'electricity voltage transformation from high to medium voltage' (kilowatt hour, US-WECC, None),\n",
       " 'electricity production, hydro, pumped storage' (kilowatt hour, US-SERC, None),\n",
       " 'electricity, high voltage, production mix' (kilowatt hour, US-TRE, None),\n",
       " 'electricity production, hydro, reservoir, non-alpine region' (kilowatt hour, US-TRE, None),\n",
       " 'electricity production, photovoltaic, 3kWp slanted-roof installation, single-Si, panel, mounted' (kilowatt hour, US-FRCC, None),\n",
       " 'electricity voltage transformation from medium to low voltage' (kilowatt hour, US-WECC, None),\n",
       " 'electricity production, lignite' (kilowatt hour, US-RFC, None),\n",
       " 'electricity production, natural gas, conventional power plant' (kilowatt hour, US-FRCC, None),\n",
       " 'electricity production, photovoltaic, 3kWp slanted-roof installation, single-Si, panel, mounted' (kilowatt hour, US-HICC, None),\n",
       " 'electricity production, natural gas, combined cycle power plant' (kilowatt hour, US-ASCC, None),\n",
       " 'electricity production, wind, <1MW turbine, onshore' (kilowatt hour, US-WECC, None),\n",
       " 'electricity production, oil' (kilowatt hour, US-ASCC, None),\n",
       " 'electricity production, wind, <1MW turbine, onshore' (kilowatt hour, US-SERC, None),\n",
       " 'market for electricity, low voltage' (kilowatt hour, US-MRO, None),\n",
       " 'market for electricity, high voltage' (kilowatt hour, US-TRE, None),\n",
       " 'electricity voltage transformation from high to medium voltage' (kilowatt hour, US-RFC, None),\n",
       " 'electricity production, wind, >3MW turbine, onshore' (kilowatt hour, US-SERC, None),\n",
       " 'electricity production, nuclear, boiling water reactor' (kilowatt hour, US-SERC, None),\n",
       " 'electricity production, nuclear, pressure water reactor' (kilowatt hour, US-TRE, None),\n",
       " 'market for electricity, medium voltage' (kilowatt hour, US-HICC, None),\n",
       " 'electricity production, wind, >3MW turbine, onshore' (kilowatt hour, US-NPCC, None),\n",
       " 'electricity production, hydro, pumped storage' (kilowatt hour, US-MRO, None),\n",
       " 'electricity voltage transformation from high to medium voltage' (kilowatt hour, US-TRE, None),\n",
       " 'electricity production, photovoltaic, 570kWp open ground installation, multi-Si' (kilowatt hour, US-HICC, None),\n",
       " 'electricity production, hard coal' (kilowatt hour, US-HICC, None),\n",
       " 'electricity production, photovoltaic, 3kWp slanted-roof installation, single-Si, panel, mounted' (kilowatt hour, US-NPCC, None),\n",
       " 'electricity production, natural gas, conventional power plant' (kilowatt hour, US-ASCC, None),\n",
       " 'electricity, high voltage, production mix' (kilowatt hour, CENTREL, None),\n",
       " 'electricity production, hydro, run-of-river' (kilowatt hour, US-SERC, None),\n",
       " 'market for electricity, low voltage' (kilowatt hour, US-FRCC, None),\n",
       " 'electricity production, natural gas, conventional power plant' (kilowatt hour, US-SERC, None),\n",
       " 'electricity production, wind, <1MW turbine, onshore' (kilowatt hour, US-RFC, None),\n",
       " 'electricity production, photovoltaic, 570kWp open ground installation, multi-Si' (kilowatt hour, US-NPCC, None),\n",
       " 'electricity production, nuclear, pressure water reactor' (kilowatt hour, US-RFC, None),\n",
       " 'electricity production, nuclear, boiling water reactor' (kilowatt hour, US-WECC, None),\n",
       " 'electricity, high voltage, production mix' (kilowatt hour, US-SERC, None),\n",
       " 'market for electricity, medium voltage' (kilowatt hour, US-RFC, None),\n",
       " 'electricity production, hydro, run-of-river' (kilowatt hour, US-WECC, None),\n",
       " 'electricity, high voltage, import from CA-SK' (kilowatt hour, US-MRO, None),\n",
       " 'electricity production, wind, >3MW turbine, onshore' (kilowatt hour, US-ASCC, None),\n",
       " 'electricity production, oil' (kilowatt hour, US-TRE, None),\n",
       " 'electricity production, hard coal' (kilowatt hour, US-NPCC, None),\n",
       " 'electricity production, hydro, pumped storage' (kilowatt hour, US-WECC, None),\n",
       " 'electricity voltage transformation from medium to low voltage' (kilowatt hour, US-TRE, None),\n",
       " 'electricity, high voltage, import from CA-NS' (kilowatt hour, US-NPCC, None),\n",
       " 'electricity voltage transformation from high to medium voltage' (kilowatt hour, US-HICC, None),\n",
       " 'electricity production, lignite' (kilowatt hour, US-TRE, None),\n",
       " 'electricity production, wind, >3MW turbine, onshore' (kilowatt hour, US-HICC, None),\n",
       " 'electricity voltage transformation from medium to low voltage' (kilowatt hour, US-HICC, None),\n",
       " 'electricity voltage transformation from medium to low voltage' (kilowatt hour, US-RFC, None),\n",
       " 'electricity production, hydro, pumped storage' (kilowatt hour, US-ASCC, None),\n",
       " 'electricity production, natural gas, combined cycle power plant' (kilowatt hour, US-RFC, None),\n",
       " 'electricity production, hard coal' (kilowatt hour, US-RFC, None),\n",
       " 'electricity production, wind, <1MW turbine, onshore' (kilowatt hour, US-MRO, None),\n",
       " 'electricity production, hard coal' (kilowatt hour, US-MRO, None),\n",
       " 'electricity production, photovoltaic, 3kWp slanted-roof installation, multi-Si, panel, mounted' (kilowatt hour, US-RFC, None),\n",
       " 'electricity production, wind, <1MW turbine, onshore' (kilowatt hour, US-TRE, None),\n",
       " 'electricity production, wind, >3MW turbine, onshore' (kilowatt hour, US-TRE, None),\n",
       " 'electricity production, photovoltaic, 3kWp slanted-roof installation, single-Si, panel, mounted' (kilowatt hour, US-TRE, None),\n",
       " 'electricity production, photovoltaic, 570kWp open ground installation, multi-Si' (kilowatt hour, US-FRCC, None),\n",
       " 'market for electricity, low voltage' (kilowatt hour, US-SERC, None),\n",
       " 'electricity production, hard coal' (kilowatt hour, US-TRE, None),\n",
       " 'electricity production, hydro, reservoir, non-alpine region' (kilowatt hour, US-FRCC, None),\n",
       " 'market for electricity, low voltage' (kilowatt hour, US-NPCC, None),\n",
       " 'electricity production, nuclear, pressure water reactor' (kilowatt hour, US-WECC, None),\n",
       " 'electricity production, wind, 1-3MW turbine, onshore' (kilowatt hour, US-TRE, None),\n",
       " 'market for electricity, high voltage' (kilowatt hour, US-NPCC, None),\n",
       " 'electricity production, photovoltaic, 3kWp slanted-roof installation, multi-Si, panel, mounted' (kilowatt hour, US-HICC, None),\n",
       " 'electricity production, photovoltaic, 3kWp slanted-roof installation, multi-Si, panel, mounted' (kilowatt hour, US-TRE, None),\n",
       " 'electricity production, wind, <1MW turbine, onshore' (kilowatt hour, US-HICC, None),\n",
       " 'electricity production, nuclear, boiling water reactor' (kilowatt hour, US-MRO, None),\n",
       " 'electricity, high voltage, import from CA-BC' (kilowatt hour, US-WECC, None),\n",
       " 'electricity, high voltage, production mix' (kilowatt hour, US-WECC, None),\n",
       " 'electricity production, wind, 1-3MW turbine, onshore' (kilowatt hour, US-ASCC, None),\n",
       " 'electricity production, nuclear, pressure water reactor' (kilowatt hour, US-SERC, None),\n",
       " 'electricity production, oil' (kilowatt hour, US-SERC, None),\n",
       " 'electricity voltage transformation from medium to low voltage' (kilowatt hour, US-FRCC, None),\n",
       " 'electricity production, hard coal' (kilowatt hour, US-WECC, None),\n",
       " 'electricity production, natural gas, combined cycle power plant' (kilowatt hour, US-WECC, None),\n",
       " 'electricity production, wind, 1-3MW turbine, onshore' (kilowatt hour, US-RFC, None),\n",
       " 'electricity production, wind, >3MW turbine, onshore' (kilowatt hour, US-RFC, None),\n",
       " 'electricity production, natural gas, conventional power plant' (kilowatt hour, US-TRE, None),\n",
       " 'electricity, high voltage, production mix' (kilowatt hour, US-RFC, None),\n",
       " 'market for electricity, high voltage' (kilowatt hour, US-SERC, None),\n",
       " 'electricity production, lignite' (kilowatt hour, US-NPCC, None)]"
      ]
     },
     "execution_count": 8,
     "metadata": {},
     "output_type": "execute_result"
    }
   ],
   "source": [
    "elec = [i for i in bw.Database(eco7) \n",
    "             for loc in elec_locs \n",
    "             if (loc in i.as_dict()['location'])\n",
    "        and ('electricity' in i.as_dict()['name'])]\n",
    "elec"
   ]
  },
  {
   "cell_type": "code",
   "execution_count": 9,
   "id": "37a2e20b",
   "metadata": {},
   "outputs": [
    {
     "data": {
      "text/plain": [
       "['electricity production, hard coal' (kilowatt hour, US-MRO, None),\n",
       " 'electricity production, wind, >3MW turbine, onshore' (kilowatt hour, US-MRO, None),\n",
       " 'electricity production, nuclear, pressure water reactor' (kilowatt hour, US-MRO, None),\n",
       " 'electricity production, deep geothermal' (kilowatt hour, US-WECC, None),\n",
       " 'electricity production, hard coal' (kilowatt hour, US-SERC, None),\n",
       " 'electricity production, wind, 1-3MW turbine, onshore' (kilowatt hour, US-RFC, None),\n",
       " 'electricity production, hydro, reservoir, alpine region' (kilowatt hour, US-NPCC, None),\n",
       " 'electricity production, nuclear, pressure water reactor' (kilowatt hour, US-TRE, None),\n",
       " 'electricity production, hard coal' (kilowatt hour, US-ASCC, None),\n",
       " 'market for electricity, high voltage' (kilowatt hour, US-TRE, None),\n",
       " 'electricity production, lignite' (kilowatt hour, US-MRO, None),\n",
       " 'electricity voltage transformation from high to medium voltage' (kilowatt hour, US-TRE, None),\n",
       " 'market for electricity, medium voltage' (kilowatt hour, US-ASCC, None),\n",
       " 'electricity production, natural gas, combined cycle power plant' (kilowatt hour, US-TRE, None),\n",
       " 'market for electricity, high voltage' (kilowatt hour, US-RFC, None),\n",
       " 'electricity production, wind, <1MW turbine, onshore' (kilowatt hour, US-HICC, None),\n",
       " 'electricity production, hydro, run-of-river' (kilowatt hour, US-NPCC, None),\n",
       " 'electricity production, lignite' (kilowatt hour, US-NPCC, None),\n",
       " 'electricity production, natural gas, combined cycle power plant' (kilowatt hour, US-SERC, None),\n",
       " 'electricity production, oil' (kilowatt hour, US-WECC, None),\n",
       " 'electricity production, hydro, reservoir, alpine region' (kilowatt hour, US-RFC, None),\n",
       " 'electricity production, photovoltaic, 3kWp slanted-roof installation, single-Si, panel, mounted' (kilowatt hour, US-TRE, None),\n",
       " 'electricity production, deep geothermal' (kilowatt hour, US-HICC, None),\n",
       " 'electricity production, hard coal' (kilowatt hour, US-WECC, None),\n",
       " 'electricity production, solar tower power plant, 20 MW' (kilowatt hour, US-WECC, None),\n",
       " 'electricity production, nuclear, pressure water reactor' (kilowatt hour, US-SERC, None),\n",
       " 'market for electricity, high voltage' (kilowatt hour, US-MRO, None),\n",
       " 'market for electricity, high voltage' (kilowatt hour, US-NPCC, None),\n",
       " 'electricity production, natural gas, conventional power plant' (kilowatt hour, US-RFC, None),\n",
       " 'electricity production, hydro, pumped storage' (kilowatt hour, US-NPCC, None),\n",
       " 'electricity production, wind, 1-3MW turbine, onshore' (kilowatt hour, US-NPCC, None),\n",
       " 'market for electricity, medium voltage' (kilowatt hour, US-RFC, None),\n",
       " 'electricity production, natural gas, combined cycle power plant' (kilowatt hour, US-WECC, None),\n",
       " 'electricity production, hydro, pumped storage' (kilowatt hour, US-RFC, None),\n",
       " 'electricity production, photovoltaic, 3kWp slanted-roof installation, single-Si, panel, mounted' (kilowatt hour, US-RFC, None),\n",
       " 'electricity production, hydro, reservoir, alpine region' (kilowatt hour, US-SERC, None),\n",
       " 'electricity voltage transformation from medium to low voltage' (kilowatt hour, US-SERC, None),\n",
       " 'electricity voltage transformation from high to medium voltage' (kilowatt hour, US-SERC, None),\n",
       " 'electricity production, hydro, run-of-river' (kilowatt hour, US-WECC, None),\n",
       " 'electricity production, natural gas, conventional power plant' (kilowatt hour, US-ASCC, None),\n",
       " 'electricity production, oil' (kilowatt hour, US-RFC, None),\n",
       " 'electricity voltage transformation from high to medium voltage' (kilowatt hour, US-HICC, None),\n",
       " 'market for electricity, medium voltage' (kilowatt hour, US-WECC, None),\n",
       " 'electricity production, wind, <1MW turbine, onshore' (kilowatt hour, US-RFC, None),\n",
       " 'electricity production, hard coal' (kilowatt hour, US-RFC, None),\n",
       " 'electricity production, photovoltaic, 570kWp open ground installation, multi-Si' (kilowatt hour, US-WECC, None),\n",
       " 'electricity production, hard coal' (kilowatt hour, US-NPCC, None),\n",
       " 'electricity voltage transformation from medium to low voltage' (kilowatt hour, US-RFC, None),\n",
       " 'electricity production, photovoltaic, 570kWp open ground installation, multi-Si' (kilowatt hour, US-HICC, None),\n",
       " 'electricity production, lignite' (kilowatt hour, US-TRE, None),\n",
       " 'electricity production, lignite' (kilowatt hour, US-RFC, None),\n",
       " 'electricity, high voltage, import from MX' (kilowatt hour, US-TRE, None),\n",
       " 'electricity production, photovoltaic, 570kWp open ground installation, multi-Si' (kilowatt hour, US-NPCC, None),\n",
       " 'electricity, high voltage, import from CA-NB' (kilowatt hour, US-NPCC, None),\n",
       " 'electricity production, wind, 1-3MW turbine, onshore' (kilowatt hour, US-TRE, None),\n",
       " 'electricity, high voltage, import from CA-NS' (kilowatt hour, US-NPCC, None),\n",
       " 'electricity production, natural gas, combined cycle power plant' (kilowatt hour, US-ASCC, None),\n",
       " 'electricity production, hydro, reservoir, alpine region' (kilowatt hour, US-WECC, None),\n",
       " 'market for electricity, low voltage' (kilowatt hour, US-RFC, None),\n",
       " 'electricity production, natural gas, combined cycle power plant' (kilowatt hour, US-MRO, None),\n",
       " 'electricity production, deep geothermal' (kilowatt hour, US-SERC, None),\n",
       " 'electricity production, oil' (kilowatt hour, US-MRO, None),\n",
       " 'electricity production, nuclear, boiling water reactor' (kilowatt hour, US-NPCC, None),\n",
       " 'market for electricity, low voltage' (kilowatt hour, US-TRE, None),\n",
       " 'electricity production, hydro, run-of-river' (kilowatt hour, US-SERC, None),\n",
       " 'electricity production, nuclear, pressure water reactor' (kilowatt hour, US-NPCC, None),\n",
       " 'electricity, high voltage, import from CA-BC' (kilowatt hour, US-WECC, None),\n",
       " 'electricity production, natural gas, conventional power plant' (kilowatt hour, US-WECC, None),\n",
       " 'electricity production, hydro, reservoir, non-alpine region' (kilowatt hour, US-TRE, None),\n",
       " 'electricity, high voltage, import from CA-MB' (kilowatt hour, US-MRO, None),\n",
       " 'electricity production, wind, >3MW turbine, onshore' (kilowatt hour, US-WECC, None),\n",
       " 'electricity, high voltage, import from CA-ON' (kilowatt hour, US-NPCC, None),\n",
       " 'electricity production, photovoltaic, 3kWp slanted-roof installation, multi-Si, panel, mounted' (kilowatt hour, US-HICC, None),\n",
       " 'electricity production, hydro, run-of-river' (kilowatt hour, US-MRO, None),\n",
       " 'market for electricity, medium voltage' (kilowatt hour, US-NPCC, None),\n",
       " 'electricity production, solar thermal parabolic trough, 50 MW' (kilowatt hour, US-SERC, None),\n",
       " 'market for electricity, low voltage' (kilowatt hour, US-ASCC, None),\n",
       " 'market for electricity, low voltage' (kilowatt hour, US-HICC, None),\n",
       " 'electricity production, wind, >3MW turbine, onshore' (kilowatt hour, US-NPCC, None),\n",
       " 'electricity production, wind, 1-3MW turbine, onshore' (kilowatt hour, US-MRO, None),\n",
       " 'electricity production, natural gas, conventional power plant' (kilowatt hour, US-NPCC, None),\n",
       " 'electricity production, wind, <1MW turbine, onshore' (kilowatt hour, US-SERC, None),\n",
       " 'market for electricity, high voltage' (kilowatt hour, US-SERC, None),\n",
       " 'electricity production, nuclear, boiling water reactor' (kilowatt hour, US-RFC, None),\n",
       " 'electricity voltage transformation from medium to low voltage' (kilowatt hour, US-ASCC, None),\n",
       " 'electricity production, wind, 1-3MW turbine, onshore' (kilowatt hour, US-WECC, None),\n",
       " 'electricity voltage transformation from medium to low voltage' (kilowatt hour, US-HICC, None),\n",
       " 'market for electricity, medium voltage' (kilowatt hour, US-MRO, None),\n",
       " 'electricity, high voltage, import from MX' (kilowatt hour, US-WECC, None),\n",
       " 'electricity production, natural gas, conventional power plant' (kilowatt hour, US-SERC, None),\n",
       " 'electricity voltage transformation from high to medium voltage' (kilowatt hour, US-MRO, None),\n",
       " 'electricity production, lignite' (kilowatt hour, US-ASCC, None),\n",
       " 'market for electricity, medium voltage' (kilowatt hour, US-HICC, None),\n",
       " 'market for electricity, low voltage' (kilowatt hour, US-NPCC, None),\n",
       " 'electricity, high voltage, import from CA-SK' (kilowatt hour, US-MRO, None),\n",
       " 'electricity voltage transformation from high to medium voltage' (kilowatt hour, US-NPCC, None),\n",
       " 'electricity production, oil' (kilowatt hour, US-HICC, None),\n",
       " 'electricity production, oil' (kilowatt hour, US-ASCC, None),\n",
       " 'market for electricity, high voltage' (kilowatt hour, US-WECC, None),\n",
       " 'electricity production, wind, >3MW turbine, onshore' (kilowatt hour, US-ASCC, None),\n",
       " 'electricity production, hydro, pumped storage' (kilowatt hour, US-TRE, None),\n",
       " 'electricity production, wind, >3MW turbine, onshore' (kilowatt hour, US-RFC, None),\n",
       " 'market for electricity, medium voltage' (kilowatt hour, US-SERC, None),\n",
       " 'electricity production, hydro, pumped storage' (kilowatt hour, US-HICC, None),\n",
       " 'electricity production, wind, >3MW turbine, onshore' (kilowatt hour, US-TRE, None),\n",
       " 'electricity production, oil' (kilowatt hour, US-SERC, None),\n",
       " 'electricity production, hydro, run-of-river' (kilowatt hour, US-RFC, None),\n",
       " 'electricity production, photovoltaic, 570kWp open ground installation, multi-Si' (kilowatt hour, US-SERC, None),\n",
       " 'electricity production, photovoltaic, 3kWp slanted-roof installation, multi-Si, panel, mounted' (kilowatt hour, US-TRE, None),\n",
       " 'electricity production, hydro, pumped storage' (kilowatt hour, US-ASCC, None),\n",
       " 'electricity production, hydro, run-of-river' (kilowatt hour, US-TRE, None),\n",
       " 'market for electricity, low voltage' (kilowatt hour, US-WECC, None),\n",
       " 'electricity production, hydro, pumped storage' (kilowatt hour, US-WECC, None),\n",
       " 'electricity production, photovoltaic, 3kWp slanted-roof installation, multi-Si, panel, mounted' (kilowatt hour, US-NPCC, None),\n",
       " 'electricity production, photovoltaic, 3kWp slanted-roof installation, multi-Si, panel, mounted' (kilowatt hour, US-RFC, None),\n",
       " 'electricity production, nuclear, boiling water reactor' (kilowatt hour, US-TRE, None),\n",
       " 'electricity production, wind, 1-3MW turbine, onshore' (kilowatt hour, US-SERC, None),\n",
       " 'electricity production, photovoltaic, 3kWp slanted-roof installation, single-Si, panel, mounted' (kilowatt hour, US-WECC, None),\n",
       " 'electricity production, natural gas, combined cycle power plant' (kilowatt hour, US-RFC, None),\n",
       " 'electricity production, hydro, run-of-river' (kilowatt hour, US-ASCC, None),\n",
       " 'electricity production, hydro, reservoir, alpine region' (kilowatt hour, US-MRO, None),\n",
       " 'electricity production, photovoltaic, 3kWp slanted-roof installation, single-Si, panel, mounted' (kilowatt hour, US-NPCC, None),\n",
       " 'electricity production, wind, <1MW turbine, onshore' (kilowatt hour, US-TRE, None),\n",
       " 'electricity production, photovoltaic, 3kWp slanted-roof installation, single-Si, panel, mounted' (kilowatt hour, US-SERC, None),\n",
       " 'electricity production, natural gas, combined cycle power plant' (kilowatt hour, US-NPCC, None),\n",
       " 'electricity, high voltage, import from CA-AB' (kilowatt hour, US-WECC, None),\n",
       " 'electricity production, oil' (kilowatt hour, US-NPCC, None),\n",
       " 'electricity production, photovoltaic, 3kWp slanted-roof installation, multi-Si, panel, mounted' (kilowatt hour, US-WECC, None),\n",
       " 'electricity production, nuclear, pressure water reactor' (kilowatt hour, US-WECC, None),\n",
       " 'electricity production, hydro, reservoir, alpine region' (kilowatt hour, US-ASCC, None),\n",
       " 'electricity production, hydro, pumped storage' (kilowatt hour, US-MRO, None),\n",
       " 'electricity production, photovoltaic, 3kWp slanted-roof installation, multi-Si, panel, mounted' (kilowatt hour, US-SERC, None),\n",
       " 'electricity production, wind, <1MW turbine, onshore' (kilowatt hour, US-NPCC, None),\n",
       " 'market for electricity, high voltage' (kilowatt hour, US-HICC, None),\n",
       " 'electricity production, natural gas, conventional power plant' (kilowatt hour, US-TRE, None),\n",
       " 'electricity production, oil' (kilowatt hour, US-TRE, None),\n",
       " 'market for electricity, medium voltage' (kilowatt hour, US-TRE, None),\n",
       " 'electricity production, photovoltaic, 570kWp open ground installation, multi-Si' (kilowatt hour, US-RFC, None),\n",
       " 'electricity production, nuclear, boiling water reactor' (kilowatt hour, US-SERC, None),\n",
       " 'electricity production, wind, >3MW turbine, onshore' (kilowatt hour, US-HICC, None),\n",
       " 'electricity production, wind, 1-3MW turbine, onshore' (kilowatt hour, US-ASCC, None),\n",
       " 'electricity production, hard coal' (kilowatt hour, US-TRE, None),\n",
       " 'electricity production, photovoltaic, 3kWp slanted-roof installation, single-Si, panel, mounted' (kilowatt hour, US-HICC, None),\n",
       " 'electricity production, hydro, reservoir, non-alpine region' (kilowatt hour, US-SERC, None),\n",
       " 'electricity production, wind, <1MW turbine, onshore' (kilowatt hour, US-MRO, None),\n",
       " 'electricity production, hydro, reservoir, non-alpine region' (kilowatt hour, US-HICC, None),\n",
       " 'electricity voltage transformation from high to medium voltage' (kilowatt hour, US-ASCC, None),\n",
       " 'electricity voltage transformation from medium to low voltage' (kilowatt hour, US-MRO, None),\n",
       " 'electricity production, wind, <1MW turbine, onshore' (kilowatt hour, US-ASCC, None),\n",
       " 'electricity voltage transformation from high to medium voltage' (kilowatt hour, US-WECC, None),\n",
       " 'electricity production, wind, <1MW turbine, onshore' (kilowatt hour, US-WECC, None),\n",
       " 'electricity voltage transformation from medium to low voltage' (kilowatt hour, US-WECC, None),\n",
       " 'electricity production, wind, >3MW turbine, onshore' (kilowatt hour, US-SERC, None),\n",
       " 'electricity production, nuclear, boiling water reactor' (kilowatt hour, US-WECC, None),\n",
       " 'electricity production, wind, 1-3MW turbine, onshore' (kilowatt hour, US-HICC, None),\n",
       " 'electricity production, hydro, pumped storage' (kilowatt hour, US-SERC, None),\n",
       " 'market for electricity, low voltage' (kilowatt hour, US-MRO, None),\n",
       " 'market for electricity, high voltage' (kilowatt hour, US-ASCC, None),\n",
       " 'electricity production, hydro, run-of-river' (kilowatt hour, US-HICC, None),\n",
       " 'electricity voltage transformation from medium to low voltage' (kilowatt hour, US-TRE, None),\n",
       " 'electricity production, hard coal' (kilowatt hour, US-HICC, None),\n",
       " 'electricity production, natural gas, conventional power plant' (kilowatt hour, US-MRO, None),\n",
       " 'electricity voltage transformation from high to medium voltage' (kilowatt hour, US-RFC, None),\n",
       " 'electricity production, lignite' (kilowatt hour, US-HICC, None),\n",
       " 'electricity production, nuclear, boiling water reactor' (kilowatt hour, US-MRO, None),\n",
       " 'electricity production, solar thermal parabolic trough, 50 MW' (kilowatt hour, US-WECC, None),\n",
       " 'electricity voltage transformation from medium to low voltage' (kilowatt hour, US-NPCC, None),\n",
       " 'electricity production, lignite' (kilowatt hour, US-WECC, None),\n",
       " 'electricity production, nuclear, pressure water reactor' (kilowatt hour, US-RFC, None),\n",
       " 'electricity production, lignite' (kilowatt hour, US-SERC, None),\n",
       " 'market for electricity, low voltage' (kilowatt hour, US-SERC, None)]"
      ]
     },
     "execution_count": 9,
     "metadata": {},
     "output_type": "execute_result"
    }
   ],
   "source": [
    "elec = [i for i in bw.Database(eco8) \n",
    "             for loc in elec_locs \n",
    "             if (loc in i.as_dict()['location'])\n",
    "        and ('electricity' in i.as_dict()['name'])]\n",
    "elec"
   ]
  },
  {
   "cell_type": "markdown",
   "id": "e0e0f02c",
   "metadata": {},
   "source": [
    "We ignore \"production mix\" processes because they \"are only of informative\n",
    "character and it is NOT recommended to use the production mixes in your life\n",
    "cycle analysis, because the electricity markets represent electricity supply\" (per source above)."
   ]
  },
  {
   "cell_type": "markdown",
   "id": "0a57463a",
   "metadata": {},
   "source": [
    "### All activities that produce electricity from a single fuel type"
   ]
  },
  {
   "cell_type": "code",
   "execution_count": 10,
   "id": "f4e990ff",
   "metadata": {},
   "outputs": [
    {
     "data": {
      "text/plain": [
       "['electricity production, photovoltaic, 3kWp slanted-roof installation, multi-Si, panel, mounted' (kilowatt hour, US-SERC, None),\n",
       " 'electricity production, oil' (kilowatt hour, US-RFC, None),\n",
       " 'electricity production, deep geothermal' (kilowatt hour, US-WECC, None),\n",
       " 'electricity production, wind, >3MW turbine, onshore' (kilowatt hour, US-ASCC, None),\n",
       " 'electricity production, photovoltaic, 3kWp slanted-roof installation, single-Si, panel, mounted' (kilowatt hour, US-NPCC, None),\n",
       " 'electricity production, photovoltaic, 3kWp slanted-roof installation, single-Si, panel, mounted' (kilowatt hour, US-RFC, None),\n",
       " 'electricity production, lignite' (kilowatt hour, US-FRCC, None),\n",
       " 'electricity production, photovoltaic, 3kWp slanted-roof installation, multi-Si, panel, mounted' (kilowatt hour, US-TRE, None),\n",
       " 'electricity production, lignite' (kilowatt hour, US-ASCC, None),\n",
       " 'electricity production, hydro, run-of-river' (kilowatt hour, US-HICC, None),\n",
       " 'electricity production, photovoltaic, 3kWp slanted-roof installation, single-Si, panel, mounted' (kilowatt hour, US-WECC, None),\n",
       " 'electricity production, wind, >3MW turbine, onshore' (kilowatt hour, US-HICC, None),\n",
       " 'electricity production, photovoltaic, 3kWp slanted-roof installation, single-Si, panel, mounted' (kilowatt hour, US-TRE, None),\n",
       " 'electricity production, nuclear, pressure water reactor' (kilowatt hour, US-FRCC, None),\n",
       " 'electricity production, natural gas, combined cycle power plant' (kilowatt hour, US-MRO, None),\n",
       " 'electricity production, natural gas, conventional power plant' (kilowatt hour, US-RFC, None),\n",
       " 'electricity production, oil' (kilowatt hour, US-MRO, None),\n",
       " 'electricity production, hydro, pumped storage' (kilowatt hour, US-HICC, None),\n",
       " 'electricity production, photovoltaic, 570kWp open ground installation, multi-Si' (kilowatt hour, US-SERC, None),\n",
       " 'electricity production, oil' (kilowatt hour, US-FRCC, None),\n",
       " 'electricity production, wind, >3MW turbine, onshore' (kilowatt hour, US-NPCC, None),\n",
       " 'electricity production, hard coal' (kilowatt hour, US-FRCC, None),\n",
       " 'electricity production, hydro, run-of-river' (kilowatt hour, US-MRO, None),\n",
       " 'electricity production, hydro, reservoir, alpine region' (kilowatt hour, US-SERC, None),\n",
       " 'electricity production, solar thermal parabolic trough, 50 MW' (kilowatt hour, US-WECC, None),\n",
       " 'electricity production, wind, 1-3MW turbine, onshore' (kilowatt hour, US-HICC, None),\n",
       " 'electricity production, hydro, pumped storage' (kilowatt hour, US-MRO, None),\n",
       " 'electricity production, hydro, pumped storage' (kilowatt hour, US-SERC, None),\n",
       " 'electricity production, photovoltaic, 570kWp open ground installation, multi-Si' (kilowatt hour, US-RFC, None),\n",
       " 'electricity production, natural gas, conventional power plant' (kilowatt hour, US-SERC, None),\n",
       " 'electricity production, natural gas, conventional power plant' (kilowatt hour, US-WECC, None),\n",
       " 'electricity production, natural gas, combined cycle power plant' (kilowatt hour, US-ASCC, None),\n",
       " 'electricity production, photovoltaic, 3kWp slanted-roof installation, single-Si, panel, mounted' (kilowatt hour, US-FRCC, None),\n",
       " 'electricity production, oil' (kilowatt hour, US-WECC, None),\n",
       " 'electricity production, hydro, run-of-river' (kilowatt hour, US-TRE, None),\n",
       " 'electricity production, nuclear, pressure water reactor' (kilowatt hour, US-SERC, None),\n",
       " 'electricity production, photovoltaic, 3kWp slanted-roof installation, single-Si, panel, mounted' (kilowatt hour, US-HICC, None),\n",
       " 'electricity production, hydro, run-of-river' (kilowatt hour, US-NPCC, None),\n",
       " 'electricity production, natural gas, conventional power plant' (kilowatt hour, US-ASCC, None),\n",
       " 'electricity production, hydro, reservoir, alpine region' (kilowatt hour, US-RFC, None),\n",
       " 'electricity production, hydro, reservoir, alpine region' (kilowatt hour, US-NPCC, None),\n",
       " 'electricity production, hydro, reservoir, non-alpine region' (kilowatt hour, US-HICC, None),\n",
       " 'electricity production, deep geothermal' (kilowatt hour, US-SERC, None),\n",
       " 'electricity production, nuclear, boiling water reactor' (kilowatt hour, US-TRE, None),\n",
       " 'electricity production, nuclear, pressure water reactor' (kilowatt hour, US-RFC, None),\n",
       " 'electricity production, natural gas, conventional power plant' (kilowatt hour, US-MRO, None),\n",
       " 'electricity production, hydro, pumped storage' (kilowatt hour, US-WECC, None),\n",
       " 'electricity production, wind, 1-3MW turbine, onshore' (kilowatt hour, US-NPCC, None),\n",
       " 'electricity production, hard coal' (kilowatt hour, US-ASCC, None),\n",
       " 'electricity production, wind, >3MW turbine, onshore' (kilowatt hour, US-SERC, None),\n",
       " 'electricity production, hard coal' (kilowatt hour, US-NPCC, None),\n",
       " 'electricity production, lignite' (kilowatt hour, US-HICC, None),\n",
       " 'electricity production, hydro, reservoir, alpine region' (kilowatt hour, US-ASCC, None),\n",
       " 'electricity production, natural gas, conventional power plant' (kilowatt hour, US-FRCC, None),\n",
       " 'electricity production, nuclear, pressure water reactor' (kilowatt hour, US-TRE, None),\n",
       " 'electricity production, wind, >3MW turbine, onshore' (kilowatt hour, US-MRO, None),\n",
       " 'electricity production, photovoltaic, 3kWp slanted-roof installation, multi-Si, panel, mounted' (kilowatt hour, US-FRCC, None),\n",
       " 'electricity production, wind, <1MW turbine, onshore' (kilowatt hour, US-HICC, None),\n",
       " 'electricity production, nuclear, boiling water reactor' (kilowatt hour, US-RFC, None),\n",
       " 'electricity production, hydro, run-of-river' (kilowatt hour, US-ASCC, None),\n",
       " 'electricity production, lignite' (kilowatt hour, US-MRO, None),\n",
       " 'electricity production, natural gas, combined cycle power plant' (kilowatt hour, US-FRCC, None),\n",
       " 'electricity production, photovoltaic, 3kWp slanted-roof installation, multi-Si, panel, mounted' (kilowatt hour, US-WECC, None),\n",
       " 'electricity production, wind, 1-3MW turbine, onshore' (kilowatt hour, US-MRO, None),\n",
       " 'electricity production, nuclear, pressure water reactor' (kilowatt hour, US-NPCC, None),\n",
       " 'electricity production, wind, <1MW turbine, onshore' (kilowatt hour, US-SERC, None),\n",
       " 'electricity production, nuclear, boiling water reactor' (kilowatt hour, US-SERC, None),\n",
       " 'electricity production, natural gas, combined cycle power plant' (kilowatt hour, US-TRE, None),\n",
       " 'electricity production, natural gas, combined cycle power plant' (kilowatt hour, US-NPCC, None),\n",
       " 'electricity production, wind, >3MW turbine, onshore' (kilowatt hour, US-WECC, None),\n",
       " 'electricity production, hydro, run-of-river' (kilowatt hour, US-FRCC, None),\n",
       " 'electricity production, wind, <1MW turbine, onshore' (kilowatt hour, US-RFC, None),\n",
       " 'electricity production, hard coal' (kilowatt hour, US-SERC, None),\n",
       " 'electricity production, photovoltaic, 570kWp open ground installation, multi-Si' (kilowatt hour, US-NPCC, None),\n",
       " 'electricity production, photovoltaic, 570kWp open ground installation, multi-Si' (kilowatt hour, US-FRCC, None),\n",
       " 'electricity production, wind, 1-3MW turbine, onshore' (kilowatt hour, US-TRE, None),\n",
       " 'electricity production, natural gas, combined cycle power plant' (kilowatt hour, US-SERC, None),\n",
       " 'electricity production, hard coal' (kilowatt hour, US-HICC, None),\n",
       " 'electricity production, hydro, reservoir, non-alpine region' (kilowatt hour, US-FRCC, None),\n",
       " 'electricity production, nuclear, pressure water reactor' (kilowatt hour, US-MRO, None),\n",
       " 'electricity production, hard coal' (kilowatt hour, US-WECC, None),\n",
       " 'electricity production, photovoltaic, 570kWp open ground installation, multi-Si' (kilowatt hour, US-HICC, None),\n",
       " 'electricity production, wind, <1MW turbine, onshore' (kilowatt hour, US-TRE, None),\n",
       " 'electricity production, lignite' (kilowatt hour, US-WECC, None),\n",
       " 'electricity production, oil' (kilowatt hour, US-ASCC, None),\n",
       " 'electricity production, wind, <1MW turbine, onshore' (kilowatt hour, US-ASCC, None),\n",
       " 'electricity production, hydro, reservoir, alpine region' (kilowatt hour, US-MRO, None),\n",
       " 'electricity production, hydro, pumped storage' (kilowatt hour, US-RFC, None),\n",
       " 'electricity production, natural gas, conventional power plant' (kilowatt hour, US-TRE, None),\n",
       " 'electricity production, wind, >3MW turbine, onshore' (kilowatt hour, US-RFC, None),\n",
       " 'electricity production, wind, <1MW turbine, onshore' (kilowatt hour, US-NPCC, None),\n",
       " 'electricity production, hydro, pumped storage' (kilowatt hour, US-NPCC, None),\n",
       " 'electricity production, hydro, reservoir, non-alpine region' (kilowatt hour, US-TRE, None),\n",
       " 'electricity production, hydro, run-of-river' (kilowatt hour, US-WECC, None),\n",
       " 'electricity production, hard coal' (kilowatt hour, US-TRE, None),\n",
       " 'electricity production, nuclear, boiling water reactor' (kilowatt hour, US-FRCC, None),\n",
       " 'electricity production, photovoltaic, 3kWp slanted-roof installation, multi-Si, panel, mounted' (kilowatt hour, US-HICC, None),\n",
       " 'electricity production, lignite' (kilowatt hour, US-RFC, None),\n",
       " 'electricity production, hydro, reservoir, alpine region' (kilowatt hour, US-WECC, None),\n",
       " 'electricity production, hydro, run-of-river' (kilowatt hour, US-RFC, None),\n",
       " 'electricity production, wind, 1-3MW turbine, onshore' (kilowatt hour, US-RFC, None),\n",
       " 'electricity production, nuclear, boiling water reactor' (kilowatt hour, US-MRO, None),\n",
       " 'electricity production, wind, 1-3MW turbine, onshore' (kilowatt hour, US-ASCC, None),\n",
       " 'electricity production, photovoltaic, 3kWp slanted-roof installation, multi-Si, panel, mounted' (kilowatt hour, US-NPCC, None),\n",
       " 'electricity production, nuclear, boiling water reactor' (kilowatt hour, US-NPCC, None),\n",
       " 'electricity production, hydro, pumped storage' (kilowatt hour, US-ASCC, None),\n",
       " 'electricity production, wind, <1MW turbine, onshore' (kilowatt hour, US-WECC, None),\n",
       " 'electricity production, hard coal' (kilowatt hour, US-MRO, None),\n",
       " 'electricity production, oil' (kilowatt hour, US-NPCC, None),\n",
       " 'electricity production, lignite' (kilowatt hour, US-SERC, None),\n",
       " 'electricity production, lignite' (kilowatt hour, US-NPCC, None),\n",
       " 'electricity production, oil' (kilowatt hour, US-TRE, None),\n",
       " 'electricity production, natural gas, combined cycle power plant' (kilowatt hour, US-WECC, None),\n",
       " 'electricity production, oil' (kilowatt hour, US-SERC, None),\n",
       " 'electricity production, hydro, pumped storage' (kilowatt hour, US-TRE, None),\n",
       " 'electricity production, wind, 1-3MW turbine, onshore' (kilowatt hour, US-SERC, None),\n",
       " 'electricity production, nuclear, boiling water reactor' (kilowatt hour, US-WECC, None),\n",
       " 'electricity production, solar thermal parabolic trough, 50 MW' (kilowatt hour, US-FRCC, None),\n",
       " 'electricity production, photovoltaic, 570kWp open ground installation, multi-Si' (kilowatt hour, US-WECC, None),\n",
       " 'electricity production, hydro, pumped storage' (kilowatt hour, US-FRCC, None),\n",
       " 'electricity production, nuclear, pressure water reactor' (kilowatt hour, US-WECC, None),\n",
       " 'electricity production, oil' (kilowatt hour, US-HICC, None),\n",
       " 'electricity production, deep geothermal' (kilowatt hour, US-HICC, None),\n",
       " 'electricity production, wind, <1MW turbine, onshore' (kilowatt hour, US-MRO, None),\n",
       " 'electricity production, natural gas, conventional power plant' (kilowatt hour, US-NPCC, None),\n",
       " 'electricity production, solar tower power plant, 20 MW' (kilowatt hour, US-WECC, None),\n",
       " 'electricity production, wind, 1-3MW turbine, onshore' (kilowatt hour, US-WECC, None),\n",
       " 'electricity production, natural gas, combined cycle power plant' (kilowatt hour, US-RFC, None),\n",
       " 'electricity production, lignite' (kilowatt hour, US-TRE, None),\n",
       " 'electricity production, hydro, run-of-river' (kilowatt hour, US-SERC, None),\n",
       " 'electricity production, hard coal' (kilowatt hour, US-RFC, None),\n",
       " 'electricity production, photovoltaic, 3kWp slanted-roof installation, single-Si, panel, mounted' (kilowatt hour, US-SERC, None),\n",
       " 'electricity production, wind, >3MW turbine, onshore' (kilowatt hour, US-TRE, None),\n",
       " 'electricity production, photovoltaic, 3kWp slanted-roof installation, multi-Si, panel, mounted' (kilowatt hour, US-RFC, None)]"
      ]
     },
     "execution_count": 10,
     "metadata": {},
     "output_type": "execute_result"
    }
   ],
   "source": [
    "elecfuel7 = [i for i in bw.Database(eco7) \n",
    "             for loc in elec_locs \n",
    "             if (loc in i.as_dict()['location'])\n",
    "             and ('electricity production' in i.as_dict()['name'])]\n",
    "elecfuel7"
   ]
  },
  {
   "cell_type": "code",
   "execution_count": 11,
   "id": "c496dbff",
   "metadata": {},
   "outputs": [
    {
     "data": {
      "text/plain": [
       "['electricity production, wind, >3MW turbine, onshore' (kilowatt hour, US-MRO, None),\n",
       " 'electricity production, nuclear, boiling water reactor' (kilowatt hour, US-NPCC, None),\n",
       " 'electricity production, photovoltaic, 570kWp open ground installation, multi-Si' (kilowatt hour, US-SERC, None),\n",
       " 'electricity production, natural gas, combined cycle power plant' (kilowatt hour, US-WECC, None),\n",
       " 'electricity production, wind, 1-3MW turbine, onshore' (kilowatt hour, US-HICC, None),\n",
       " 'electricity production, photovoltaic, 3kWp slanted-roof installation, multi-Si, panel, mounted' (kilowatt hour, US-RFC, None),\n",
       " 'electricity production, natural gas, combined cycle power plant' (kilowatt hour, US-ASCC, None),\n",
       " 'electricity production, hard coal' (kilowatt hour, US-HICC, None),\n",
       " 'electricity production, photovoltaic, 3kWp slanted-roof installation, single-Si, panel, mounted' (kilowatt hour, US-SERC, None),\n",
       " 'electricity production, photovoltaic, 3kWp slanted-roof installation, multi-Si, panel, mounted' (kilowatt hour, US-HICC, None),\n",
       " 'electricity production, wind, 1-3MW turbine, onshore' (kilowatt hour, US-MRO, None),\n",
       " 'electricity production, solar thermal parabolic trough, 50 MW' (kilowatt hour, US-SERC, None),\n",
       " 'electricity production, wind, 1-3MW turbine, onshore' (kilowatt hour, US-NPCC, None),\n",
       " 'electricity production, hydro, pumped storage' (kilowatt hour, US-HICC, None),\n",
       " 'electricity production, wind, >3MW turbine, onshore' (kilowatt hour, US-NPCC, None),\n",
       " 'electricity production, hydro, run-of-river' (kilowatt hour, US-HICC, None),\n",
       " 'electricity production, hydro, pumped storage' (kilowatt hour, US-MRO, None),\n",
       " 'electricity production, hard coal' (kilowatt hour, US-MRO, None),\n",
       " 'electricity production, photovoltaic, 3kWp slanted-roof installation, single-Si, panel, mounted' (kilowatt hour, US-WECC, None),\n",
       " 'electricity production, wind, >3MW turbine, onshore' (kilowatt hour, US-SERC, None),\n",
       " 'electricity production, wind, <1MW turbine, onshore' (kilowatt hour, US-TRE, None),\n",
       " 'electricity production, wind, >3MW turbine, onshore' (kilowatt hour, US-RFC, None),\n",
       " 'electricity production, wind, <1MW turbine, onshore' (kilowatt hour, US-RFC, None),\n",
       " 'electricity production, solar thermal parabolic trough, 50 MW' (kilowatt hour, US-WECC, None),\n",
       " 'electricity production, photovoltaic, 3kWp slanted-roof installation, multi-Si, panel, mounted' (kilowatt hour, US-NPCC, None),\n",
       " 'electricity production, lignite' (kilowatt hour, US-HICC, None),\n",
       " 'electricity production, hydro, reservoir, alpine region' (kilowatt hour, US-SERC, None),\n",
       " 'electricity production, hydro, pumped storage' (kilowatt hour, US-RFC, None),\n",
       " 'electricity production, photovoltaic, 3kWp slanted-roof installation, multi-Si, panel, mounted' (kilowatt hour, US-SERC, None),\n",
       " 'electricity production, hydro, reservoir, alpine region' (kilowatt hour, US-MRO, None),\n",
       " 'electricity production, nuclear, boiling water reactor' (kilowatt hour, US-TRE, None),\n",
       " 'electricity production, photovoltaic, 3kWp slanted-roof installation, single-Si, panel, mounted' (kilowatt hour, US-HICC, None),\n",
       " 'electricity production, hydro, run-of-river' (kilowatt hour, US-WECC, None),\n",
       " 'electricity production, wind, <1MW turbine, onshore' (kilowatt hour, US-WECC, None),\n",
       " 'electricity production, hydro, pumped storage' (kilowatt hour, US-SERC, None),\n",
       " 'electricity production, lignite' (kilowatt hour, US-SERC, None),\n",
       " 'electricity production, nuclear, boiling water reactor' (kilowatt hour, US-SERC, None),\n",
       " 'electricity production, hard coal' (kilowatt hour, US-ASCC, None),\n",
       " 'electricity production, wind, 1-3MW turbine, onshore' (kilowatt hour, US-WECC, None),\n",
       " 'electricity production, oil' (kilowatt hour, US-RFC, None),\n",
       " 'electricity production, photovoltaic, 3kWp slanted-roof installation, single-Si, panel, mounted' (kilowatt hour, US-NPCC, None),\n",
       " 'electricity production, hydro, reservoir, non-alpine region' (kilowatt hour, US-SERC, None),\n",
       " 'electricity production, oil' (kilowatt hour, US-MRO, None),\n",
       " 'electricity production, natural gas, conventional power plant' (kilowatt hour, US-WECC, None),\n",
       " 'electricity production, solar tower power plant, 20 MW' (kilowatt hour, US-WECC, None),\n",
       " 'electricity production, photovoltaic, 570kWp open ground installation, multi-Si' (kilowatt hour, US-WECC, None),\n",
       " 'electricity production, hydro, run-of-river' (kilowatt hour, US-SERC, None),\n",
       " 'electricity production, natural gas, conventional power plant' (kilowatt hour, US-NPCC, None),\n",
       " 'electricity production, nuclear, pressure water reactor' (kilowatt hour, US-NPCC, None),\n",
       " 'electricity production, wind, >3MW turbine, onshore' (kilowatt hour, US-HICC, None),\n",
       " 'electricity production, nuclear, boiling water reactor' (kilowatt hour, US-MRO, None),\n",
       " 'electricity production, wind, >3MW turbine, onshore' (kilowatt hour, US-WECC, None),\n",
       " 'electricity production, lignite' (kilowatt hour, US-MRO, None),\n",
       " 'electricity production, natural gas, conventional power plant' (kilowatt hour, US-MRO, None),\n",
       " 'electricity production, hydro, reservoir, alpine region' (kilowatt hour, US-RFC, None),\n",
       " 'electricity production, nuclear, boiling water reactor' (kilowatt hour, US-WECC, None),\n",
       " 'electricity production, wind, <1MW turbine, onshore' (kilowatt hour, US-MRO, None),\n",
       " 'electricity production, hydro, pumped storage' (kilowatt hour, US-TRE, None),\n",
       " 'electricity production, photovoltaic, 3kWp slanted-roof installation, multi-Si, panel, mounted' (kilowatt hour, US-WECC, None),\n",
       " 'electricity production, wind, 1-3MW turbine, onshore' (kilowatt hour, US-RFC, None),\n",
       " 'electricity production, nuclear, pressure water reactor' (kilowatt hour, US-MRO, None),\n",
       " 'electricity production, hard coal' (kilowatt hour, US-TRE, None),\n",
       " 'electricity production, hydro, pumped storage' (kilowatt hour, US-NPCC, None),\n",
       " 'electricity production, wind, 1-3MW turbine, onshore' (kilowatt hour, US-TRE, None),\n",
       " 'electricity production, nuclear, pressure water reactor' (kilowatt hour, US-RFC, None),\n",
       " 'electricity production, natural gas, conventional power plant' (kilowatt hour, US-TRE, None),\n",
       " 'electricity production, hydro, reservoir, alpine region' (kilowatt hour, US-ASCC, None),\n",
       " 'electricity production, hydro, reservoir, alpine region' (kilowatt hour, US-WECC, None),\n",
       " 'electricity production, hydro, pumped storage' (kilowatt hour, US-WECC, None),\n",
       " 'electricity production, lignite' (kilowatt hour, US-WECC, None),\n",
       " 'electricity production, natural gas, combined cycle power plant' (kilowatt hour, US-RFC, None),\n",
       " 'electricity production, natural gas, combined cycle power plant' (kilowatt hour, US-NPCC, None),\n",
       " 'electricity production, photovoltaic, 3kWp slanted-roof installation, single-Si, panel, mounted' (kilowatt hour, US-TRE, None),\n",
       " 'electricity production, nuclear, boiling water reactor' (kilowatt hour, US-RFC, None),\n",
       " 'electricity production, hydro, run-of-river' (kilowatt hour, US-NPCC, None),\n",
       " 'electricity production, wind, >3MW turbine, onshore' (kilowatt hour, US-ASCC, None),\n",
       " 'electricity production, oil' (kilowatt hour, US-WECC, None),\n",
       " 'electricity production, hydro, pumped storage' (kilowatt hour, US-ASCC, None),\n",
       " 'electricity production, deep geothermal' (kilowatt hour, US-WECC, None),\n",
       " 'electricity production, nuclear, pressure water reactor' (kilowatt hour, US-SERC, None),\n",
       " 'electricity production, wind, >3MW turbine, onshore' (kilowatt hour, US-TRE, None),\n",
       " 'electricity production, wind, 1-3MW turbine, onshore' (kilowatt hour, US-SERC, None),\n",
       " 'electricity production, lignite' (kilowatt hour, US-TRE, None),\n",
       " 'electricity production, natural gas, conventional power plant' (kilowatt hour, US-SERC, None),\n",
       " 'electricity production, nuclear, pressure water reactor' (kilowatt hour, US-TRE, None),\n",
       " 'electricity production, photovoltaic, 570kWp open ground installation, multi-Si' (kilowatt hour, US-NPCC, None),\n",
       " 'electricity production, oil' (kilowatt hour, US-SERC, None),\n",
       " 'electricity production, photovoltaic, 570kWp open ground installation, multi-Si' (kilowatt hour, US-HICC, None),\n",
       " 'electricity production, hydro, reservoir, non-alpine region' (kilowatt hour, US-HICC, None),\n",
       " 'electricity production, wind, <1MW turbine, onshore' (kilowatt hour, US-SERC, None),\n",
       " 'electricity production, hard coal' (kilowatt hour, US-WECC, None),\n",
       " 'electricity production, hydro, run-of-river' (kilowatt hour, US-RFC, None),\n",
       " 'electricity production, natural gas, combined cycle power plant' (kilowatt hour, US-SERC, None),\n",
       " 'electricity production, hard coal' (kilowatt hour, US-RFC, None),\n",
       " 'electricity production, nuclear, pressure water reactor' (kilowatt hour, US-WECC, None),\n",
       " 'electricity production, wind, <1MW turbine, onshore' (kilowatt hour, US-HICC, None),\n",
       " 'electricity production, hydro, run-of-river' (kilowatt hour, US-TRE, None),\n",
       " 'electricity production, deep geothermal' (kilowatt hour, US-SERC, None),\n",
       " 'electricity production, oil' (kilowatt hour, US-TRE, None),\n",
       " 'electricity production, hard coal' (kilowatt hour, US-SERC, None),\n",
       " 'electricity production, wind, <1MW turbine, onshore' (kilowatt hour, US-NPCC, None),\n",
       " 'electricity production, photovoltaic, 3kWp slanted-roof installation, single-Si, panel, mounted' (kilowatt hour, US-RFC, None),\n",
       " 'electricity production, lignite' (kilowatt hour, US-RFC, None),\n",
       " 'electricity production, photovoltaic, 570kWp open ground installation, multi-Si' (kilowatt hour, US-RFC, None),\n",
       " 'electricity production, hydro, run-of-river' (kilowatt hour, US-MRO, None),\n",
       " 'electricity production, deep geothermal' (kilowatt hour, US-HICC, None),\n",
       " 'electricity production, lignite' (kilowatt hour, US-ASCC, None),\n",
       " 'electricity production, oil' (kilowatt hour, US-NPCC, None),\n",
       " 'electricity production, natural gas, conventional power plant' (kilowatt hour, US-ASCC, None),\n",
       " 'electricity production, hydro, reservoir, non-alpine region' (kilowatt hour, US-TRE, None),\n",
       " 'electricity production, hydro, run-of-river' (kilowatt hour, US-ASCC, None),\n",
       " 'electricity production, photovoltaic, 3kWp slanted-roof installation, multi-Si, panel, mounted' (kilowatt hour, US-TRE, None),\n",
       " 'electricity production, wind, 1-3MW turbine, onshore' (kilowatt hour, US-ASCC, None),\n",
       " 'electricity production, oil' (kilowatt hour, US-ASCC, None),\n",
       " 'electricity production, hydro, reservoir, alpine region' (kilowatt hour, US-NPCC, None),\n",
       " 'electricity production, lignite' (kilowatt hour, US-NPCC, None),\n",
       " 'electricity production, oil' (kilowatt hour, US-HICC, None),\n",
       " 'electricity production, natural gas, conventional power plant' (kilowatt hour, US-RFC, None),\n",
       " 'electricity production, natural gas, combined cycle power plant' (kilowatt hour, US-MRO, None),\n",
       " 'electricity production, hard coal' (kilowatt hour, US-NPCC, None),\n",
       " 'electricity production, wind, <1MW turbine, onshore' (kilowatt hour, US-ASCC, None),\n",
       " 'electricity production, natural gas, combined cycle power plant' (kilowatt hour, US-TRE, None)]"
      ]
     },
     "execution_count": 11,
     "metadata": {},
     "output_type": "execute_result"
    }
   ],
   "source": [
    "elecfuel8 = [i for i in bw.Database(eco8) \n",
    "             for loc in elec_locs \n",
    "             if (loc in i.as_dict()['location'])\n",
    "             and ('electricity production' in i.as_dict()['name'])]\n",
    "elecfuel8"
   ]
  },
  {
   "cell_type": "markdown",
   "id": "f106d57e",
   "metadata": {},
   "source": [
    "## Electricity market groups\n",
    "There are \"market for electricity\" and \"market group\" processes. The \"market groups\" combine grid mixes from the various U.S. regions into a national grid mix for use as an input to U.S. activities."
   ]
  },
  {
   "cell_type": "code",
   "execution_count": 12,
   "id": "5653bd30",
   "metadata": {},
   "outputs": [
    {
     "data": {
      "text/plain": [
       "['market group for electricity, low voltage' (kilowatt hour, US, None),\n",
       " 'market group for electricity, medium voltage' (kilowatt hour, US, None),\n",
       " 'market group for electricity, high voltage' (kilowatt hour, US, None)]"
      ]
     },
     "execution_count": 12,
     "metadata": {},
     "output_type": "execute_result"
    }
   ],
   "source": [
    "elecmarketgroup7 = [i for i in bw.Database(eco7) \n",
    "             if ('US' in i.as_dict()['location'])\n",
    "             and ('market group for electricity' in i.as_dict()['name'])]\n",
    "elecmarketgroup7"
   ]
  },
  {
   "cell_type": "code",
   "execution_count": 13,
   "id": "29b6f612",
   "metadata": {},
   "outputs": [
    {
     "data": {
      "text/plain": [
       "['market group for electricity, high voltage' (kilowatt hour, US, None),\n",
       " 'market group for electricity, medium voltage' (kilowatt hour, US, None),\n",
       " 'market group for electricity, low voltage' (kilowatt hour, US, None)]"
      ]
     },
     "execution_count": 13,
     "metadata": {},
     "output_type": "execute_result"
    }
   ],
   "source": [
    "elecmarketgroup8 = [i for i in bw.Database(eco8) \n",
    "             if ('US' in i.as_dict()['location'])\n",
    "             and ('market group for electricity' in i.as_dict()['name'])]\n",
    "elecmarketgroup8"
   ]
  },
  {
   "cell_type": "code",
   "execution_count": 14,
   "id": "25fab27e",
   "metadata": {},
   "outputs": [
    {
     "data": {
      "text/plain": [
       "[Exchange: 1.0 kilowatt hour 'market group for electricity, low voltage' (kilowatt hour, US, None) to 'market group for electricity, low voltage' (kilowatt hour, US, None)>,\n",
       " Exchange: 0.00126295779431007 kilowatt hour 'market for electricity, low voltage' (kilowatt hour, US-ASCC, None) to 'market group for electricity, low voltage' (kilowatt hour, US, None)>,\n",
       " Exchange: 0.0549542401770875 kilowatt hour 'market for electricity, low voltage' (kilowatt hour, US-FRCC, None) to 'market group for electricity, low voltage' (kilowatt hour, US, None)>,\n",
       " Exchange: 0.00222184618979088 kilowatt hour 'market for electricity, low voltage' (kilowatt hour, US-HICC, None) to 'market group for electricity, low voltage' (kilowatt hour, US, None)>,\n",
       " Exchange: 0.111492323654095 kilowatt hour 'market for electricity, low voltage' (kilowatt hour, US-MRO, None) to 'market group for electricity, low voltage' (kilowatt hour, US, None)>,\n",
       " Exchange: 0.0636235121033833 kilowatt hour 'market for electricity, low voltage' (kilowatt hour, US-NPCC, None) to 'market group for electricity, low voltage' (kilowatt hour, US, None)>,\n",
       " Exchange: 0.222506106061545 kilowatt hour 'market for electricity, low voltage' (kilowatt hour, US-RFC, None) to 'market group for electricity, low voltage' (kilowatt hour, US, None)>,\n",
       " Exchange: 0.270481830203255 kilowatt hour 'market for electricity, low voltage' (kilowatt hour, US-SERC, None) to 'market group for electricity, low voltage' (kilowatt hour, US, None)>,\n",
       " Exchange: 0.0955805853338892 kilowatt hour 'market for electricity, low voltage' (kilowatt hour, US-TRE, None) to 'market group for electricity, low voltage' (kilowatt hour, US, None)>,\n",
       " Exchange: 0.177876598482644 kilowatt hour 'market for electricity, low voltage' (kilowatt hour, US-WECC, None) to 'market group for electricity, low voltage' (kilowatt hour, US, None)>]"
      ]
     },
     "execution_count": 14,
     "metadata": {},
     "output_type": "execute_result"
    }
   ],
   "source": [
    "market1_7=elecmarketgroup7[0]\n",
    "[i for i in bw.Database(eco7).get(market1_7.key[1]).exchanges()]"
   ]
  },
  {
   "cell_type": "code",
   "execution_count": 15,
   "id": "6930a4c4",
   "metadata": {},
   "outputs": [
    {
     "data": {
      "text/plain": [
       "[Exchange: 1.0 kilowatt hour 'market group for electricity, high voltage' (kilowatt hour, US, None) to 'market group for electricity, high voltage' (kilowatt hour, US, None)>,\n",
       " Exchange: 0.00103199174406605 kilowatt hour 'market for electricity, high voltage' (kilowatt hour, US-ASCC, None) to 'market group for electricity, high voltage' (kilowatt hour, US, None)>,\n",
       " Exchange: 0.00206398348813209 kilowatt hour 'market for electricity, high voltage' (kilowatt hour, US-HICC, None) to 'market group for electricity, high voltage' (kilowatt hour, US, None)>,\n",
       " Exchange: 0.0670794633642931 kilowatt hour 'market for electricity, high voltage' (kilowatt hour, US-MRO, None) to 'market group for electricity, high voltage' (kilowatt hour, US, None)>,\n",
       " Exchange: 0.0629514963880289 kilowatt hour 'market for electricity, high voltage' (kilowatt hour, US-NPCC, None) to 'market group for electricity, high voltage' (kilowatt hour, US, None)>,\n",
       " Exchange: 0.251805985552116 kilowatt hour 'market for electricity, high voltage' (kilowatt hour, US-RFC, None) to 'market group for electricity, high voltage' (kilowatt hour, US, None)>,\n",
       " Exchange: 0.323013415892673 kilowatt hour 'market for electricity, high voltage' (kilowatt hour, US-SERC, None) to 'market group for electricity, high voltage' (kilowatt hour, US, None)>,\n",
       " Exchange: 0.104231166150671 kilowatt hour 'market for electricity, high voltage' (kilowatt hour, US-TRE, None) to 'market group for electricity, high voltage' (kilowatt hour, US, None)>,\n",
       " Exchange: 0.187822497420021 kilowatt hour 'market for electricity, high voltage' (kilowatt hour, US-WECC, None) to 'market group for electricity, high voltage' (kilowatt hour, US, None)>]"
      ]
     },
     "execution_count": 15,
     "metadata": {},
     "output_type": "execute_result"
    }
   ],
   "source": [
    "market1_8=elecmarketgroup8[0]\n",
    "[i for i in bw.Database(eco8).get(market1_8.key[1]).exchanges()]"
   ]
  },
  {
   "cell_type": "markdown",
   "id": "5bf44173",
   "metadata": {},
   "source": [
    "## Market for electricity (region-specific grid mixes by voltage)\n",
    "\n",
    "The \"market for electricity\" processes within each voltage level will tell us the grid mix."
   ]
  },
  {
   "cell_type": "code",
   "execution_count": 16,
   "id": "111feec5",
   "metadata": {},
   "outputs": [
    {
     "data": {
      "text/plain": [
       "['market for electricity, medium voltage' (kilowatt hour, US-MRO, None),\n",
       " 'market for electricity, low voltage' (kilowatt hour, US-NPCC, None),\n",
       " 'market for electricity, high voltage' (kilowatt hour, US-TRE, None),\n",
       " 'market for electricity, high voltage' (kilowatt hour, US-WECC, None),\n",
       " 'market for electricity, low voltage' (kilowatt hour, US-MRO, None),\n",
       " 'market for electricity, low voltage' (kilowatt hour, US-TRE, None),\n",
       " 'market for electricity, medium voltage' (kilowatt hour, US-RFC, None),\n",
       " 'market for electricity, low voltage' (kilowatt hour, US-ASCC, None),\n",
       " 'market for electricity, low voltage' (kilowatt hour, US-SERC, None),\n",
       " 'market for electricity, medium voltage' (kilowatt hour, US-WECC, None),\n",
       " 'market for electricity, medium voltage' (kilowatt hour, US-ASCC, None),\n",
       " 'market for electricity, medium voltage' (kilowatt hour, US-HICC, None),\n",
       " 'market for electricity, high voltage' (kilowatt hour, US-MRO, None),\n",
       " 'market for electricity, high voltage' (kilowatt hour, US-RFC, None),\n",
       " 'market for electricity, low voltage' (kilowatt hour, US-RFC, None),\n",
       " 'market for electricity, low voltage' (kilowatt hour, US-FRCC, None),\n",
       " 'market for electricity, low voltage' (kilowatt hour, US-WECC, None),\n",
       " 'market for electricity, high voltage' (kilowatt hour, US-HICC, None),\n",
       " 'market for electricity, medium voltage' (kilowatt hour, US-FRCC, None),\n",
       " 'market for electricity, high voltage' (kilowatt hour, US-SERC, None),\n",
       " 'market for electricity, high voltage' (kilowatt hour, US-ASCC, None),\n",
       " 'market for electricity, high voltage' (kilowatt hour, US-FRCC, None),\n",
       " 'market for electricity, medium voltage' (kilowatt hour, US-SERC, None),\n",
       " 'market for electricity, medium voltage' (kilowatt hour, US-TRE, None),\n",
       " 'market for electricity, low voltage' (kilowatt hour, US-HICC, None),\n",
       " 'market for electricity, medium voltage' (kilowatt hour, US-NPCC, None),\n",
       " 'market for electricity, high voltage' (kilowatt hour, US-NPCC, None)]"
      ]
     },
     "execution_count": 16,
     "metadata": {},
     "output_type": "execute_result"
    }
   ],
   "source": [
    "elecmixes7 = [i for i in bw.Database(eco7) \n",
    "             for loc in elec_locs \n",
    "             if (loc in i.as_dict()['location'])\n",
    "             and ('market for electricity' in i.as_dict()['name'])]\n",
    "elecmixes7"
   ]
  },
  {
   "cell_type": "code",
   "execution_count": 17,
   "id": "6e98df0a",
   "metadata": {},
   "outputs": [
    {
     "data": {
      "text/plain": [
       "['market for electricity, low voltage' (kilowatt hour, US-SERC, None),\n",
       " 'market for electricity, medium voltage' (kilowatt hour, US-HICC, None),\n",
       " 'market for electricity, medium voltage' (kilowatt hour, US-TRE, None),\n",
       " 'market for electricity, medium voltage' (kilowatt hour, US-NPCC, None),\n",
       " 'market for electricity, high voltage' (kilowatt hour, US-NPCC, None),\n",
       " 'market for electricity, low voltage' (kilowatt hour, US-MRO, None),\n",
       " 'market for electricity, medium voltage' (kilowatt hour, US-RFC, None),\n",
       " 'market for electricity, medium voltage' (kilowatt hour, US-ASCC, None),\n",
       " 'market for electricity, high voltage' (kilowatt hour, US-ASCC, None),\n",
       " 'market for electricity, high voltage' (kilowatt hour, US-MRO, None),\n",
       " 'market for electricity, high voltage' (kilowatt hour, US-RFC, None),\n",
       " 'market for electricity, low voltage' (kilowatt hour, US-WECC, None),\n",
       " 'market for electricity, high voltage' (kilowatt hour, US-TRE, None),\n",
       " 'market for electricity, high voltage' (kilowatt hour, US-WECC, None),\n",
       " 'market for electricity, low voltage' (kilowatt hour, US-TRE, None),\n",
       " 'market for electricity, low voltage' (kilowatt hour, US-ASCC, None),\n",
       " 'market for electricity, high voltage' (kilowatt hour, US-SERC, None),\n",
       " 'market for electricity, medium voltage' (kilowatt hour, US-WECC, None),\n",
       " 'market for electricity, low voltage' (kilowatt hour, US-RFC, None),\n",
       " 'market for electricity, medium voltage' (kilowatt hour, US-MRO, None),\n",
       " 'market for electricity, low voltage' (kilowatt hour, US-NPCC, None),\n",
       " 'market for electricity, low voltage' (kilowatt hour, US-HICC, None),\n",
       " 'market for electricity, medium voltage' (kilowatt hour, US-SERC, None),\n",
       " 'market for electricity, high voltage' (kilowatt hour, US-HICC, None)]"
      ]
     },
     "execution_count": 17,
     "metadata": {},
     "output_type": "execute_result"
    }
   ],
   "source": [
    "elecmixes8 = [i for i in bw.Database(eco8) \n",
    "             for loc in elec_locs \n",
    "             if (loc in i.as_dict()['location'])\n",
    "             and ('market for electricity' in i.as_dict()['name'])]\n",
    "elecmixes8"
   ]
  },
  {
   "cell_type": "markdown",
   "id": "f5324996",
   "metadata": {},
   "source": [
    "What do the exchanges look like for these \"market for electricity\" processes? \n",
    "\n",
    "### Low voltage process."
   ]
  },
  {
   "cell_type": "code",
   "execution_count": 18,
   "id": "7b8099c6",
   "metadata": {},
   "outputs": [
    {
     "data": {
      "text/plain": [
       "'market for electricity, low voltage' (kilowatt hour, US-NPCC, None)"
      ]
     },
     "execution_count": 18,
     "metadata": {},
     "output_type": "execute_result"
    }
   ],
   "source": [
    "mix7_1 = [i for i in elecmixes7 if 'low' in i.as_dict()['name']][0]\n",
    "mix7_1"
   ]
  },
  {
   "cell_type": "code",
   "execution_count": 19,
   "id": "8c6a1455",
   "metadata": {},
   "outputs": [
    {
     "data": {
      "text/plain": [
       "[Exchange: 1.0 kilowatt hour 'market for electricity, low voltage' (kilowatt hour, US-NPCC, None) to 'market for electricity, low voltage' (kilowatt hour, US-NPCC, None)>,\n",
       " Exchange: 8.74048809653223e-08 kilometer 'market for distribution network, electricity, low voltage' (kilometer, GLO, None) to 'market for electricity, low voltage' (kilowatt hour, US-NPCC, None)>,\n",
       " Exchange: 7.79e-09 kilogram 'market for sulfur hexafluoride, liquid' (kilogram, RoW, None) to 'market for electricity, low voltage' (kilowatt hour, US-NPCC, None)>,\n",
       " Exchange: 0.0026099707227365 kilowatt hour 'electricity production, photovoltaic, 3kWp slanted-roof installation, multi-Si, panel, mounted' (kilowatt hour, US-NPCC, None) to 'market for electricity, low voltage' (kilowatt hour, US-NPCC, None)>,\n",
       " Exchange: 0.00209563184950604 kilowatt hour 'electricity production, photovoltaic, 3kWp slanted-roof installation, single-Si, panel, mounted' (kilowatt hour, US-NPCC, None) to 'market for electricity, low voltage' (kilowatt hour, US-NPCC, None)>,\n",
       " Exchange: 0.00434915377631523 kilowatt hour 'electricity production, photovoltaic, 570kWp open ground installation, multi-Si' (kilowatt hour, US-NPCC, None) to 'market for electricity, low voltage' (kilowatt hour, US-NPCC, None)>,\n",
       " Exchange: 0.990945243651442 kilowatt hour 'electricity voltage transformation from medium to low voltage' (kilowatt hour, US-NPCC, None) to 'market for electricity, low voltage' (kilowatt hour, US-NPCC, None)>,\n",
       " Exchange: 0.0224594511522364 kilowatt hour 'market for electricity, low voltage' (kilowatt hour, US-NPCC, None) to 'market for electricity, low voltage' (kilowatt hour, US-NPCC, None)>,\n",
       " Exchange: 7.79e-09 kilogram 'Sulfur hexafluoride' (kilogram, None, ('air',)) to 'market for electricity, low voltage' (kilowatt hour, US-NPCC, None)>]"
      ]
     },
     "execution_count": 19,
     "metadata": {},
     "output_type": "execute_result"
    }
   ],
   "source": [
    "[i for i in bw.Database(eco7).get(mix7_1.key[1]).exchanges()]"
   ]
  },
  {
   "cell_type": "code",
   "execution_count": 20,
   "id": "692b481e",
   "metadata": {},
   "outputs": [
    {
     "data": {
      "text/plain": [
       "'market for electricity, low voltage' (kilowatt hour, US-SERC, None)"
      ]
     },
     "execution_count": 20,
     "metadata": {},
     "output_type": "execute_result"
    }
   ],
   "source": [
    "mix8_1 = [i for i in elecmixes8 if 'low' in i.as_dict()['name']][0]\n",
    "mix8_1"
   ]
  },
  {
   "cell_type": "code",
   "execution_count": 21,
   "id": "cc53a022",
   "metadata": {},
   "outputs": [
    {
     "data": {
      "text/plain": [
       "[Exchange: 8.74048809653223e-08 kilometer 'market for distribution network, electricity, low voltage' (kilometer, GLO, None) to 'market for electricity, low voltage' (kilowatt hour, US-SERC, None)>,\n",
       " Exchange: 7.79e-09 kilogram 'market for sulfur hexafluoride, liquid' (kilogram, RoW, None) to 'market for electricity, low voltage' (kilowatt hour, US-SERC, None)>,\n",
       " Exchange: 1.0 kilowatt hour 'market for electricity, low voltage' (kilowatt hour, US-SERC, None) to 'market for electricity, low voltage' (kilowatt hour, US-SERC, None)>,\n",
       " Exchange: 0.330521516968893 kilowatt hour 'electricity production, photovoltaic, 3kWp slanted-roof installation, multi-Si, panel, mounted' (kilowatt hour, US-SERC, None) to 'market for electricity, low voltage' (kilowatt hour, US-SERC, None)>,\n",
       " Exchange: 0.669478483031106 kilowatt hour 'electricity voltage transformation from medium to low voltage' (kilowatt hour, US-SERC, None) to 'market for electricity, low voltage' (kilowatt hour, US-SERC, None)>,\n",
       " Exchange: 0.024 kilowatt hour 'market for electricity, low voltage' (kilowatt hour, US-SERC, None) to 'market for electricity, low voltage' (kilowatt hour, US-SERC, None)>,\n",
       " Exchange: 7.79e-09 kilogram 'Sulfur hexafluoride' (kilogram, None, ('air',)) to 'market for electricity, low voltage' (kilowatt hour, US-SERC, None)>]"
      ]
     },
     "execution_count": 21,
     "metadata": {},
     "output_type": "execute_result"
    }
   ],
   "source": [
    "[i for i in bw.Database(eco8).get(mix8_1.key[1]).exchanges()]"
   ]
  },
  {
   "cell_type": "markdown",
   "id": "9b8a5a95",
   "metadata": {},
   "source": [
    "In this low-voltage process, there's a tiny fraction of solar electricity being added to electricity that's converted from medium voltage. The solar electricity is coming from two types of roof installations and a multi-SI ground installation. Total electricity from these additional generating processes is less than 0.006 kWh per kWh of low voltage electricity."
   ]
  },
  {
   "cell_type": "markdown",
   "id": "76b88b18",
   "metadata": {},
   "source": [
    "### Medium voltage process."
   ]
  },
  {
   "cell_type": "code",
   "execution_count": 22,
   "id": "793a89e8",
   "metadata": {},
   "outputs": [
    {
     "data": {
      "text/plain": [
       "'market for electricity, medium voltage' (kilowatt hour, US-MRO, None)"
      ]
     },
     "execution_count": 22,
     "metadata": {},
     "output_type": "execute_result"
    }
   ],
   "source": [
    "mix7_2 = [i for i in elecmixes7 if 'medium' in i.as_dict()['name']][0]\n",
    "mix7_2"
   ]
  },
  {
   "cell_type": "code",
   "execution_count": 23,
   "id": "304c6733",
   "metadata": {},
   "outputs": [
    {
     "data": {
      "text/plain": [
       "[Exchange: 1.86277676887616e-08 kilometer 'market for transmission network, electricity, medium voltage' (kilometer, GLO, None) to 'market for electricity, medium voltage' (kilowatt hour, US-MRO, None)>,\n",
       " Exchange: 1.29e-07 kilogram 'market for sulfur hexafluoride, liquid' (kilogram, RoW, None) to 'market for electricity, medium voltage' (kilowatt hour, US-MRO, None)>,\n",
       " Exchange: 1.0 kilowatt hour 'market for electricity, medium voltage' (kilowatt hour, US-MRO, None) to 'market for electricity, medium voltage' (kilowatt hour, US-MRO, None)>,\n",
       " Exchange: 0.998580457982689 kilowatt hour 'electricity voltage transformation from high to medium voltage' (kilowatt hour, US-MRO, None) to 'market for electricity, medium voltage' (kilowatt hour, US-MRO, None)>,\n",
       " Exchange: 0.00141954201731061 kilowatt hour 'electricity, from municipal waste incineration to generic market for electricity, medium voltage' (kilowatt hour, RoW, None) to 'market for electricity, medium voltage' (kilowatt hour, US-MRO, None)>,\n",
       " Exchange: 0.00304028681588521 kilowatt hour 'market for electricity, medium voltage' (kilowatt hour, US-MRO, None) to 'market for electricity, medium voltage' (kilowatt hour, US-MRO, None)>,\n",
       " Exchange: 1.29e-07 kilogram 'Sulfur hexafluoride' (kilogram, None, ('air',)) to 'market for electricity, medium voltage' (kilowatt hour, US-MRO, None)>]"
      ]
     },
     "execution_count": 23,
     "metadata": {},
     "output_type": "execute_result"
    }
   ],
   "source": [
    "[i for i in bw.Database(eco7).get(mix7_2.key[1]).exchanges()]"
   ]
  },
  {
   "cell_type": "code",
   "execution_count": 24,
   "id": "6bf96c47",
   "metadata": {},
   "outputs": [
    {
     "data": {
      "text/plain": [
       "'market for electricity, medium voltage' (kilowatt hour, US-HICC, None)"
      ]
     },
     "execution_count": 24,
     "metadata": {},
     "output_type": "execute_result"
    }
   ],
   "source": [
    "mix8_2 = [i for i in elecmixes8 if 'medium' in i.as_dict()['name']][0]\n",
    "mix8_2"
   ]
  },
  {
   "cell_type": "code",
   "execution_count": 25,
   "id": "6504f1c9",
   "metadata": {},
   "outputs": [
    {
     "data": {
      "text/plain": [
       "[Exchange: 1.29e-07 kilogram 'market for sulfur hexafluoride, liquid' (kilogram, RoW, None) to 'market for electricity, medium voltage' (kilowatt hour, US-HICC, None)>,\n",
       " Exchange: 1.0 kilowatt hour 'market for electricity, medium voltage' (kilowatt hour, US-HICC, None) to 'market for electricity, medium voltage' (kilowatt hour, US-HICC, None)>,\n",
       " Exchange: 1.86277676887616e-08 kilometer 'market for transmission network, electricity, medium voltage' (kilometer, GLO, None) to 'market for electricity, medium voltage' (kilowatt hour, US-HICC, None)>,\n",
       " Exchange: 1.0 kilowatt hour 'electricity voltage transformation from high to medium voltage' (kilowatt hour, US-HICC, None) to 'market for electricity, medium voltage' (kilowatt hour, US-HICC, None)>,\n",
       " Exchange: 0.0033 kilowatt hour 'market for electricity, medium voltage' (kilowatt hour, US-HICC, None) to 'market for electricity, medium voltage' (kilowatt hour, US-HICC, None)>,\n",
       " Exchange: 1.29e-07 kilogram 'Sulfur hexafluoride' (kilogram, None, ('air',)) to 'market for electricity, medium voltage' (kilowatt hour, US-HICC, None)>]"
      ]
     },
     "execution_count": 25,
     "metadata": {},
     "output_type": "execute_result"
    }
   ],
   "source": [
    "[i for i in bw.Database(eco8).get(mix8_2.key[1]).exchanges()]"
   ]
  },
  {
   "cell_type": "markdown",
   "id": "beac92dd",
   "metadata": {},
   "source": [
    "At medium voltage, there's again some electricity generation being added to electricity converted from high voltage. The new generation is only from municipal waste incineration, 0.001 kWh per kWh medium voltage electricity. There is also some parasitic consumption, 0.003 kWh per kWh."
   ]
  },
  {
   "cell_type": "markdown",
   "id": "5922cf93",
   "metadata": {},
   "source": [
    "### High voltage process - where most of the grid mix definition takes place."
   ]
  },
  {
   "cell_type": "code",
   "execution_count": 26,
   "id": "e704c780",
   "metadata": {},
   "outputs": [
    {
     "data": {
      "text/plain": [
       "'market for electricity, high voltage' (kilowatt hour, US-TRE, None)"
      ]
     },
     "execution_count": 26,
     "metadata": {},
     "output_type": "execute_result"
    }
   ],
   "source": [
    "mix7_3 = [i for i in elecmixes7 if 'high' in i.as_dict()['name']][0]\n",
    "mix7_3"
   ]
  },
  {
   "cell_type": "code",
   "execution_count": 27,
   "id": "99586a9e",
   "metadata": {},
   "outputs": [
    {
     "data": {
      "text/plain": [
       "[Exchange: 6.58209848825026e-09 kilometer 'market for transmission network, electricity, high voltage' (kilometer, GLO, None) to 'market for electricity, high voltage' (kilowatt hour, US-TRE, None)>,\n",
       " Exchange: 1.0 kilowatt hour 'market for electricity, high voltage' (kilowatt hour, US-TRE, None) to 'market for electricity, high voltage' (kilowatt hour, US-TRE, None)>,\n",
       " Exchange: 3.17e-10 kilometer 'market for transmission network, long-distance' (kilometer, GLO, None) to 'market for electricity, high voltage' (kilowatt hour, US-TRE, None)>,\n",
       " Exchange: 0.000454781829741937 kilowatt hour 'electricity production, hydro, reservoir, non-alpine region' (kilowatt hour, US-TRE, None) to 'market for electricity, high voltage' (kilowatt hour, US-TRE, None)>,\n",
       " Exchange: 0.00181913606218204 kilowatt hour 'electricity production, hydro, run-of-river' (kilowatt hour, US-TRE, None) to 'market for electricity, high voltage' (kilowatt hour, US-TRE, None)>,\n",
       " Exchange: 0.230933914519861 kilowatt hour 'electricity production, lignite' (kilowatt hour, US-TRE, None) to 'market for electricity, high voltage' (kilowatt hour, US-TRE, None)>,\n",
       " Exchange: 0.292198896546062 kilowatt hour 'electricity production, natural gas, combined cycle power plant' (kilowatt hour, US-TRE, None) to 'market for electricity, high voltage' (kilowatt hour, US-TRE, None)>,\n",
       " Exchange: 0.0279835644063281 kilowatt hour 'electricity production, natural gas, conventional power plant' (kilowatt hour, US-TRE, None) to 'market for electricity, high voltage' (kilowatt hour, US-TRE, None)>,\n",
       " Exchange: 0.0324982267377492 kilowatt hour 'electricity production, nuclear, boiling water reactor' (kilowatt hour, US-TRE, None) to 'market for electricity, high voltage' (kilowatt hour, US-TRE, None)>,\n",
       " Exchange: 0.0690328664544416 kilowatt hour 'electricity production, nuclear, pressure water reactor' (kilowatt hour, US-TRE, None) to 'market for electricity, high voltage' (kilowatt hour, US-TRE, None)>,\n",
       " Exchange: 1.54568050571639e-06 kilowatt hour 'electricity production, oil' (kilowatt hour, US-TRE, None) to 'market for electricity, high voltage' (kilowatt hour, US-TRE, None)>,\n",
       " Exchange: 0.158081936959336 kilowatt hour 'electricity production, wind, 1-3MW turbine, onshore' (kilowatt hour, US-TRE, None) to 'market for electricity, high voltage' (kilowatt hour, US-TRE, None)>,\n",
       " Exchange: 0.0132520449153257 kilowatt hour 'electricity production, wind, <1MW turbine, onshore' (kilowatt hour, US-TRE, None) to 'market for electricity, high voltage' (kilowatt hour, US-TRE, None)>,\n",
       " Exchange: 0.00136093698715868 kilowatt hour 'electricity production, wind, >3MW turbine, onshore' (kilowatt hour, US-TRE, None) to 'market for electricity, high voltage' (kilowatt hour, US-TRE, None)>,\n",
       " Exchange: 0.00276502012399126 kilowatt hour 'electricity, high voltage, import from MX' (kilowatt hour, US-TRE, None) to 'market for electricity, high voltage' (kilowatt hour, US-TRE, None)>,\n",
       " Exchange: 0.00108919692529532 kilowatt hour 'heat and power co-generation, biogas, gas engine' (kilowatt hour, US-TRE, None) to 'market for electricity, high voltage' (kilowatt hour, US-TRE, None)>,\n",
       " Exchange: 0.000408841121962575 kilowatt hour 'heat and power co-generation, hard coal' (kilowatt hour, RoW, None) to 'market for electricity, high voltage' (kilowatt hour, US-TRE, None)>,\n",
       " Exchange: 0.130798124623101 kilowatt hour 'heat and power co-generation, natural gas, combined cycle power plant, 400MW electrical' (kilowatt hour, US-TRE, None) to 'market for electricity, high voltage' (kilowatt hour, US-TRE, None)>,\n",
       " Exchange: 0.035842430258233 kilowatt hour 'heat and power co-generation, natural gas, conventional power plant, 100MW electrical' (kilowatt hour, US-TRE, None) to 'market for electricity, high voltage' (kilowatt hour, US-TRE, None)>,\n",
       " Exchange: 1.42981609779187e-07 kilowatt hour 'heat and power co-generation, oil' (kilowatt hour, US-TRE, None) to 'market for electricity, high voltage' (kilowatt hour, US-TRE, None)>,\n",
       " Exchange: 0.00147839286711427 kilowatt hour 'heat and power co-generation, wood chips, 6667 kW, state-of-the-art 2014' (kilowatt hour, US-TRE, None) to 'market for electricity, high voltage' (kilowatt hour, US-TRE, None)>,\n",
       " Exchange: 0.0227174345336083 kilowatt hour 'market for electricity, high voltage' (kilowatt hour, US-TRE, None) to 'market for electricity, high voltage' (kilowatt hour, US-TRE, None)>,\n",
       " Exchange: 5e-06 kilogram 'Dinitrogen monoxide' (kilogram, None, ('air',)) to 'market for electricity, high voltage' (kilowatt hour, US-TRE, None)>,\n",
       " Exchange: 4.15772755242894e-06 kilogram 'Ozone' (kilogram, None, ('air',)) to 'market for electricity, high voltage' (kilowatt hour, US-TRE, None)>]"
      ]
     },
     "execution_count": 27,
     "metadata": {},
     "output_type": "execute_result"
    }
   ],
   "source": [
    "[i for i in bw.Database(eco7).get(mix7_3.key[1]).exchanges()]"
   ]
  },
  {
   "cell_type": "code",
   "execution_count": 28,
   "id": "c2ca607f",
   "metadata": {},
   "outputs": [
    {
     "data": {
      "text/plain": [
       "'market for electricity, high voltage' (kilowatt hour, US-NPCC, None)"
      ]
     },
     "execution_count": 28,
     "metadata": {},
     "output_type": "execute_result"
    }
   ],
   "source": [
    "mix8_3 =  [i for i in elecmixes8 if 'high' in i.as_dict()['name']][0]\n",
    "mix8_3"
   ]
  },
  {
   "cell_type": "code",
   "execution_count": 29,
   "id": "6b34f157",
   "metadata": {},
   "outputs": [
    {
     "data": {
      "text/plain": [
       "[Exchange: 6.58209848825026e-09 kilometer 'market for transmission network, electricity, high voltage' (kilometer, GLO, None) to 'market for electricity, high voltage' (kilowatt hour, US-NPCC, None)>,\n",
       " Exchange: 1.0 kilowatt hour 'market for electricity, high voltage' (kilowatt hour, US-NPCC, None) to 'market for electricity, high voltage' (kilowatt hour, US-NPCC, None)>,\n",
       " Exchange: 3.17e-10 kilometer 'market for transmission network, long-distance' (kilometer, GLO, None) to 'market for electricity, high voltage' (kilowatt hour, US-NPCC, None)>,\n",
       " Exchange: 0.0427272259671179 kilowatt hour 'electricity production, deep geothermal' (kilowatt hour, RoW, None) to 'market for electricity, high voltage' (kilowatt hour, US-NPCC, None)>,\n",
       " Exchange: 0.0236680116769202 kilowatt hour 'electricity production, hydro, reservoir, alpine region' (kilowatt hour, US-NPCC, None) to 'market for electricity, high voltage' (kilowatt hour, US-NPCC, None)>,\n",
       " Exchange: 0.0946720467076809 kilowatt hour 'electricity production, hydro, run-of-river' (kilowatt hour, US-NPCC, None) to 'market for electricity, high voltage' (kilowatt hour, US-NPCC, None)>,\n",
       " Exchange: 0.288413463289911 kilowatt hour 'electricity production, natural gas, combined cycle power plant' (kilowatt hour, US-NPCC, None) to 'market for electricity, high voltage' (kilowatt hour, US-NPCC, None)>,\n",
       " Exchange: 0.55051925235837 kilowatt hour 'electricity production, wind, >3MW turbine, onshore' (kilowatt hour, US-NPCC, None) to 'market for electricity, high voltage' (kilowatt hour, US-NPCC, None)>,\n",
       " Exchange: 0.024 kilowatt hour 'market for electricity, high voltage' (kilowatt hour, US-NPCC, None) to 'market for electricity, high voltage' (kilowatt hour, US-NPCC, None)>,\n",
       " Exchange: 4.15772755242894e-06 kilogram 'Ozone' (kilogram, None, ('air',)) to 'market for electricity, high voltage' (kilowatt hour, US-NPCC, None)>,\n",
       " Exchange: 5e-06 kilogram 'Dinitrogen monoxide' (kilogram, None, ('air',)) to 'market for electricity, high voltage' (kilowatt hour, US-NPCC, None)>]"
      ]
     },
     "execution_count": 29,
     "metadata": {},
     "output_type": "execute_result"
    }
   ],
   "source": [
    "[i for i in bw.Database(eco8).get(mix8_3.key[1]).exchanges()]"
   ]
  },
  {
   "cell_type": "markdown",
   "id": "cc191c42",
   "metadata": {},
   "source": [
    "### Exchanges for (inputs to) high-voltage electricity processes\n",
    "\n",
    "The high voltage process is where the vast majority of the grid mix definition takes place. In this process, the following power generator types are used (fuels or renewables)\n",
    "\n",
    "For ecoinvent3.7.1 cut-off:\n",
    "\n",
    "*BN: The cells below will break at some index because the exchanges past that point are in biosphere, not ecoinvent. *"
   ]
  },
  {
   "cell_type": "code",
   "execution_count": 36,
   "id": "b4bf4ef9",
   "metadata": {},
   "outputs": [
    {
     "name": "stdout",
     "output_type": "stream",
     "text": [
      "0 'market for transmission network, electricity, high voltage' (kilometer, GLO, None)\n",
      "1 'market for electricity, high voltage' (kilowatt hour, US-TRE, None)\n",
      "2 'market for transmission network, long-distance' (kilometer, GLO, None)\n",
      "3 'electricity production, hydro, reservoir, non-alpine region' (kilowatt hour, US-TRE, None)\n",
      "4 'electricity production, hydro, run-of-river' (kilowatt hour, US-TRE, None)\n",
      "5 'electricity production, lignite' (kilowatt hour, US-TRE, None)\n",
      "6 'electricity production, natural gas, combined cycle power plant' (kilowatt hour, US-TRE, None)\n",
      "7 'electricity production, natural gas, conventional power plant' (kilowatt hour, US-TRE, None)\n",
      "8 'electricity production, nuclear, boiling water reactor' (kilowatt hour, US-TRE, None)\n",
      "9 'electricity production, nuclear, pressure water reactor' (kilowatt hour, US-TRE, None)\n",
      "10 'electricity production, oil' (kilowatt hour, US-TRE, None)\n",
      "11 'electricity production, wind, 1-3MW turbine, onshore' (kilowatt hour, US-TRE, None)\n",
      "12 'electricity production, wind, <1MW turbine, onshore' (kilowatt hour, US-TRE, None)\n",
      "13 'electricity production, wind, >3MW turbine, onshore' (kilowatt hour, US-TRE, None)\n",
      "14 'electricity, high voltage, import from MX' (kilowatt hour, US-TRE, None)\n",
      "15 'heat and power co-generation, biogas, gas engine' (kilowatt hour, US-TRE, None)\n",
      "16 'heat and power co-generation, hard coal' (kilowatt hour, RoW, None)\n",
      "17 'heat and power co-generation, natural gas, combined cycle power plant, 400MW electrical' (kilowatt hour, US-TRE, None)\n",
      "18 'heat and power co-generation, natural gas, conventional power plant, 100MW electrical' (kilowatt hour, US-TRE, None)\n",
      "19 'heat and power co-generation, oil' (kilowatt hour, US-TRE, None)\n",
      "20 'heat and power co-generation, wood chips, 6667 kW, state-of-the-art 2014' (kilowatt hour, US-TRE, None)\n",
      "21 'market for electricity, high voltage' (kilowatt hour, US-TRE, None)\n"
     ]
    },
    {
     "ename": "ActivityDatasetDoesNotExist",
     "evalue": "<Model: ActivityDataset> instance matching query does not exist:\nSQL: SELECT \"t1\".\"id\", \"t1\".\"data\", \"t1\".\"code\", \"t1\".\"database\", \"t1\".\"location\", \"t1\".\"name\", \"t1\".\"product\", \"t1\".\"type\" FROM \"activitydataset\" AS \"t1\" WHERE ((\"t1\".\"database\" = ?) AND (\"t1\".\"code\" = ?)) ORDER BY Random() LIMIT ? OFFSET ?\nParams: ['ecoinvent3.7.1 cut-off', '20185046-64bb-4c09-a8e7-e8a9e144ca98', 1, 0]",
     "output_type": "error",
     "traceback": [
      "\u001b[1;31m---------------------------------------------------------------------------\u001b[0m",
      "\u001b[1;31mIndexError\u001b[0m                                Traceback (most recent call last)",
      "\u001b[1;32m~\\AppData\\Local\\Continuum\\anaconda3\\envs\\autobw\\lib\\site-packages\\peewee.py\u001b[0m in \u001b[0;36mget\u001b[1;34m(self, database)\u001b[0m\n\u001b[0;32m   6883\u001b[0m         \u001b[1;32mtry\u001b[0m\u001b[1;33m:\u001b[0m\u001b[1;33m\u001b[0m\u001b[1;33m\u001b[0m\u001b[0m\n\u001b[1;32m-> 6884\u001b[1;33m             \u001b[1;32mreturn\u001b[0m \u001b[0mclone\u001b[0m\u001b[1;33m.\u001b[0m\u001b[0mexecute\u001b[0m\u001b[1;33m(\u001b[0m\u001b[0mdatabase\u001b[0m\u001b[1;33m)\u001b[0m\u001b[1;33m[\u001b[0m\u001b[1;36m0\u001b[0m\u001b[1;33m]\u001b[0m\u001b[1;33m\u001b[0m\u001b[1;33m\u001b[0m\u001b[0m\n\u001b[0m\u001b[0;32m   6885\u001b[0m         \u001b[1;32mexcept\u001b[0m \u001b[0mIndexError\u001b[0m\u001b[1;33m:\u001b[0m\u001b[1;33m\u001b[0m\u001b[1;33m\u001b[0m\u001b[0m\n",
      "\u001b[1;32m~\\AppData\\Local\\Continuum\\anaconda3\\envs\\autobw\\lib\\site-packages\\peewee.py\u001b[0m in \u001b[0;36m__getitem__\u001b[1;34m(self, item)\u001b[0m\n\u001b[0;32m   4274\u001b[0m             \u001b[0mself\u001b[0m\u001b[1;33m.\u001b[0m\u001b[0mfill_cache\u001b[0m\u001b[1;33m(\u001b[0m\u001b[0mitem\u001b[0m \u001b[1;32mif\u001b[0m \u001b[0mitem\u001b[0m \u001b[1;33m>\u001b[0m \u001b[1;36m0\u001b[0m \u001b[1;32melse\u001b[0m \u001b[1;36m0\u001b[0m\u001b[1;33m)\u001b[0m\u001b[1;33m\u001b[0m\u001b[1;33m\u001b[0m\u001b[0m\n\u001b[1;32m-> 4275\u001b[1;33m             \u001b[1;32mreturn\u001b[0m \u001b[0mself\u001b[0m\u001b[1;33m.\u001b[0m\u001b[0mrow_cache\u001b[0m\u001b[1;33m[\u001b[0m\u001b[0mitem\u001b[0m\u001b[1;33m]\u001b[0m\u001b[1;33m\u001b[0m\u001b[1;33m\u001b[0m\u001b[0m\n\u001b[0m\u001b[0;32m   4276\u001b[0m         \u001b[1;32melse\u001b[0m\u001b[1;33m:\u001b[0m\u001b[1;33m\u001b[0m\u001b[1;33m\u001b[0m\u001b[0m\n",
      "\u001b[1;31mIndexError\u001b[0m: list index out of range",
      "\nDuring handling of the above exception, another exception occurred:\n",
      "\u001b[1;31mActivityDatasetDoesNotExist\u001b[0m               Traceback (most recent call last)",
      "\u001b[1;32m~\\AppData\\Local\\Temp\\1/ipykernel_8312/3114746554.py\u001b[0m in \u001b[0;36m<module>\u001b[1;34m\u001b[0m\n\u001b[0;32m      1\u001b[0m \u001b[0mexkey\u001b[0m \u001b[1;33m=\u001b[0m \u001b[1;33m[\u001b[0m\u001b[0mi\u001b[0m\u001b[1;33m.\u001b[0m\u001b[0mas_dict\u001b[0m\u001b[1;33m(\u001b[0m\u001b[1;33m)\u001b[0m\u001b[1;33m[\u001b[0m\u001b[1;34m'input'\u001b[0m\u001b[1;33m]\u001b[0m\u001b[1;33m[\u001b[0m\u001b[1;36m1\u001b[0m\u001b[1;33m]\u001b[0m \u001b[1;32mfor\u001b[0m \u001b[0mi\u001b[0m \u001b[1;32min\u001b[0m \u001b[0mbw\u001b[0m\u001b[1;33m.\u001b[0m\u001b[0mDatabase\u001b[0m\u001b[1;33m(\u001b[0m\u001b[0meco7\u001b[0m\u001b[1;33m)\u001b[0m\u001b[1;33m.\u001b[0m\u001b[0mget\u001b[0m\u001b[1;33m(\u001b[0m\u001b[0mmix7_3\u001b[0m\u001b[1;33m.\u001b[0m\u001b[0mkey\u001b[0m\u001b[1;33m[\u001b[0m\u001b[1;36m1\u001b[0m\u001b[1;33m]\u001b[0m\u001b[1;33m)\u001b[0m\u001b[1;33m.\u001b[0m\u001b[0mexchanges\u001b[0m\u001b[1;33m(\u001b[0m\u001b[1;33m)\u001b[0m\u001b[1;33m]\u001b[0m\u001b[1;33m\u001b[0m\u001b[1;33m\u001b[0m\u001b[0m\n\u001b[0;32m      2\u001b[0m \u001b[1;32mfor\u001b[0m \u001b[0mi\u001b[0m \u001b[1;32min\u001b[0m \u001b[0mlist\u001b[0m\u001b[1;33m(\u001b[0m\u001b[0mnp\u001b[0m\u001b[1;33m.\u001b[0m\u001b[0marange\u001b[0m\u001b[1;33m(\u001b[0m\u001b[0mlen\u001b[0m\u001b[1;33m(\u001b[0m\u001b[0mexkey\u001b[0m\u001b[1;33m)\u001b[0m\u001b[1;33m)\u001b[0m\u001b[1;33m)\u001b[0m\u001b[1;33m:\u001b[0m\u001b[1;33m\u001b[0m\u001b[1;33m\u001b[0m\u001b[0m\n\u001b[1;32m----> 3\u001b[1;33m     \u001b[0mprint\u001b[0m\u001b[1;33m(\u001b[0m\u001b[0mi\u001b[0m\u001b[1;33m,\u001b[0m \u001b[0mbw\u001b[0m\u001b[1;33m.\u001b[0m\u001b[0mDatabase\u001b[0m\u001b[1;33m(\u001b[0m\u001b[0meco7\u001b[0m\u001b[1;33m)\u001b[0m\u001b[1;33m.\u001b[0m\u001b[0mget\u001b[0m\u001b[1;33m(\u001b[0m\u001b[0mexkey\u001b[0m\u001b[1;33m[\u001b[0m\u001b[0mi\u001b[0m\u001b[1;33m]\u001b[0m\u001b[1;33m)\u001b[0m\u001b[1;33m)\u001b[0m\u001b[1;33m\u001b[0m\u001b[1;33m\u001b[0m\u001b[0m\n\u001b[0m",
      "\u001b[1;32m~\\AppData\\Local\\Continuum\\anaconda3\\envs\\autobw\\lib\\site-packages\\bw2data\\backends\\peewee\\database.py\u001b[0m in \u001b[0;36mget\u001b[1;34m(self, code)\u001b[0m\n\u001b[0;32m    130\u001b[0m     \u001b[1;32mdef\u001b[0m \u001b[0mget\u001b[0m\u001b[1;33m(\u001b[0m\u001b[0mself\u001b[0m\u001b[1;33m,\u001b[0m \u001b[0mcode\u001b[0m\u001b[1;33m)\u001b[0m\u001b[1;33m:\u001b[0m\u001b[1;33m\u001b[0m\u001b[1;33m\u001b[0m\u001b[0m\n\u001b[0;32m    131\u001b[0m         return Activity(\n\u001b[1;32m--> 132\u001b[1;33m             self._get_queryset(filters=False).where(\n\u001b[0m\u001b[0;32m    133\u001b[0m                 ActivityDataset.code == code).get()\n\u001b[0;32m    134\u001b[0m         )\n",
      "\u001b[1;32m~\\AppData\\Local\\Continuum\\anaconda3\\envs\\autobw\\lib\\site-packages\\peewee.py\u001b[0m in \u001b[0;36mget\u001b[1;34m(self, database)\u001b[0m\n\u001b[0;32m   6885\u001b[0m         \u001b[1;32mexcept\u001b[0m \u001b[0mIndexError\u001b[0m\u001b[1;33m:\u001b[0m\u001b[1;33m\u001b[0m\u001b[1;33m\u001b[0m\u001b[0m\n\u001b[0;32m   6886\u001b[0m             \u001b[0msql\u001b[0m\u001b[1;33m,\u001b[0m \u001b[0mparams\u001b[0m \u001b[1;33m=\u001b[0m \u001b[0mclone\u001b[0m\u001b[1;33m.\u001b[0m\u001b[0msql\u001b[0m\u001b[1;33m(\u001b[0m\u001b[1;33m)\u001b[0m\u001b[1;33m\u001b[0m\u001b[1;33m\u001b[0m\u001b[0m\n\u001b[1;32m-> 6887\u001b[1;33m             raise self.model.DoesNotExist('%s instance matching query does '\n\u001b[0m\u001b[0;32m   6888\u001b[0m                                           \u001b[1;34m'not exist:\\nSQL: %s\\nParams: %s'\u001b[0m \u001b[1;33m%\u001b[0m\u001b[1;33m\u001b[0m\u001b[1;33m\u001b[0m\u001b[0m\n\u001b[0;32m   6889\u001b[0m                                           (clone.model, sql, params))\n",
      "\u001b[1;31mActivityDatasetDoesNotExist\u001b[0m: <Model: ActivityDataset> instance matching query does not exist:\nSQL: SELECT \"t1\".\"id\", \"t1\".\"data\", \"t1\".\"code\", \"t1\".\"database\", \"t1\".\"location\", \"t1\".\"name\", \"t1\".\"product\", \"t1\".\"type\" FROM \"activitydataset\" AS \"t1\" WHERE ((\"t1\".\"database\" = ?) AND (\"t1\".\"code\" = ?)) ORDER BY Random() LIMIT ? OFFSET ?\nParams: ['ecoinvent3.7.1 cut-off', '20185046-64bb-4c09-a8e7-e8a9e144ca98', 1, 0]"
     ]
    }
   ],
   "source": [
    "exkey = [i.as_dict()['input'][1] for i in bw.Database(eco7).get(mix7_3.key[1]).exchanges()]\n",
    "for i in list(np.arange(len(exkey))):\n",
    "    print(i, bw.Database(eco7).get(exkey[i]))"
   ]
  },
  {
   "cell_type": "markdown",
   "id": "f2628bb1",
   "metadata": {},
   "source": [
    "For ecoinvent 3.8 cons:"
   ]
  },
  {
   "cell_type": "code",
   "execution_count": 37,
   "id": "bc3ba4d5",
   "metadata": {},
   "outputs": [
    {
     "name": "stdout",
     "output_type": "stream",
     "text": [
      "0 'market for transmission network, electricity, high voltage' (kilometer, GLO, None)\n",
      "1 'market for electricity, high voltage' (kilowatt hour, US-NPCC, None)\n",
      "2 'market for transmission network, long-distance' (kilometer, GLO, None)\n",
      "3 'electricity production, deep geothermal' (kilowatt hour, RoW, None)\n",
      "4 'electricity production, hydro, reservoir, alpine region' (kilowatt hour, US-NPCC, None)\n",
      "5 'electricity production, hydro, run-of-river' (kilowatt hour, US-NPCC, None)\n",
      "6 'electricity production, natural gas, combined cycle power plant' (kilowatt hour, US-NPCC, None)\n",
      "7 'electricity production, wind, >3MW turbine, onshore' (kilowatt hour, US-NPCC, None)\n",
      "8 'market for electricity, high voltage' (kilowatt hour, US-NPCC, None)\n"
     ]
    },
    {
     "ename": "ActivityDatasetDoesNotExist",
     "evalue": "<Model: ActivityDataset> instance matching query does not exist:\nSQL: SELECT \"t1\".\"id\", \"t1\".\"data\", \"t1\".\"code\", \"t1\".\"database\", \"t1\".\"location\", \"t1\".\"name\", \"t1\".\"product\", \"t1\".\"type\" FROM \"activitydataset\" AS \"t1\" WHERE ((\"t1\".\"database\" = ?) AND (\"t1\".\"code\" = ?)) ORDER BY Random() LIMIT ? OFFSET ?\nParams: ['ecoinvent3.8 cons', '2058d91e-bb9f-4fce-8e53-131825b14a23', 1, 0]",
     "output_type": "error",
     "traceback": [
      "\u001b[1;31m---------------------------------------------------------------------------\u001b[0m",
      "\u001b[1;31mIndexError\u001b[0m                                Traceback (most recent call last)",
      "\u001b[1;32m~\\AppData\\Local\\Continuum\\anaconda3\\envs\\autobw\\lib\\site-packages\\peewee.py\u001b[0m in \u001b[0;36mget\u001b[1;34m(self, database)\u001b[0m\n\u001b[0;32m   6883\u001b[0m         \u001b[1;32mtry\u001b[0m\u001b[1;33m:\u001b[0m\u001b[1;33m\u001b[0m\u001b[1;33m\u001b[0m\u001b[0m\n\u001b[1;32m-> 6884\u001b[1;33m             \u001b[1;32mreturn\u001b[0m \u001b[0mclone\u001b[0m\u001b[1;33m.\u001b[0m\u001b[0mexecute\u001b[0m\u001b[1;33m(\u001b[0m\u001b[0mdatabase\u001b[0m\u001b[1;33m)\u001b[0m\u001b[1;33m[\u001b[0m\u001b[1;36m0\u001b[0m\u001b[1;33m]\u001b[0m\u001b[1;33m\u001b[0m\u001b[1;33m\u001b[0m\u001b[0m\n\u001b[0m\u001b[0;32m   6885\u001b[0m         \u001b[1;32mexcept\u001b[0m \u001b[0mIndexError\u001b[0m\u001b[1;33m:\u001b[0m\u001b[1;33m\u001b[0m\u001b[1;33m\u001b[0m\u001b[0m\n",
      "\u001b[1;32m~\\AppData\\Local\\Continuum\\anaconda3\\envs\\autobw\\lib\\site-packages\\peewee.py\u001b[0m in \u001b[0;36m__getitem__\u001b[1;34m(self, item)\u001b[0m\n\u001b[0;32m   4274\u001b[0m             \u001b[0mself\u001b[0m\u001b[1;33m.\u001b[0m\u001b[0mfill_cache\u001b[0m\u001b[1;33m(\u001b[0m\u001b[0mitem\u001b[0m \u001b[1;32mif\u001b[0m \u001b[0mitem\u001b[0m \u001b[1;33m>\u001b[0m \u001b[1;36m0\u001b[0m \u001b[1;32melse\u001b[0m \u001b[1;36m0\u001b[0m\u001b[1;33m)\u001b[0m\u001b[1;33m\u001b[0m\u001b[1;33m\u001b[0m\u001b[0m\n\u001b[1;32m-> 4275\u001b[1;33m             \u001b[1;32mreturn\u001b[0m \u001b[0mself\u001b[0m\u001b[1;33m.\u001b[0m\u001b[0mrow_cache\u001b[0m\u001b[1;33m[\u001b[0m\u001b[0mitem\u001b[0m\u001b[1;33m]\u001b[0m\u001b[1;33m\u001b[0m\u001b[1;33m\u001b[0m\u001b[0m\n\u001b[0m\u001b[0;32m   4276\u001b[0m         \u001b[1;32melse\u001b[0m\u001b[1;33m:\u001b[0m\u001b[1;33m\u001b[0m\u001b[1;33m\u001b[0m\u001b[0m\n",
      "\u001b[1;31mIndexError\u001b[0m: list index out of range",
      "\nDuring handling of the above exception, another exception occurred:\n",
      "\u001b[1;31mActivityDatasetDoesNotExist\u001b[0m               Traceback (most recent call last)",
      "\u001b[1;32m~\\AppData\\Local\\Temp\\1/ipykernel_8312/3762905846.py\u001b[0m in \u001b[0;36m<module>\u001b[1;34m\u001b[0m\n\u001b[0;32m      1\u001b[0m \u001b[0mexkey\u001b[0m \u001b[1;33m=\u001b[0m \u001b[1;33m[\u001b[0m\u001b[0mi\u001b[0m\u001b[1;33m.\u001b[0m\u001b[0mas_dict\u001b[0m\u001b[1;33m(\u001b[0m\u001b[1;33m)\u001b[0m\u001b[1;33m[\u001b[0m\u001b[1;34m'input'\u001b[0m\u001b[1;33m]\u001b[0m\u001b[1;33m[\u001b[0m\u001b[1;36m1\u001b[0m\u001b[1;33m]\u001b[0m \u001b[1;32mfor\u001b[0m \u001b[0mi\u001b[0m \u001b[1;32min\u001b[0m \u001b[0mbw\u001b[0m\u001b[1;33m.\u001b[0m\u001b[0mDatabase\u001b[0m\u001b[1;33m(\u001b[0m\u001b[0meco8\u001b[0m\u001b[1;33m)\u001b[0m\u001b[1;33m.\u001b[0m\u001b[0mget\u001b[0m\u001b[1;33m(\u001b[0m\u001b[0mmix8_3\u001b[0m\u001b[1;33m.\u001b[0m\u001b[0mkey\u001b[0m\u001b[1;33m[\u001b[0m\u001b[1;36m1\u001b[0m\u001b[1;33m]\u001b[0m\u001b[1;33m)\u001b[0m\u001b[1;33m.\u001b[0m\u001b[0mexchanges\u001b[0m\u001b[1;33m(\u001b[0m\u001b[1;33m)\u001b[0m\u001b[1;33m]\u001b[0m\u001b[1;33m\u001b[0m\u001b[1;33m\u001b[0m\u001b[0m\n\u001b[0;32m      2\u001b[0m \u001b[1;32mfor\u001b[0m \u001b[0mi\u001b[0m \u001b[1;32min\u001b[0m \u001b[0mlist\u001b[0m\u001b[1;33m(\u001b[0m\u001b[0mnp\u001b[0m\u001b[1;33m.\u001b[0m\u001b[0marange\u001b[0m\u001b[1;33m(\u001b[0m\u001b[0mlen\u001b[0m\u001b[1;33m(\u001b[0m\u001b[0mexkey\u001b[0m\u001b[1;33m)\u001b[0m\u001b[1;33m)\u001b[0m\u001b[1;33m)\u001b[0m\u001b[1;33m:\u001b[0m\u001b[1;33m\u001b[0m\u001b[1;33m\u001b[0m\u001b[0m\n\u001b[1;32m----> 3\u001b[1;33m     \u001b[0mprint\u001b[0m\u001b[1;33m(\u001b[0m\u001b[0mi\u001b[0m\u001b[1;33m,\u001b[0m \u001b[0mbw\u001b[0m\u001b[1;33m.\u001b[0m\u001b[0mDatabase\u001b[0m\u001b[1;33m(\u001b[0m\u001b[0meco8\u001b[0m\u001b[1;33m)\u001b[0m\u001b[1;33m.\u001b[0m\u001b[0mget\u001b[0m\u001b[1;33m(\u001b[0m\u001b[0mexkey\u001b[0m\u001b[1;33m[\u001b[0m\u001b[0mi\u001b[0m\u001b[1;33m]\u001b[0m\u001b[1;33m)\u001b[0m\u001b[1;33m)\u001b[0m\u001b[1;33m\u001b[0m\u001b[1;33m\u001b[0m\u001b[0m\n\u001b[0m",
      "\u001b[1;32m~\\AppData\\Local\\Continuum\\anaconda3\\envs\\autobw\\lib\\site-packages\\bw2data\\backends\\peewee\\database.py\u001b[0m in \u001b[0;36mget\u001b[1;34m(self, code)\u001b[0m\n\u001b[0;32m    130\u001b[0m     \u001b[1;32mdef\u001b[0m \u001b[0mget\u001b[0m\u001b[1;33m(\u001b[0m\u001b[0mself\u001b[0m\u001b[1;33m,\u001b[0m \u001b[0mcode\u001b[0m\u001b[1;33m)\u001b[0m\u001b[1;33m:\u001b[0m\u001b[1;33m\u001b[0m\u001b[1;33m\u001b[0m\u001b[0m\n\u001b[0;32m    131\u001b[0m         return Activity(\n\u001b[1;32m--> 132\u001b[1;33m             self._get_queryset(filters=False).where(\n\u001b[0m\u001b[0;32m    133\u001b[0m                 ActivityDataset.code == code).get()\n\u001b[0;32m    134\u001b[0m         )\n",
      "\u001b[1;32m~\\AppData\\Local\\Continuum\\anaconda3\\envs\\autobw\\lib\\site-packages\\peewee.py\u001b[0m in \u001b[0;36mget\u001b[1;34m(self, database)\u001b[0m\n\u001b[0;32m   6885\u001b[0m         \u001b[1;32mexcept\u001b[0m \u001b[0mIndexError\u001b[0m\u001b[1;33m:\u001b[0m\u001b[1;33m\u001b[0m\u001b[1;33m\u001b[0m\u001b[0m\n\u001b[0;32m   6886\u001b[0m             \u001b[0msql\u001b[0m\u001b[1;33m,\u001b[0m \u001b[0mparams\u001b[0m \u001b[1;33m=\u001b[0m \u001b[0mclone\u001b[0m\u001b[1;33m.\u001b[0m\u001b[0msql\u001b[0m\u001b[1;33m(\u001b[0m\u001b[1;33m)\u001b[0m\u001b[1;33m\u001b[0m\u001b[1;33m\u001b[0m\u001b[0m\n\u001b[1;32m-> 6887\u001b[1;33m             raise self.model.DoesNotExist('%s instance matching query does '\n\u001b[0m\u001b[0;32m   6888\u001b[0m                                           \u001b[1;34m'not exist:\\nSQL: %s\\nParams: %s'\u001b[0m \u001b[1;33m%\u001b[0m\u001b[1;33m\u001b[0m\u001b[1;33m\u001b[0m\u001b[0m\n\u001b[0;32m   6889\u001b[0m                                           (clone.model, sql, params))\n",
      "\u001b[1;31mActivityDatasetDoesNotExist\u001b[0m: <Model: ActivityDataset> instance matching query does not exist:\nSQL: SELECT \"t1\".\"id\", \"t1\".\"data\", \"t1\".\"code\", \"t1\".\"database\", \"t1\".\"location\", \"t1\".\"name\", \"t1\".\"product\", \"t1\".\"type\" FROM \"activitydataset\" AS \"t1\" WHERE ((\"t1\".\"database\" = ?) AND (\"t1\".\"code\" = ?)) ORDER BY Random() LIMIT ? OFFSET ?\nParams: ['ecoinvent3.8 cons', '2058d91e-bb9f-4fce-8e53-131825b14a23', 1, 0]"
     ]
    }
   ],
   "source": [
    "exkey = [i.as_dict()['input'][1] for i in bw.Database(eco8).get(mix8_3.key[1]).exchanges()]\n",
    "for i in list(np.arange(len(exkey))):\n",
    "    print(i, bw.Database(eco8).get(exkey[i]))"
   ]
  }
 ],
 "metadata": {
  "kernelspec": {
   "display_name": "Python 3 (ipykernel)",
   "language": "python",
   "name": "python3"
  },
  "language_info": {
   "codemirror_mode": {
    "name": "ipython",
    "version": 3
   },
   "file_extension": ".py",
   "mimetype": "text/x-python",
   "name": "python",
   "nbconvert_exporter": "python",
   "pygments_lexer": "ipython3",
   "version": "3.9.7"
  }
 },
 "nbformat": 4,
 "nbformat_minor": 5
}
